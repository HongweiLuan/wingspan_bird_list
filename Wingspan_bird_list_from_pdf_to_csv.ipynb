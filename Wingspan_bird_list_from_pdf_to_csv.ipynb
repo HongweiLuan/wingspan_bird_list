{
 "cells": [
  {
   "cell_type": "markdown",
   "metadata": {
    "toc": true
   },
   "source": [
    "<h1>Table of Contents<span class=\"tocSkip\"></span></h1>\n",
    "<div class=\"toc\"><ul class=\"toc-item\"></ul></div>"
   ]
  },
  {
   "cell_type": "markdown",
   "metadata": {},
   "source": [
    "In this notebook, we will extract English names of birds in Wingspan from pdf table and populate them into a table then translate into Chinese names in a csv file."
   ]
  },
  {
   "cell_type": "code",
   "execution_count": 1,
   "metadata": {
    "ExecuteTime": {
     "end_time": "2020-11-15T21:32:32.043427Z",
     "start_time": "2020-11-15T21:32:32.041549Z"
    }
   },
   "outputs": [
    {
     "name": "stdout",
     "output_type": "stream",
     "text": [
      "The history saving thread hit an unexpected error (DatabaseError('database disk image is malformed')).History will not be written to the database.\n"
     ]
    }
   ],
   "source": [
    "# !pip install tabula-py\n",
    "# !pip install textract\n",
    "# pip install googletrans\n",
    "# pip install baidusearch\n",
    "# pip install baike"
   ]
  },
  {
   "cell_type": "code",
   "execution_count": 2,
   "metadata": {
    "ExecuteTime": {
     "end_time": "2020-11-15T21:32:48.263107Z",
     "start_time": "2020-11-15T21:32:47.230164Z"
    }
   },
   "outputs": [],
   "source": [
    "from tabula import read_pdf"
   ]
  },
  {
   "cell_type": "code",
   "execution_count": 3,
   "metadata": {
    "ExecuteTime": {
     "end_time": "2020-11-15T21:33:42.226849Z",
     "start_time": "2020-11-15T21:33:01.236334Z"
    }
   },
   "outputs": [
    {
     "name": "stdout",
     "output_type": "stream",
     "text": [
      "4\n"
     ]
    }
   ],
   "source": [
    "df = read_pdf('Downloads/bird-list-master-a4-20201018.pdf', pages=1)[0].iloc[:,0]\n",
    "for i in range(2, 16):\n",
    "    try:\n",
    "        tmp = read_pdf('Downloads/bird-list-master-a4-20201018.pdf', pages=i)[0].iloc[:,0]\n",
    "    except:\n",
    "        print(i)\n",
    "    df = df.append(tmp)"
   ]
  },
  {
   "cell_type": "code",
   "execution_count": 4,
   "metadata": {
    "ExecuteTime": {
     "end_time": "2020-11-15T21:33:42.261984Z",
     "start_time": "2020-11-15T21:33:42.247153Z"
    }
   },
   "outputs": [],
   "source": [
    "import PyPDF2"
   ]
  },
  {
   "cell_type": "code",
   "execution_count": 5,
   "metadata": {
    "ExecuteTime": {
     "end_time": "2020-11-15T21:34:06.396598Z",
     "start_time": "2020-11-15T21:34:06.316432Z"
    }
   },
   "outputs": [],
   "source": [
    "pdfFileObj = open('Downloads/bird-list-master-a4-20201018 4.pdf', 'rb')\n",
    "pdfReader = PyPDF2.PdfFileReader(pdfFileObj)\n",
    "pageObj = pdfReader.getPage(0)\n",
    "extra_birds = [s.split('\\n')[0] for s in pageObj.extractText().split('.\\n')][0:-1]"
   ]
  },
  {
   "cell_type": "code",
   "execution_count": 14,
   "metadata": {
    "ExecuteTime": {
     "end_time": "2020-11-15T21:37:11.894399Z",
     "start_time": "2020-11-15T21:37:11.890104Z"
    }
   },
   "outputs": [
    {
     "data": {
      "text/plain": [
       "(384,)"
      ]
     },
     "execution_count": 14,
     "metadata": {},
     "output_type": "execute_result"
    }
   ],
   "source": [
    "df.shape"
   ]
  },
  {
   "cell_type": "code",
   "execution_count": 15,
   "metadata": {
    "ExecuteTime": {
     "end_time": "2020-11-15T21:38:37.658135Z",
     "start_time": "2020-11-15T21:38:37.654222Z"
    }
   },
   "outputs": [
    {
     "data": {
      "text/plain": [
       "(341,)"
      ]
     },
     "execution_count": 15,
     "metadata": {},
     "output_type": "execute_result"
    }
   ],
   "source": [
    "df.dropna().shape"
   ]
  },
  {
   "cell_type": "code",
   "execution_count": 30,
   "metadata": {
    "ExecuteTime": {
     "end_time": "2020-11-15T21:51:58.399064Z",
     "start_time": "2020-11-15T21:51:42.247813Z"
    }
   },
   "outputs": [],
   "source": [
    "df = read_pdf('Downloads/bird-list-core-letter-20200529.pdf', pages=\"1\")[0].iloc[:,0]\n",
    "for i in range(2, 8):\n",
    "    try:\n",
    "        tmp = read_pdf('Downloads/bird-list-core-letter-20200529.pdf', pages=i)[0].iloc[:,0]\n",
    "    except:\n",
    "        print(i)\n",
    "    df = df.append(tmp)"
   ]
  },
  {
   "cell_type": "code",
   "execution_count": 31,
   "metadata": {
    "ExecuteTime": {
     "end_time": "2020-11-15T21:52:00.219001Z",
     "start_time": "2020-11-15T21:52:00.214400Z"
    }
   },
   "outputs": [
    {
     "data": {
      "text/plain": [
       "(174,)"
      ]
     },
     "execution_count": 31,
     "metadata": {},
     "output_type": "execute_result"
    }
   ],
   "source": [
    "df.dropna().shape"
   ]
  },
  {
   "cell_type": "code",
   "execution_count": 44,
   "metadata": {
    "ExecuteTime": {
     "end_time": "2020-11-15T22:08:40.295035Z",
     "start_time": "2020-11-15T22:08:40.112344Z"
    }
   },
   "outputs": [],
   "source": [
    "import re\n",
    "pdfFileObj = open('Downloads/bird-list-core-letter-20200529.pdf', 'rb')\n",
    "pdfReader = PyPDF2.PdfFileReader(pdfFileObj)\n",
    "pageObj = pdfReader.getPage(3)\n",
    "extra_birds = [re.sub(r\"(\\w)([A-Z])\", r\"\\1 \\2\", s.split('\\n')[0]) for s in pageObj.extractText().split('.\\n')][0:-1]"
   ]
  },
  {
   "cell_type": "code",
   "execution_count": 46,
   "metadata": {
    "ExecuteTime": {
     "end_time": "2020-11-15T22:08:48.673661Z",
     "start_time": "2020-11-15T22:08:48.667685Z"
    }
   },
   "outputs": [
    {
     "data": {
      "text/plain": [
       "['Acorn Woodpecker',\n",
       " 'American Avocet',\n",
       " 'American Bittern',\n",
       " 'American Coot',\n",
       " 'American Crow',\n",
       " 'American Goldfinch',\n",
       " 'American Kestrel',\n",
       " 'American Oystercatcher',\n",
       " 'American Redstart',\n",
       " 'American Robin',\n",
       " 'American White Pelican',\n",
       " 'American Woodcock',\n",
       " 'Anhinga',\n",
       " 'Anna’s Hummingbird',\n",
       " 'Ash-Throated Flycatcher',\n",
       " 'Atlantic Puffin',\n",
       " 'Baird’s Sparrow',\n",
       " 'Bald Eagle',\n",
       " 'Baltimore Oriole',\n",
       " 'Barn Owl',\n",
       " 'Barn Swallow',\n",
       " 'Barrow’s Goldeneye',\n",
       " 'Bell’s Vireo',\n",
       " 'Belted Kingfisher',\n",
       " 'Bewick’s Wren',\n",
       " 'Black Skimmer',\n",
       " 'Black Tern',\n",
       " 'Black Vulture',\n",
       " 'Black-Bellied Whistling Duck',\n",
       " 'Black-Billed Magpie',\n",
       " 'Black-Chinned Hummingbird',\n",
       " 'Black-Crowned Night-Heron',\n",
       " 'Black-Necked Stilt',\n",
       " 'Blue Grosbeak',\n",
       " 'Blue Jay',\n",
       " 'Blue-Gray Gnatcatcher',\n",
       " 'Blue-Winged Warbler',\n",
       " 'Bobolink',\n",
       " 'Brant',\n",
       " 'Brewer’s Blackbird',\n",
       " 'Broad-Winged Hawk',\n",
       " 'Bronzed Cowbird',\n",
       " 'Brown Pelican',\n",
       " 'Brown-Headed Cowbird',\n",
       " 'Burrowing Owl',\n",
       " 'Bushtit',\n",
       " 'California Condor',\n",
       " 'Canada Goose',\n",
       " 'Canvasback',\n",
       " 'Carolina Chickadee',\n",
       " 'Carolina Wren',\n",
       " 'Cassin’s Finch',\n",
       " 'Cassin’s Sparrow',\n",
       " 'Cedar Waxwing',\n",
       " 'Cerulean Warbler',\n",
       " 'Chestnut-Collared Longspur',\n",
       " 'Chihuahuan Raven',\n",
       " 'Chimney Swift',\n",
       " 'Chipping Sparrow',\n",
       " 'Clark’s Grebe',\n",
       " 'Clark’s Nutcracker',\n",
       " 'Common Grackle',\n",
       " 'Common Loon',\n",
       " 'Common Merganser',\n",
       " 'Common Nighthawk',\n",
       " 'Common Raven',\n",
       " 'Common Yellowthroat',\n",
       " 'Cooper’s Hawk',\n",
       " 'Dark-Eyed Junco',\n",
       " 'Dickcissel',\n",
       " 'Double-Crested Cormorant',\n",
       " 'Downy Woodpecker',\n",
       " 'Eastern Bluebird',\n",
       " 'Eastern Phoebe',\n",
       " 'Eastern Screech Owl',\n",
       " 'Ferruginous Hawk',\n",
       " 'Fish Crow',\n",
       " 'Forster’s Tern',\n",
       " 'Franklin’s Gull',\n",
       " 'Golden Eagle',\n",
       " 'Grasshopper Sparrow',\n",
       " 'Gray Catbird',\n",
       " 'Great Blue Heron',\n",
       " 'Great Crested Flycatcher',\n",
       " 'Great Egret',\n",
       " 'Great Horned Owl',\n",
       " 'Greater Prairie Chicken',\n",
       " 'Greater Roadrunner',\n",
       " 'Green Heron',\n",
       " 'Hermit Thrush',\n",
       " 'Hooded Merganser',\n",
       " 'Hooded Warbler',\n",
       " 'Horned Lark',\n",
       " 'House Finch',\n",
       " 'House Wren',\n",
       " 'Inca Dove',\n",
       " 'Indigo Bunting',\n",
       " 'Juniper Titmouse',\n",
       " 'Killdeer',\n",
       " 'Lazuli Bunting',\n",
       " 'Lincoln’s Sparrow',\n",
       " 'Loggerhead Shrike',\n",
       " 'Mallard',\n",
       " 'Mississippi Kite',\n",
       " 'Mountain Bluebird',\n",
       " 'Mountain Chickadee',\n",
       " 'Mourning Dove',\n",
       " 'Northern Bobwhite',\n",
       " 'Northern Cardinal',\n",
       " 'Northern Flicker',\n",
       " 'Northern Harrier',\n",
       " 'Northern Mockingbird',\n",
       " 'Northern Shoveler',\n",
       " 'Osprey',\n",
       " 'Painted Bunting',\n",
       " 'Painted Whitestart',\n",
       " 'Peregrine Falcon',\n",
       " 'Pied-Billed Grebe',\n",
       " 'Pileated Woodpecker',\n",
       " 'Pine Siskin',\n",
       " 'Prothonotary Warbler',\n",
       " 'Purple Gallinule',\n",
       " 'Purple Martin',\n",
       " 'Pygmy Nuthatch',\n",
       " 'Red-Bellied Woodpecker',\n",
       " 'Red-Breasted Merganser',\n",
       " 'Red-Breasted Nuthatch',\n",
       " 'Red-Cockaded Woodpecker',\n",
       " 'Red-Eyed Vireo',\n",
       " 'Red-Headed Woodpecker',\n",
       " 'Red-Shouldered Hawk',\n",
       " 'Red-Tailed Hawk',\n",
       " 'Red-Winged Blackbird',\n",
       " 'Ring-Billed Gull',\n",
       " 'Rose-Breasted Grosbeak',\n",
       " 'Roseate Spoonbill',\n",
       " 'Ruby-Crowned Kinglet',\n",
       " 'Ruby-Throated Hummingbird',\n",
       " 'Ruddy Duck',\n",
       " 'Sandhill Crane',\n",
       " 'Savannah Sparrow',\n",
       " 'Say’s Phoebe',\n",
       " 'Scaled Quail',\n",
       " 'Scissor-Tailed Flycatcher',\n",
       " 'Snowy Egret',\n",
       " 'Song Sparrow',\n",
       " 'Spotted Owl',\n",
       " 'Spotted Sandpiper',\n",
       " 'Spotted Towhee',\n",
       " 'Sprague’s Pipit',\n",
       " 'Swainson’s Hawk',\n",
       " 'Tree Swallow',\n",
       " 'Trumpeter Swan',\n",
       " 'Tufted Titmouse',\n",
       " 'Turkey Vulture',\n",
       " 'Vaux’s Swift',\n",
       " 'Violet-Green Swallow',\n",
       " 'Western Meadowlark',\n",
       " 'Western Tanager',\n",
       " 'White-Breasted Nuthatch',\n",
       " 'White-Crowned Sparrow',\n",
       " 'White-Faced Ibis',\n",
       " 'White-Throated Swift',\n",
       " 'Whooping Crane',\n",
       " 'Wild Turkey',\n",
       " 'Willet',\n",
       " 'Wilson’s Snipe',\n",
       " 'Wood Duck',\n",
       " 'Wood Stork',\n",
       " 'Yellow-Bellied Sapsucker',\n",
       " 'Yellow-Billed Cuckoo',\n",
       " 'Yellow-Breasted Chat',\n",
       " 'Yellow-Headed Blackbird',\n",
       " 'Yellow-Rumped Warbler',\n",
       " 'Eastern Kingbird',\n",
       " 'Eastern Phoebe',\n",
       " 'Eastern Screech Owl',\n",
       " 'Ferruginous Hawk',\n",
       " 'Fish Crow',\n",
       " \"Forster's Tern\",\n",
       " \"Franklin's Gull\",\n",
       " 'Golden Eagle',\n",
       " 'Grasshopper Sparrow',\n",
       " 'Gray Catbird',\n",
       " 'Great Blue Heron',\n",
       " 'Great Crested Flycatcher',\n",
       " 'Great Egret',\n",
       " 'Great Horned Owl',\n",
       " 'Greater Prairie Chicken',\n",
       " 'Greater Roadrunner',\n",
       " 'Green Heron',\n",
       " 'Hermit Thrush',\n",
       " 'Hooded Merganser',\n",
       " 'Hooded Warbler',\n",
       " 'House Finch',\n",
       " 'House Wren',\n",
       " 'Inca Dove',\n",
       " 'Indigo Bunting',\n",
       " 'Juniper Titmouse',\n",
       " 'Killdeer']"
      ]
     },
     "execution_count": 46,
     "metadata": {},
     "output_type": "execute_result"
    }
   ],
   "source": [
    "list(df.dropna()) + extra_birds"
   ]
  },
  {
   "cell_type": "code",
   "execution_count": 176,
   "metadata": {
    "ExecuteTime": {
     "end_time": "2020-11-16T01:32:26.955443Z",
     "start_time": "2020-11-16T01:32:26.953115Z"
    }
   },
   "outputs": [],
   "source": [
    "from googletrans import Translator"
   ]
  },
  {
   "cell_type": "code",
   "execution_count": 182,
   "metadata": {
    "ExecuteTime": {
     "end_time": "2020-11-16T01:33:29.831533Z",
     "start_time": "2020-11-16T01:33:29.817629Z"
    }
   },
   "outputs": [],
   "source": [
    "translator = Translator()"
   ]
  },
  {
   "cell_type": "code",
   "execution_count": 178,
   "metadata": {
    "ExecuteTime": {
     "end_time": "2020-11-16T01:32:29.824768Z",
     "start_time": "2020-11-16T01:32:29.338114Z"
    }
   },
   "outputs": [
    {
     "name": "stdout",
     "output_type": "stream",
     "text": [
      "橡子啄木鸟\n"
     ]
    }
   ],
   "source": [
    "print(translator.translate('Acorn Woodpecker', dest='zh-cn').text)"
   ]
  },
  {
   "cell_type": "code",
   "execution_count": 183,
   "metadata": {
    "ExecuteTime": {
     "end_time": "2020-11-16T01:33:35.448664Z",
     "start_time": "2020-11-16T01:33:35.446119Z"
    }
   },
   "outputs": [],
   "source": [
    "def google_translate(s):\n",
    "    return translator.translate(s, dest='zh-cn').text"
   ]
  },
  {
   "cell_type": "code",
   "execution_count": 179,
   "metadata": {
    "ExecuteTime": {
     "end_time": "2020-11-16T01:32:35.362764Z",
     "start_time": "2020-11-16T01:32:35.358061Z"
    }
   },
   "outputs": [],
   "source": [
    "import pandas as pd\n",
    "pd_df = pd.DataFrame({\"English_Name\": list(df.dropna()) + extra_birds}).sort_values('English_Name')"
   ]
  },
  {
   "cell_type": "code",
   "execution_count": 181,
   "metadata": {
    "ExecuteTime": {
     "end_time": "2020-11-16T01:32:59.702421Z",
     "start_time": "2020-11-16T01:32:59.696577Z"
    }
   },
   "outputs": [
    {
     "data": {
      "text/html": [
       "<div>\n",
       "<style scoped>\n",
       "    .dataframe tbody tr th:only-of-type {\n",
       "        vertical-align: middle;\n",
       "    }\n",
       "\n",
       "    .dataframe tbody tr th {\n",
       "        vertical-align: top;\n",
       "    }\n",
       "\n",
       "    .dataframe thead th {\n",
       "        text-align: right;\n",
       "    }\n",
       "</style>\n",
       "<table border=\"1\" class=\"dataframe\">\n",
       "  <thead>\n",
       "    <tr style=\"text-align: right;\">\n",
       "      <th></th>\n",
       "      <th>English_Name</th>\n",
       "    </tr>\n",
       "  </thead>\n",
       "  <tbody>\n",
       "    <tr>\n",
       "      <th>0</th>\n",
       "      <td>Acorn Woodpecker</td>\n",
       "    </tr>\n",
       "    <tr>\n",
       "      <th>1</th>\n",
       "      <td>American Avocet</td>\n",
       "    </tr>\n",
       "    <tr>\n",
       "      <th>2</th>\n",
       "      <td>American Bittern</td>\n",
       "    </tr>\n",
       "    <tr>\n",
       "      <th>3</th>\n",
       "      <td>American Coot</td>\n",
       "    </tr>\n",
       "    <tr>\n",
       "      <th>4</th>\n",
       "      <td>American Crow</td>\n",
       "    </tr>\n",
       "  </tbody>\n",
       "</table>\n",
       "</div>"
      ],
      "text/plain": [
       "       English_Name\n",
       "0  Acorn Woodpecker\n",
       "1   American Avocet\n",
       "2  American Bittern\n",
       "3     American Coot\n",
       "4     American Crow"
      ]
     },
     "execution_count": 181,
     "metadata": {},
     "output_type": "execute_result"
    }
   ],
   "source": [
    "pd_df.head()"
   ]
  },
  {
   "cell_type": "code",
   "execution_count": 184,
   "metadata": {
    "ExecuteTime": {
     "end_time": "2020-11-16T01:34:09.089854Z",
     "start_time": "2020-11-16T01:33:48.697585Z"
    }
   },
   "outputs": [],
   "source": [
    "pd_df['Chinese_Name'] = pd_df['English_Name'].apply(lambda r: google_translate(r))"
   ]
  },
  {
   "cell_type": "code",
   "execution_count": 198,
   "metadata": {
    "ExecuteTime": {
     "end_time": "2020-11-16T01:56:27.561370Z",
     "start_time": "2020-11-16T01:56:02.203939Z"
    }
   },
   "outputs": [],
   "source": [
    "pd_df['Chinese_Bird_Name'] = pd_df['English_Name'].apply(lambda r: google_translate(r.split()[1]) if len(r.split()) > 1 else google_translate(r.split()[0]))"
   ]
  },
  {
   "cell_type": "code",
   "execution_count": 199,
   "metadata": {
    "ExecuteTime": {
     "end_time": "2020-11-16T01:56:33.144854Z",
     "start_time": "2020-11-16T01:56:33.135167Z"
    }
   },
   "outputs": [
    {
     "data": {
      "text/html": [
       "<div>\n",
       "<style scoped>\n",
       "    .dataframe tbody tr th:only-of-type {\n",
       "        vertical-align: middle;\n",
       "    }\n",
       "\n",
       "    .dataframe tbody tr th {\n",
       "        vertical-align: top;\n",
       "    }\n",
       "\n",
       "    .dataframe thead th {\n",
       "        text-align: right;\n",
       "    }\n",
       "</style>\n",
       "<table border=\"1\" class=\"dataframe\">\n",
       "  <thead>\n",
       "    <tr style=\"text-align: right;\">\n",
       "      <th></th>\n",
       "      <th>English_Name</th>\n",
       "      <th>Chinese_Name</th>\n",
       "      <th>Chinese_Bird_Name</th>\n",
       "    </tr>\n",
       "  </thead>\n",
       "  <tbody>\n",
       "    <tr>\n",
       "      <th>0</th>\n",
       "      <td>Acorn Woodpecker</td>\n",
       "      <td>橡子啄木鸟</td>\n",
       "      <td>啄木鸟</td>\n",
       "    </tr>\n",
       "    <tr>\n",
       "      <th>1</th>\n",
       "      <td>American Avocet</td>\n",
       "      <td>美国长嘴鳄</td>\n",
       "      <td>长嘴鳄</td>\n",
       "    </tr>\n",
       "    <tr>\n",
       "      <th>2</th>\n",
       "      <td>American Bittern</td>\n",
       "      <td>美国卤汁</td>\n",
       "      <td>卤水</td>\n",
       "    </tr>\n",
       "    <tr>\n",
       "      <th>3</th>\n",
       "      <td>American Coot</td>\n",
       "      <td>美国老傻瓜</td>\n",
       "      <td>笨人</td>\n",
       "    </tr>\n",
       "    <tr>\n",
       "      <th>4</th>\n",
       "      <td>American Crow</td>\n",
       "      <td>美国乌鸦</td>\n",
       "      <td>乌鸦</td>\n",
       "    </tr>\n",
       "    <tr>\n",
       "      <th>5</th>\n",
       "      <td>American Goldfinch</td>\n",
       "      <td>美国金翅雀</td>\n",
       "      <td>金翅雀</td>\n",
       "    </tr>\n",
       "    <tr>\n",
       "      <th>6</th>\n",
       "      <td>American Kestrel</td>\n",
       "      <td>美国红est</td>\n",
       "      <td>红est</td>\n",
       "    </tr>\n",
       "    <tr>\n",
       "      <th>7</th>\n",
       "      <td>American Oystercatcher</td>\n",
       "      <td>美国蛎cat</td>\n",
       "      <td>牡蛎捕手</td>\n",
       "    </tr>\n",
       "    <tr>\n",
       "      <th>8</th>\n",
       "      <td>American Redstart</td>\n",
       "      <td>美国红启动</td>\n",
       "      <td>重新启动</td>\n",
       "    </tr>\n",
       "    <tr>\n",
       "      <th>9</th>\n",
       "      <td>American Robin</td>\n",
       "      <td>美国罗宾</td>\n",
       "      <td>罗宾</td>\n",
       "    </tr>\n",
       "    <tr>\n",
       "      <th>10</th>\n",
       "      <td>American White Pelican</td>\n",
       "      <td>美国白鹈鹕</td>\n",
       "      <td>白色</td>\n",
       "    </tr>\n",
       "    <tr>\n",
       "      <th>11</th>\n",
       "      <td>American Woodcock</td>\n",
       "      <td>美国伍德科克</td>\n",
       "      <td>鹬</td>\n",
       "    </tr>\n",
       "    <tr>\n",
       "      <th>12</th>\n",
       "      <td>Anhinga</td>\n",
       "      <td>蛇鸟</td>\n",
       "      <td>蛇鸟</td>\n",
       "    </tr>\n",
       "    <tr>\n",
       "      <th>13</th>\n",
       "      <td>Anna’s Hummingbird</td>\n",
       "      <td>安娜的蜂鸟</td>\n",
       "      <td>蜂鸟</td>\n",
       "    </tr>\n",
       "    <tr>\n",
       "      <th>14</th>\n",
       "      <td>Ash-Throated Flycatcher</td>\n",
       "      <td>灰喉捕蝇器</td>\n",
       "      <td>捕蝇器</td>\n",
       "    </tr>\n",
       "    <tr>\n",
       "      <th>15</th>\n",
       "      <td>Atlantic Puffin</td>\n",
       "      <td>大西洋海雀</td>\n",
       "      <td>海雀</td>\n",
       "    </tr>\n",
       "    <tr>\n",
       "      <th>16</th>\n",
       "      <td>Baird’s Sparrow</td>\n",
       "      <td>贝尔德的麻雀</td>\n",
       "      <td>麻雀</td>\n",
       "    </tr>\n",
       "    <tr>\n",
       "      <th>17</th>\n",
       "      <td>Bald Eagle</td>\n",
       "      <td>白头鹰</td>\n",
       "      <td>鹰</td>\n",
       "    </tr>\n",
       "    <tr>\n",
       "      <th>18</th>\n",
       "      <td>Baltimore Oriole</td>\n",
       "      <td>巴尔的摩金莺</td>\n",
       "      <td>金莺</td>\n",
       "    </tr>\n",
       "    <tr>\n",
       "      <th>19</th>\n",
       "      <td>Barn Owl</td>\n",
       "      <td>谷仓猫头鹰</td>\n",
       "      <td>猫头鹰</td>\n",
       "    </tr>\n",
       "  </tbody>\n",
       "</table>\n",
       "</div>"
      ],
      "text/plain": [
       "               English_Name Chinese_Name Chinese_Bird_Name\n",
       "0          Acorn Woodpecker        橡子啄木鸟               啄木鸟\n",
       "1           American Avocet        美国长嘴鳄               长嘴鳄\n",
       "2          American Bittern         美国卤汁                卤水\n",
       "3             American Coot        美国老傻瓜                笨人\n",
       "4             American Crow         美国乌鸦                乌鸦\n",
       "5        American Goldfinch        美国金翅雀               金翅雀\n",
       "6          American Kestrel       美国红est              红est\n",
       "7    American Oystercatcher       美国蛎cat              牡蛎捕手\n",
       "8         American Redstart        美国红启动              重新启动\n",
       "9            American Robin         美国罗宾                罗宾\n",
       "10   American White Pelican        美国白鹈鹕                白色\n",
       "11        American Woodcock       美国伍德科克                 鹬\n",
       "12                  Anhinga           蛇鸟                蛇鸟\n",
       "13       Anna’s Hummingbird        安娜的蜂鸟                蜂鸟\n",
       "14  Ash-Throated Flycatcher        灰喉捕蝇器               捕蝇器\n",
       "15          Atlantic Puffin        大西洋海雀                海雀\n",
       "16          Baird’s Sparrow       贝尔德的麻雀                麻雀\n",
       "17               Bald Eagle          白头鹰                 鹰\n",
       "18         Baltimore Oriole       巴尔的摩金莺                金莺\n",
       "19                 Barn Owl        谷仓猫头鹰               猫头鹰"
      ]
     },
     "execution_count": 199,
     "metadata": {},
     "output_type": "execute_result"
    }
   ],
   "source": [
    "pd_df.head(20)"
   ]
  },
  {
   "cell_type": "code",
   "execution_count": 70,
   "metadata": {
    "ExecuteTime": {
     "end_time": "2020-11-15T23:05:37.058517Z",
     "start_time": "2020-11-15T23:05:37.056064Z"
    }
   },
   "outputs": [],
   "source": [
    "from bs4 import BeautifulSoup\n",
    "import requests\n",
    "from urllib.parse import quote"
   ]
  },
  {
   "cell_type": "code",
   "execution_count": 192,
   "metadata": {
    "ExecuteTime": {
     "end_time": "2020-11-16T01:48:30.823868Z",
     "start_time": "2020-11-16T01:48:29.994393Z"
    }
   },
   "outputs": [],
   "source": [
    "query = \"American Avocet 中文\"\n",
    "url = 'https://www.google.com/search?q=%s' % quote(query)\n",
    "response = requests.get(url)"
   ]
  },
  {
   "cell_type": "code",
   "execution_count": 193,
   "metadata": {
    "ExecuteTime": {
     "end_time": "2020-11-16T01:48:31.454611Z",
     "start_time": "2020-11-16T01:48:31.442763Z"
    }
   },
   "outputs": [],
   "source": [
    "soup = BeautifulSoup(response.text)"
   ]
  },
  {
   "cell_type": "code",
   "execution_count": 194,
   "metadata": {
    "ExecuteTime": {
     "end_time": "2020-11-16T01:48:33.061723Z",
     "start_time": "2020-11-16T01:48:33.054612Z"
    }
   },
   "outputs": [
    {
     "name": "stdout",
     "output_type": "stream",
     "text": [
      "<!DOCTYPE html>\n",
      "<html lang=\"en\"><head><meta charset=\"utf-8\"/><meta content=\"/images/branding/googleg/1x/googleg_standard_color_128dp.png\" itemprop=\"image\"/><title>American Avocet 中文 - Google Search</title><script nonce=\"19thd6wQ7TSXS+36YUvelA==\">(function(){\n",
      "document.documentElement.addEventListener(\"submit\",function(b){var a;if(a=b.target){var c=a.getAttribute(\"data-submitfalse\");a=\"1\"==c||\"q\"==c&&!a.elements.q.value?!0:!1}else a=!1;a&&(b.preventDefault(),b.stopPropagation())},!0);document.documentElement.addEventListener(\"click\",function(b){var a;a:{for(a=b.target;a&&a!=document.documentElement;a=a.parentElement)if(\"A\"==a.tagName){a=\"1\"==a.getAttribute(\"data-nohref\");break a}a=!1}a&&b.preventDefault()},!0);}).call(this);(function(){\n",
      "var a=window.performance;window.start=Date.now();a:{var b=window;if(a){var c=a.timing;if(c){var d=c.navigationStart,f=c.responseStart;if(f>d&&f<=window.start){window.start=f;b.wsrt=f-d;break a}}a.now&&(b.wsrt=Math.floor(a.now()))}}window.google=window.google||{};var h=function(g){g&&g.target.setAttribute(\"data-iml\",Date.now())};document.documentElement.addEventListener(\"load\",h,!0);google.rglh=function(){document.documentElement.removeEventListener(\"load\",h,!0)};}).call(this);(function(){\n",
      "var c=[],e=0;window.ping=function(b){-1==b.indexOf(\"&zx\")&&(b+=\"&zx=\"+Date.now());var a=new Image,d=e++;c[d]=a;a.onerror=a.onload=a.onabort=function(){delete c[d]};a.src=b};}).call(this);</script><style>body{margin:0 auto;max-width:736px;padding:0 8px}a{color:#1967D2;text-decoration:none;tap-highlight-color:rgba(0,0,0,.10)}a:visited{color:#4B11A8}a:hover{text-decoration:underline}img{border:0}html{font-family:Roboto,HelveticaNeue,Arial,sans-serif;font-size:14px;line-height:20px;text-size-adjust:100%;color:#3c4043;word-wrap:break-word;background-color:#fff}.bRsWnc{background-color:#fff;border-top:1px solid #dadce0;height:39px;overflow:hidden}.N6RWV{height:51px;overflow-scrolling:touch;overflow-x:auto;overflow-y:hidden}.Uv67qb{box-pack:justify;font-size:12px;line-height:37px;justify-content:space-between;justify-content:space-between}.Uv67qb a,.Uv67qb span{color:#70757a;display:block;flex:none;padding:0 16px;text-align:center;text-transform:uppercase;}span.OXXup{border-bottom:2px solid #4285f4;color:#4285f4;font-weight:bold}a.eZt8xd:visited{color:#70757a}.FElbsf{border-left:1px solid rgba(0,0,0,.12)}header article{overflow:visible}.Pg70bf{height:39px;display:box;display:flex;display:flex;width:100%}.H0PQec{position:relative;flex:1}.sbc{display:flex;width:100%}.Pg70bf input{margin:2px 4px 2px 8px;}.x{width:26px;color:#70757a;font:27px/38px arial, sans-serif;line-height:40px;}#qdClwb{flex:0 0 auto;width:39px;height:39px;border-bottom:0;padding:0;border-top-right-radius:8px;background-color:#1a73e8;border:1px solid #1558d6;background-image:url(data:image/gif;base64,R0lGODdhJAAjAPIHAODr/nCk+MPZ/FmV96zK+/7+/5K5+kqL9iwAAAAAJAAjAEADani63P4wykmbKcQRXDscQAEMXmmeaLQVLCukzyC09AjfeK7v/MAajACLhPMVAgwjsUcEiZa8xgAYrVqv2Kx2iwsIAAABknfBBAKrTE4IcMyot8ur8datqIbQfJdnAfo2WE6BV05wXIiJigkAOw==);}.sc{font-size:;position:absolute;top:39px;left:0;right:0;box-shadow:0px 2px 5px rgba(0,0,0,.20);z-index:2;background-color:#fff}.sc>div{padding:10px 10px;padding-left:16px;padding-left:14px;border-top:1px solid #dfe1e5}.scs{background-color:#f8f9fa;}.noHIxc{display:block;font-size:16px;padding:0 0 0 8px;flex:1;height:35px;outline:none;border:none;width:100%;-webkit-tap-highlight-color:rgba(0,0,0,.00);overflow:hidden;}.sbc input[type=text]{background:none}.sml .cOl4Id{display:none}.l{display:none}.sml header{background:none}.sml .l{display:block;padding:0 8px}.sml .l{letter-spacing:-1px;text-align:center;border-radius:2px 0 0 0;font:22px/36px Futura, Arial, sans-serif;font-smoothing:antialiased}.bz1lBb{background:#fff;border-radius:8px 8px 0 0;box-shadow:0 1px 6px rgba(32, 33, 36, 0.18);margin-top:10px}.KP7LCb{border-radius:0 0 8px 8px;box-shadow:0 2px 3px rgba(32, 33, 36, 0.18);margin-bottom:10px;overflow:hidden}.cOl4Id{letter-spacing:-1px;text-align:center;font:22pt Futura, Arial, sans-serif;padding:10px 0 5px 0;height:37px;font-smoothing:antialiased}.cOl4Id span{display:inline-block}.S591j{height:100%}.V6gwVd{color:#4285f4}.iWkuvd{color:#ea4335}.cDrQ7{color:#fcc934}.ntlR9{color:#34a853}.tJ3Myc{-webkit-transform:rotate(-20deg);position:relative;left:-1px;display:inline-block}footer{text-align:center;margin-top:18px}footer a,footer a:visited,.smiUbb{color:#70757a}.ksTU4c{margin:0 13px}#mCljob{margin-top:36px}#mCljob>div{margin:20px}</style></head><body jsmodel=\"TvHxbe\"><header id=\"hdr\"><script nonce=\"19thd6wQ7TSXS+36YUvelA==\">(function(){\n",
      "var k=this||self,l=function(){},m=function(a){var b=typeof a;return\"object\"==b&&null!=a||\"function\"==b},aa=function(a,b){function c(){}c.prototype=b.prototype;a.l=b.prototype;a.prototype=new c;a.prototype.constructor=a;a.m=function(d,e,f){for(var g=Array(arguments.length-2),h=2;h<arguments.length;h++)g[h-2]=arguments[h];return b.prototype[e].apply(d,g)}};var n=Array.prototype.indexOf?function(a,b){return Array.prototype.indexOf.call(a,b,void 0)}:function(a,b){if(\"string\"===typeof a)return\"string\"!==typeof b||1!=b.length?-1:a.indexOf(b,0);for(var c=0;c<a.length;c++)if(c in a&&a[c]===b)return c;return-1},ba=Array.prototype.filter?function(a,b){return Array.prototype.filter.call(a,b,void 0)}:function(a,b){for(var c=a.length,d=[],e=0,f=\"string\"===typeof a?a.split(\"\"):a,g=0;g<c;g++)if(g in f){var h=f[g];b.call(void 0,h,g,a)&&(d[e++]=h)}return d};var p=function(a){return\"string\"==typeof a.className?a.className:a.getAttribute&&a.getAttribute(\"class\")||\"\"},q=function(a,b){\"string\"==typeof a.className?a.className=b:a.setAttribute&&a.setAttribute(\"class\",b)},r=function(a,b){a.classList?b=a.classList.contains(b):(a=a.classList?a.classList:p(a).match(/\\S+/g)||[],b=0<=n(a,b));return b},ca=function(){var a=t,b=u;a.classList?a.classList.remove(b):r(a,b)&&q(a,ba(a.classList?a.classList:p(a).match(/\\S+/g)||[],function(c){return c!=b}).join(\" \"))};var v=String.prototype.trim?function(a){return a.trim()}:function(a){return/^[\\s\\xa0]*([\\s\\S]*?)[\\s\\xa0]*$/.exec(a)[1]},w=function(a,b){return a<b?-1:a>b?1:0};var x;a:{var y=k.navigator;if(y){var z=y.userAgent;if(z){x=z;break a}}x=\"\"};var A=function(a){A[\" \"](a);return a};A[\" \"]=l;var da=-1!=x.indexOf(\"Opera\"),B=-1!=x.indexOf(\"Trident\")||-1!=x.indexOf(\"MSIE\"),ea=-1!=x.indexOf(\"Edge\"),fa=-1!=x.indexOf(\"Gecko\")&&!(-1!=x.toLowerCase().indexOf(\"webkit\")&&-1==x.indexOf(\"Edge\"))&&!(-1!=x.indexOf(\"Trident\")||-1!=x.indexOf(\"MSIE\"))&&-1==x.indexOf(\"Edge\"),ha=-1!=x.toLowerCase().indexOf(\"webkit\")&&-1==x.indexOf(\"Edge\"),ia=function(){var a=k.document;return a?a.documentMode:void 0},C;a:{var D=\"\",E=function(){var a=x;if(fa)return/rv:([^\\);]+)(\\)|;)/.exec(a);if(ea)return/Edge\\/([\\d\\.]+)/.exec(a);if(B)return/\\b(?:MSIE|rv)[:]([^\\);]+)(\\)|;)/.exec(a);if(ha)return/WebKit\\/(\\S+)/.exec(a);if(da)return/(?:Version)[ \\/]?(\\S+)/.exec(a)}();E&&(D=E?E[1]:\"\");if(B){var F=ia();if(null!=F&&F>parseFloat(D)){C=String(F);break a}}C=D}var ja=C,G={},H;if(k.document&&B){var ka=ia();H=ka?ka:parseInt(ja,10)||void 0}else H=void 0;var la=H;var I;(I=!B)||(I=9<=Number(la));var ma=I,J;if(J=B){var K;if(Object.prototype.hasOwnProperty.call(G,\"9\"))K=G[\"9\"];else{for(var L=0,na=v(String(ja)).split(\".\"),oa=v(\"9\").split(\".\"),pa=Math.max(na.length,oa.length),M=0;0==L&&M<pa;M++){var qa=na[M]||\"\",ra=oa[M]||\"\";do{var N=/(\\d*)(\\D*)(.*)/.exec(qa)||[\"\",\"\",\"\",\"\"],O=/(\\d*)(\\D*)(.*)/.exec(ra)||[\"\",\"\",\"\",\"\"];if(0==N[0].length&&0==O[0].length)break;L=w(0==N[1].length?0:parseInt(N[1],10),0==O[1].length?0:parseInt(O[1],10))||w(0==N[2].length,0==O[2].length)||w(N[2],O[2]);qa=N[3];ra=O[3]}while(0==L)}K=\n",
      "G[\"9\"]=0<=L}J=!K}var sa=J,ta=function(){if(!k.addEventListener||!Object.defineProperty)return!1;var a=!1,b=Object.defineProperty({},\"passive\",{get:function(){a=!0}});try{k.addEventListener(\"test\",l,b),k.removeEventListener(\"test\",l,b)}catch(c){}return a}();var P=function(a,b){this.type=a;this.a=this.target=b};P.prototype.g=function(){};var Q=function(a,b){P.call(this,a?a.type:\"\");this.relatedTarget=this.a=this.target=null;this.button=this.screenY=this.screenX=this.clientY=this.clientX=0;this.key=\"\";this.keyCode=0;this.metaKey=this.shiftKey=this.altKey=this.ctrlKey=!1;this.pointerId=0;this.pointerType=\"\";this.j=null;if(a){var c=this.type=a.type,d=a.changedTouches&&a.changedTouches.length?a.changedTouches[0]:null;this.target=a.target||a.srcElement;this.a=b;if(b=a.relatedTarget){if(fa){a:{try{A(b.nodeName);var e=!0;break a}catch(f){}e=\n",
      "!1}e||(b=null)}}else\"mouseover\"==c?b=a.fromElement:\"mouseout\"==c&&(b=a.toElement);this.relatedTarget=b;d?(this.clientX=void 0!==d.clientX?d.clientX:d.pageX,this.clientY=void 0!==d.clientY?d.clientY:d.pageY,this.screenX=d.screenX||0,this.screenY=d.screenY||0):(this.clientX=void 0!==a.clientX?a.clientX:a.pageX,this.clientY=void 0!==a.clientY?a.clientY:a.pageY,this.screenX=a.screenX||0,this.screenY=a.screenY||0);this.button=a.button;this.keyCode=a.keyCode||0;this.key=a.key||\"\";this.ctrlKey=a.ctrlKey;this.altKey=a.altKey;this.shiftKey=a.shiftKey;this.metaKey=a.metaKey;this.pointerId=a.pointerId||0;this.pointerType=\"string\"===typeof a.pointerType?a.pointerType:ua[a.pointerType]||\"\";this.j=a;a.defaultPrevented&&this.g()}};aa(Q,P);var ua={2:\"touch\",3:\"pen\",4:\"mouse\"};Q.prototype.g=function(){Q.l.g.call(this);var a=this.j;if(a.preventDefault)a.preventDefault();else if(a.returnValue=!1,sa)try{if(a.ctrlKey||112<=a.keyCode&&123>=a.keyCode)a.keyCode=-1}catch(b){}};var R=\"closure_listenable_\"+(1E6*Math.random()|0),va=0;var wa=function(a,b,c,d,e){this.listener=a;this.a=null;this.src=b;this.type=c;this.capture=!!d;this.g=e;this.key=++va;this.h=this.i=!1},xa=function(a){a.h=!0;a.listener=null;a.a=null;a.src=null;a.g=null};var S=function(a){this.src=a;this.a={};this.g=0};S.prototype.add=function(a,b,c,d,e){var f=a.toString();a=this.a[f];a||(a=this.a[f]=[],this.g++);var g;a:{for(g=0;g<a.length;++g){var h=a[g];if(!h.h&&h.listener==b&&h.capture==!!d&&h.g==e)break a}g=-1}-1<g?(b=a[g],c||(b.i=!1)):(b=new wa(b,this.src,f,!!d,e),b.i=c,a.push(b));return b};var T=\"closure_lm_\"+(1E6*Math.random()|0),U={},ya=0,za=function(a,b,c,d,e){if(d&&d.once)return V(a,b,c,d,e);if(Array.isArray(b)){for(var f=0;f<b.length;f++)za(a,b[f],c,d,e);return null}c=Aa(c);return a&&a[R]?a.a(b,c,m(d)?!!d.capture:!!d,e):Ba(a,b,c,!1,d,e)},Ba=function(a,b,c,d,e,f){if(!b)throw Error(\"a\");var g=m(e)?!!e.capture:!!e,h=W(a);h||(a[T]=h=new S(a));c=h.add(b,c,d,g,f);if(c.a)return c;d=Ca();c.a=d;d.src=a;d.listener=c;if(a.addEventListener)ta||(e=g),void 0===e&&(e=!1),a.addEventListener(b.toString(),d,e);else if(a.attachEvent)a.attachEvent(Da(b.toString()),d);else if(a.addListener&&a.removeListener)a.addListener(d);else throw Error(\"b\");ya++;return c},Ca=function(){var a=Ea,b=ma?function(c){return a.call(b.src,b.listener,c)}:function(c){c=a.call(b.src,b.listener,c);if(!c)return c};return b},V=function(a,b,c,d,e){if(Array.isArray(b)){for(var f=0;f<b.length;f++)V(a,b[f],c,d,e);return null}c=Aa(c);return a&&a[R]?a.g(b,c,m(d)?!!d.capture:!!d,e):Ba(a,b,c,!0,d,e)},X=function(a){if(\"number\"!==typeof a&&\n",
      "a&&!a.h){var b=a.src;if(b&&b[R])b.j(a);else{var c=a.type,d=a.a;b.removeEventListener?b.removeEventListener(c,d,a.capture):b.detachEvent?b.detachEvent(Da(c),d):b.addListener&&b.removeListener&&b.removeListener(d);ya--;if(c=W(b)){d=a.type;if(d in c.a){var e=c.a[d],f=n(e,a),g;(g=0<=f)&&Array.prototype.splice.call(e,f,1);g&&(xa(a),0==c.a[d].length&&(delete c.a[d],c.g--))}0==c.g&&(c.src=null,b[T]=null)}else xa(a)}}},Da=function(a){return a in U?U[a]:U[a]=\"on\"+a},Ga=function(a,b,c,d){var e=!0;if(a=W(a))if(b=\n",
      "a.a[b.toString()])for(b=b.concat(),a=0;a<b.length;a++){var f=b[a];f&&f.capture==c&&!f.h&&(f=Fa(f,d),e=e&&!1!==f)}return e},Fa=function(a,b){var c=a.listener,d=a.g||a.src;a.i&&X(a);return c.call(d,b)},Ea=function(a,b){if(a.h)return!0;if(!ma){if(!b)a:{b=[\"window\",\"event\"];for(var c=k,d=0;d<b.length;d++)if(c=c[b[d]],null==c){b=null;break a}b=c}d=b;b=new Q(d,this);c=!0;if(!(0>d.keyCode||void 0!=d.returnValue)){a:{var e=!1;if(0==d.keyCode)try{d.keyCode=-1;break a}catch(g){e=!0}if(e||void 0==d.returnValue)d.returnValue=\n",
      "!0}d=[];for(e=b.a;e;e=e.parentNode)d.push(e);a=a.type;for(e=d.length-1;0<=e;e--){b.a=d[e];var f=Ga(d[e],a,!0,b);c=c&&f}for(e=0;e<d.length;e++)b.a=d[e],f=Ga(d[e],a,!1,b),c=c&&f}return c}return Fa(a,new Q(b,this))},W=function(a){a=a[T];return a instanceof S?a:null},Y=\"__closure_events_fn_\"+(1E9*Math.random()>>>0),Aa=function(a){if(\"function\"===typeof a)return a;a[Y]||(a[Y]=function(b){return a.handleEvent(b)});return a[Y]};var u,t=document.documentElement,Z;function Ha(){X(Z);Z=V(t,\"mousedown\",function(){ca();Ia()},{capture:!0})}function Ia(){X(Z);Z=za(t,\"keydown\",function(a){if(9==a.keyCode){a=t;var b=u;if(a.classList)a.classList.add(b);else if(!r(a,b)){var c=p(a);q(a,c+(0<c.length?\" \"+b:b))}Ha()}})};u=\"zAoYTe\";Ia();}).call(this);(function(){var c=500;(function(){window.screen&&window.screen.width<=c&&window.screen.height<=c&&document.getElementById(\"hdr\").classList.add(\"sml\");}).call(this);})();</script><div class=\"cOl4Id\"><a href=\"/?sa=X&amp;ved=0ahUKEwiG1_-Z-YXtAhXQA2MBHXtTAB8QOwgC\"><span class=\"V6gwVd\">G</span><span class=\"iWkuvd\">o</span><span class=\"cDrQ7\">o</span><span class=\"V6gwVd\">g</span><span class=\"ntlR9\">l</span><span class=\"iWkuvd tJ3Myc\">e</span></a></div><div class=\"bz1lBb\"><form class=\"Pg70bf\" id=\"sf\"><a class=\"l\" href=\"/?output=search&amp;ie=UTF-8&amp;sa=X&amp;ved=0ahUKEwiG1_-Z-YXtAhXQA2MBHXtTAB8QPAgE\"><span class=\"V6gwVd\">G</span><span class=\"iWkuvd\">o</span><span class=\"cDrQ7\">o</span><span class=\"V6gwVd\">g</span><span class=\"ntlR9\">l</span><span class=\"iWkuvd tJ3Myc\">e</span></a><input name=\"ie\" type=\"hidden\" value=\"ISO-8859-1\"/><div class=\"H0PQec\"><div class=\"sbc esbc\"><input autocapitalize=\"none\" autocomplete=\"off\" class=\"noHIxc\" name=\"q\" spellcheck=\"false\" type=\"text\" value=\"American Avocet 中文\"/><input name=\"oq\" type=\"hidden\"/><input name=\"aqs\" type=\"hidden\"/><div class=\"x\">×</div><div class=\"sc\"></div></div></div><button id=\"qdClwb\" type=\"submit\"></button></form></div><noscript><meta content=\"0;url=/search?q=American+Avocet+%E4%B8%AD%E6%96%87&amp;ie=UTF-8&amp;gbv=1&amp;sei=btqxX4boG9CHjLsP-6aB-AE\" http-equiv=\"refresh\"/><style>table,div,span,p{display:none}</style><div style=\"display:block\">Please click <a href=\"/search?q=American+Avocet+%E4%B8%AD%E6%96%87&amp;ie=UTF-8&amp;gbv=1&amp;sei=btqxX4boG9CHjLsP-6aB-AE\">here</a> if you are not redirected within a few seconds.</div></noscript></header><div id=\"main\"><div><div class=\"KP7LCb\"> <div class=\"bRsWnc\"> <div class=\"N6RWV\"> <div class=\"Pg70bf Uv67qb\"> <span class=\"OXXup\">All</span><a class=\"eZt8xd\" href=\"/search?q=American+Avocet+%E4%B8%AD%E6%96%87&amp;ie=UTF-8&amp;source=lnms&amp;tbm=isch&amp;sa=X&amp;ved=0ahUKEwiG1_-Z-YXtAhXQA2MBHXtTAB8Q_AUICCgB\">Images</a><a class=\"eZt8xd\" href=\"https://maps.google.com/maps?q=American+Avocet+%E4%B8%AD%E6%96%87&amp;um=1&amp;ie=UTF-8&amp;sa=X&amp;ved=0ahUKEwiG1_-Z-YXtAhXQA2MBHXtTAB8Q_AUICSgC\">Maps</a><a class=\"eZt8xd\" href=\"/search?q=American+Avocet+%E4%B8%AD%E6%96%87&amp;ie=UTF-8&amp;source=lnms&amp;tbm=nws&amp;sa=X&amp;ved=0ahUKEwiG1_-Z-YXtAhXQA2MBHXtTAB8Q_AUICigD\">News</a> <a href=\"/search?q=American+Avocet+%E4%B8%AD%E6%96%87&amp;ie=UTF-8&amp;source=lnms&amp;tbm=vid&amp;sa=X&amp;ved=0ahUKEwiG1_-Z-YXtAhXQA2MBHXtTAB8Q_AUICygE\">Videos</a> <a href=\"/search?q=American+Avocet+%E4%B8%AD%E6%96%87&amp;ie=UTF-8&amp;source=lnms&amp;tbm=shop&amp;sa=X&amp;ved=0ahUKEwiG1_-Z-YXtAhXQA2MBHXtTAB8Q_AUIDCgF\">Shopping</a> <a href=\"/search?q=American+Avocet+%E4%B8%AD%E6%96%87&amp;ie=UTF-8&amp;source=lnms&amp;tbm=bks&amp;sa=X&amp;ved=0ahUKEwiG1_-Z-YXtAhXQA2MBHXtTAB8Q_AUIDSgG\">Books</a> <div class=\"FElbsf\"><a href=\"/advanced_search\" id=\"st-toggle\" role=\"button\" style=\"white-space:nowrap\">Search tools</a></div> </div> </div> </div> </div><div class=\"Pg70bf wEsjbd ZINbbc xpd O9g5cc uUPGi\" id=\"st-card\" style=\"display:none\"><style>.wEsjbd{background-color:#fff;height:44px;white-space:nowrap}.coPU8c{height:60px;overflow-scrolling:touch;overflow-x:auto;overflow-y:hidden}.Xj2aue{height:44px;overflow:hidden}.RnNGze{margin:11px 16px}.wEsjbd div,.wEsjbd a,.wEsjbd li{outline-width:0;outline:none}</style><div class=\"Xj2aue\"><div class=\"coPU8c\"><div class=\"RnNGze\"><style>.PA9J5{display:inline-block}.RXaOfd{display:inline-block;height:22px;position:relative;padding-top:0;padding-bottom:0;padding-right:16px;padding-left:0;line-height:22px;cursor:pointer;text-transform:uppercase;font-size:12px;color:#70757a}.sa1toc{display:none;position:absolute;background:#fff;border:1px solid #d6d6d6;box-shadow:0 2px 4px rgba(0,0,0,0.3);margin:0;white-space:nowrap;z-index:103;line-height:17px;padding-top:5px;padding-bottom:5px;padding-left:0px}.PA9J5:hover .sa1toc{display:block}.mGSy8d a:active,.RXaOfd:active{color:#4285f4}</style><div class=\"PA9J5\"><div class=\"RXaOfd\" role=\"button\" tabindex=\"0\"><style>.TWMOUc{display:inline-block;padding-right:14px;white-space:nowrap}.vQYuGf{font-weight:bold}.OmTIzf{border-color:#909090 transparent;border-style:solid;border-width:4px 4px 0 4px;width:0;height:0;margin-left:-10px;top:50%;margin-top:-2px;position:absolute}.RXaOfd:active .OmTIzf{border-color:#4285f4 transparent}</style><div class=\"TWMOUc\">Any time</div><span class=\"OmTIzf\"></span></div><ul class=\"sa1toc ozatM\"><style>.ozatM{font-size:12px;text-transform:uppercase}.ozatM .yNFsl,.ozatM li{list-style-type:none;list-style-position:outside;list-style-image:none}.yNFsl.SkUj4c,.yNFsl a{color:rgba(0,0,0,0.54);text-decoration:none;padding:6px 44px 6px 14px;line-height:17px;display:block}.SkUj4c{background-image:url(//ssl.gstatic.com/ui/v1/menu/checkmark2.png);background-position:right center;background-repeat:no-repeat}.SkUj4c:active{background-color:#f8f9fa}</style><li class=\"yNFsl SkUj4c\">Any time</li><li class=\"yNFsl\"><a href=\"/search?q=American+Avocet+%E4%B8%AD%E6%96%87&amp;ie=UTF-8&amp;source=lnt&amp;tbs=qdr:h&amp;sa=X&amp;ved=0ahUKEwiG1_-Z-YXtAhXQA2MBHXtTAB8QpwUIDw\">Past hour</a></li><li class=\"yNFsl\"><a href=\"/search?q=American+Avocet+%E4%B8%AD%E6%96%87&amp;ie=UTF-8&amp;source=lnt&amp;tbs=qdr:d&amp;sa=X&amp;ved=0ahUKEwiG1_-Z-YXtAhXQA2MBHXtTAB8QpwUIEA\">Past 24 hours</a></li><li class=\"yNFsl\"><a href=\"/search?q=American+Avocet+%E4%B8%AD%E6%96%87&amp;ie=UTF-8&amp;source=lnt&amp;tbs=qdr:w&amp;sa=X&amp;ved=0ahUKEwiG1_-Z-YXtAhXQA2MBHXtTAB8QpwUIEQ\">Past week</a></li><li class=\"yNFsl\"><a href=\"/search?q=American+Avocet+%E4%B8%AD%E6%96%87&amp;ie=UTF-8&amp;source=lnt&amp;tbs=qdr:m&amp;sa=X&amp;ved=0ahUKEwiG1_-Z-YXtAhXQA2MBHXtTAB8QpwUIEg\">Past month</a></li><li class=\"yNFsl\"><a href=\"/search?q=American+Avocet+%E4%B8%AD%E6%96%87&amp;ie=UTF-8&amp;source=lnt&amp;tbs=qdr:y&amp;sa=X&amp;ved=0ahUKEwiG1_-Z-YXtAhXQA2MBHXtTAB8QpwUIEw\">Past year</a></li></ul></div><div class=\"PA9J5\"><div class=\"RXaOfd\" role=\"button\" tabindex=\"0\"><div class=\"TWMOUc\">All results</div><span class=\"OmTIzf\"></span></div><ul class=\"sa1toc ozatM\"><li class=\"yNFsl SkUj4c\">All results</li><li class=\"yNFsl\"><a href=\"/search?q=American+Avocet+%E4%B8%AD%E6%96%87&amp;ie=UTF-8&amp;source=lnt&amp;tbs=li:1&amp;sa=X&amp;ved=0ahUKEwiG1_-Z-YXtAhXQA2MBHXtTAB8QpwUIFQ\">Verbatim</a></li></ul></div></div></div></div><script nonce=\"19thd6wQ7TSXS+36YUvelA==\">(function(){\n",
      "var a=document.getElementById(\"st-toggle\"),b=document.getElementById(\"st-card\");a&&b&&a.addEventListener(\"click\",function(c){b.style.display=b.style.display?\"\":\"none\";c.preventDefault()},!1);}).call(this);</script></div></div><style>.ZINbbc{background-color:#fff;margin-bottom:10px;box-shadow:0 1px 6px rgba(32, 33, 36, 0.28);border-radius:8px}.uUPGi{font-size:14px;line-height:20px;}.O9g5cc>*:first-child{border-top-left-radius:8px;border-top-right-radius:8px}.O9g5cc>*:last-child{border-bottom-left-radius:8px;border-bottom-right-radius:8px}.O9g5cc>.qxDOhb>*:first-child{border-top-left-radius:8px;border-top-right-radius:8px}.O9g5cc>.qxDOhb>*:last-child{border-bottom-left-radius:8px;border-bottom-right-radius:8px}.J9hCCd{display:block;max-width:65%}.Uo8X3b{clip:rect(1px,1px,1px,1px);height:1px;margin:0;overflow:hidden;padding:0;position:absolute;white-space:nowrap;width:1px;z-index:-1000;user-select:none}.mBamKb .j7pMuf{box-sizing:border-box;display:-webkit-box;display:-moz-box;display:-ms-flexbox;display:-webkit-flex;display:flex;padding:8px 8px 0 8px}.mBamKb input.EvnMAf{height:30px;padding:0}.mBamKb .EvnMAf{border:0;flex:1;display:block;font-size:20px;outline:none;width:100%;-webkit-tap-highlight-color:rgba(0,0,0,0)}.rLshyf,.BmP5tf{padding-top:12px;padding-bottom:12px}.YOx3Ab{padding-left:16px;}.w1C3Le,.BmP5tf,.G5NbBd{padding-left:16px;padding-right:16px;}.G5NbBd{padding-bottom:12px}.SvzMcc{float:right;height:26px;margin:0 8px 8px 0;width:26px}.mBamKb .x{height:26px;line-height:0;margin-top:4px;width:26px}hr{border:0;border-bottom:1px solid #dfe1e5;margin:0}.BUybKe,.HsnFBf{margin-left:16px}.BUybKe,.oM2GA{margin-right:16px}.XO7rhc{margin:0 -16px}.ZM7ZNb{margin:0 -16px 0 0}.mBamKb .UlAkde{bottom:0;float:right;font-size:14px;margin:16px 0 0 16px;max-width:88px;min-width:0;width:32vw}.q7fqqf{padding-bottom:8px}.PME8Xe{float:left;margin-top:16px;text-align:left;white-space:normal}.hLm84b{direction:ltr;float:left;width:100%}.MUxGbd{font-size:14px;font-family:Roboto,HelveticaNeue,Arial,sans-serif;line-height:20px;padding-top:1px;margin-bottom:-1px}.MUxGbd.u31kKd{font-size:24px;line-height:28px;padding-top:2px;margin-bottom:-2px}.lyLwlc{color:#202124}.MUxGbd.gbj1yb{font-size:12px;line-height:16px;padding-top:0px;margin-bottom:-4px}.WZ8Tjf{color:#70757a;}.WZ8Tjf a:visited{color:#acacac}.pMeOud{border:0;border-radius:8px;box-sizing:border-box;font-size:14px;font-weight:500;line-height:16px;min-width:88px;outline:none;padding:0;text-align:center;transition:box-shadow 200ms cubic-bezier(0.4,0,0.2,1);box-shadow:0 1px 1px rgba(0,0,0,.16);user-select:none;white-space:nowrap}.SRjJHb{text-transform:uppercase}.pMeOud:active{outline:none;box-shadow:0 4px 5px rgba(0,0,0,.16)}.rX3Agf{border-radius:8px;outline:none;padding:10px 8px}.rX3Agf:focus{background:rgba(0,0,0,.1)}.rX3Agf:active{background:rgba(0,0,0,.2)}.pMeOud:disabled,.pMeOud[disabled]:not([disabled=false]){pointer-events:none;color:rgba(0,0,0,.26) !important;background:rgba(0,0,0,.12);box-shadow:none}.pMeOud:disabled .rX3Agf,.pMeOud[disabled]:not([disabled=false]) .rX3Agf{background-color:transparent}.ayLRkf{background:#4285f4}.UTLLgb{color:#fff}.rl7ilb{display:block;clear:both}.kCrYT{padding:12px 16px 12px}a.fdYsqf{color:#4B11A8}.zBAuLc{font-weight:normal;line-height:normal;margin:0;padding:0}.BNeawe{white-space:pre-line;word-wrap:break-word}.vvjwJb{color:#1967D2;font-size:16px;line-height:20px}a:visited .vvjwJb,.vvjwJb a:visited{color:#4B11A8}.vvjwJb.HrGdeb{color:#fff}a:visited .vvjwJb.HrGdeb,.vvjwJb.HrGdeb a:visited{color:rgba(255,255,255,.70)}.UPmit{font-size:14px;line-height:20px}.UPmit.HrGdeb{color:rgba(255,255,255,.70)}.UPmit.AP7Wnd{color:#0d652d}.x54gtf{height:1px;background-color:#dfe1e5;margin:0 16px}.Q0HXG{height:1px;background-color:#dfe1e5}.Ap5OSd{padding-bottom:12px}.s3v9rd{font-size:14px;line-height:20px}.s3v9rd.HrGdeb{color:#fff}.s3v9rd.AP7Wnd{color:#202124}.mSx1Ee{padding-left:48px;margin:0}.v9i61e{padding-bottom:8px}.r0bn4c.tr0dw{color:rgba(255,255,255,.70)}.r0bn4c.rQMQod{color:#70757a}.nMymef{display:flex}.G5eFlf{flex:1;display:block}.nMymef span{text-align:center}</style><div><!--SW_C_X--></div><div class=\"ZINbbc xpd O9g5cc uUPGi\"><div class=\"mBamKb\" data-hveid=\"CAYQAA\"><form action=\"/search\" id=\"lrtl\" onsubmit=\"return lrtlSubmit()\"><input name=\"tlsa\" type=\"hidden\"/><input name=\"ie\" type=\"hidden\" value=\"UTF-8\"/><input name=\"ei\" type=\"hidden\" value=\"btqxX4boG9CHjLsP-6aB-AE\"/><input name=\"q\" type=\"hidden\" value=\"Translate\"/><input disabled=\"disabled\" name=\"tlitett\" type=\"hidden\" value=\"美国长嘴鳄\"/><div class=\"BmP5tf\"><div style=\"overflow:hidden\"><div aria-label=\"Swap languages\" class=\"SvzMcc\" data-ved=\"2ahUKEwiG1_-Z-YXtAhXQA2MBHXtTAB8QiHZ6BAgGEAE\" onclick=\"lrtlSwap(this)\" role=\"button\" tabindex=\"0\"><img alt=\"Swap\" height=\"26\" src=\"data:image/png;base64,iVBORw0KGgoAAAANSUhEUgAAADAAAAAwCAQAAAD9CzEMAAAAmUlEQVR4Ae3SsQrDMAyEYb/0zbbsJH3lDIFrByNMcSiUc5dK/56PWEoxv5gYGArStyV8qoKvbBXQwF5dAWzgUFMDO/jWpgQOcNKuAh7gTYcCyDg99k4vS8/UAf2ZBhAAewEE8A+AF0AAEiDj8ti7vKz4gwbeVFVPVMFJJtzBhDD1kg0cKvorGomy6kyLf14POFGQlgFeAAE8AfyDgM78w+0GAAAAAElFTkSuQmCC\" width=\"26\"/></div><select aria-label=\"Select source language\" class=\"J9hCCd\" name=\"tlitesl\" onchange=\"lrtlSelect(this)\"><option value=\"auto\">Detect language</option><option disabled=\"\">──────────</option><option selected=\"selected\" value=\"en\">English</option><option value=\"zh-CN\">Chinese (Simplified)</option><option value=\"fr\">French</option><option value=\"ja\">Japanese</option><option value=\"es\">Spanish</option><option disabled=\"\">──────────</option><option value=\"seeAll\">See all languages</option></select></div><div class=\"j7pMuf\" id=\"lrtl-source-text\"><input autocomplete=\"off\" autofocus=\"\" class=\"EvnMAf\" maxlength=\"3900\" name=\"tlitetxt\" placeholder=\"Enter text\" spellcheck=\"false\" type=\"text\" value=\"American Avocet\"/><div aria-label=\"Clear text\" class=\"x\" data-ved=\"2ahUKEwiG1_-Z-YXtAhXQA2MBHXtTAB8QinZ6BAgGEAI\" onclick=\"lrtlClear(this)\" role=\"button\" tabindex=\"0\"><img alt=\"Clear\" height=\"26\" src=\"data:image/png;base64,iVBORw0KGgoAAAANSUhEUgAAADAAAAAwCAQAAAD9CzEMAAAAzElEQVRYw+2WWwqEMAxFAy7S1zrugtQiLrKQ+RscKzZp0w+H3O/2HAjtJUQej+dvgw4Bvfj0jBWdDn+AEWUKzIhg7AoFAhgMRsQgxDMYm1wwfC9lFCd8lI9UrCjGJ4rRHE9EhPFJUY1/VpjgE8VkjiciwnRVmOJThTk+UdjjL2NpgU8U9vjmgsYj+nk5Ud60Jfhe3rRFeF2ZF+FlTVuFzzdtNd5Eke+c+6Y1w983rSm+QoFV/l9PikWzeO3qxStodzvd6rio8B6P52X5AO0Up+FtlvwxAAAAAElFTkSuQmCC\" width=\"26\"/></div></div></div><hr class=\"BUybKe\"/><div class=\"BmP5tf\"><div class=\"q7fqqf\"><select aria-label=\"Select target language\" class=\"J9hCCd\" name=\"tlitetl\" onchange=\"lrtlSelect(this)\"><option selected=\"selected\" value=\"zh-CN\">Chinese (Simplified)</option><option value=\"en\">English</option><option value=\"fr\">French</option><option value=\"ja\">Japanese</option><option value=\"es\">Spanish</option><option disabled=\"\">──────────</option><option value=\"seeAll\">See all languages</option></select></div><div style=\"position:relative;overflow:auto\"><div class=\"EvnMAf j7pMuf\"><span class=\"hLm84b\" id=\"lrtl-translation-placeholder\" style=\"display:none\">Translation</span><div class=\"MUxGbd u31kKd gsrt lyLwlc\" id=\"lrtl-translation-text\" style=\"font-size:20px\">美国长嘴鳄</div><div class=\"PME8Xe MUxGbd gbj1yb WZ8Tjf\" id=\"lrtl-transliteration-text\">Měiguó cháng zuǐ è</div><button class=\"UlAkde translate-button pMeOud ayLRkf UTLLgb\" data-ved=\"2ahUKEwiG1_-Z-YXtAhXQA2MBHXtTAB8Qh3Z6BAgGEAM\"><div class=\"rX3Agf\">Translate</div></button></div></div></div></form></div></div><div><div class=\"ZINbbc xpd O9g5cc uUPGi\"><div class=\"kCrYT\"><a href=\"/url?q=http://blog.sina.com.cn/s/blog_638e7b580100y0ub.html&amp;sa=U&amp;ved=2ahUKEwiG1_-Z-YXtAhXQA2MBHXtTAB8QFjABegQICRAB&amp;usg=AOvVaw0ylyOLPi5ryFLG5Na1ZAZY\"><h3 class=\"zBAuLc\"><div class=\"BNeawe vvjwJb AP7Wnd\">佛州拍鸟之二--美洲反嘴鹬(American Avocet)_开新花的老榕树_新浪 ...</div></h3><div class=\"BNeawe UPmit AP7Wnd\">blog.sina.com.cn › ...</div></a></div><div class=\"x54gtf\"></div><div class=\"kCrYT\"><div><div class=\"BNeawe s3v9rd AP7Wnd\"><div><div><div class=\"BNeawe s3v9rd AP7Wnd\"><span class=\"r0bn4c rQMQod\">May 12, 2012</span><span class=\"r0bn4c rQMQod\"> · </span>在网上搜索了一下，几乎没有发现有关美洲反嘴鹬的中文介绍。只得读了些英文资料后，自己拼凑出一段介绍，供参考：. 美洲反嘴鹬与其他地方的反 ...</div></div></div></div></div></div></div></div><div><div class=\"ZINbbc xpd O9g5cc uUPGi\"><div class=\"kCrYT\"><a href=\"/url?q=http://www.sinovision.net/home/space/do/blog/uid/320719/id/220474.html&amp;sa=U&amp;ved=2ahUKEwiG1_-Z-YXtAhXQA2MBHXtTAB8QFjACegQIChAB&amp;usg=AOvVaw2XDEflsLKlEEkqPdhenjJM\"><h3 class=\"zBAuLc\"><div class=\"BNeawe vvjwJb AP7Wnd\">American avocet 美洲反嘴鹬- 迷光梦影的博文- 美国中文网</div></h3><div class=\"BNeawe UPmit AP7Wnd\">www.sinovision.net › home › space › blog › uid</div></a></div><div class=\"x54gtf\"></div><div class=\"kCrYT\"><div><div class=\"BNeawe s3v9rd AP7Wnd\"><div><div><div class=\"BNeawe s3v9rd AP7Wnd\"><span class=\"r0bn4c rQMQod\">Mar 8, 2014</span><span class=\"r0bn4c rQMQod\"> · </span>美国中文网,1.2.3.4.5.6.7.8.9.10.11.12.谢谢观看！ ,美国中文网.</div></div></div></div></div></div></div></div><div><div class=\"ZINbbc xpd O9g5cc uUPGi\"><div class=\"kCrYT\"><a href=\"/url?q=http://www.ichacha.net/american%2520avocet.html&amp;sa=U&amp;ved=2ahUKEwiG1_-Z-YXtAhXQA2MBHXtTAB8QFjADegQIBxAB&amp;usg=AOvVaw3RCsWCPZvXUwFBV_3toNTa\"><h3 class=\"zBAuLc\"><div class=\"BNeawe vvjwJb AP7Wnd\">american avocet中文_american avocet是什么意思 - 查查在线词典</div></h3><div class=\"BNeawe UPmit AP7Wnd\">www.ichacha.net › 英语翻译</div></a></div><div class=\"x54gtf\"></div><div class=\"kCrYT\"><div><div class=\"BNeawe s3v9rd AP7Wnd\"><div><div><div class=\"BNeawe s3v9rd AP7Wnd\">american avocet的中文意思：红胸反嘴鹬…，查阅american avocet的详细中文 翻译、发音、用法和例句等。</div></div></div></div></div></div></div></div><div><div class=\"ZINbbc xpd O9g5cc uUPGi\"><div class=\"kCrYT\"><a href=\"/url?q=http://www.ichacha.net/avocet.html&amp;sa=U&amp;ved=2ahUKEwiG1_-Z-YXtAhXQA2MBHXtTAB8QFjAEegQICBAB&amp;usg=AOvVaw2zvkmRFPrF0-3kSVw8-irw\"><h3 class=\"zBAuLc\"><div class=\"BNeawe vvjwJb AP7Wnd\">avocet中文_avocet是什么意思 - 查查在线词典</div></h3><div class=\"BNeawe UPmit AP7Wnd\">www.ichacha.net › 英语翻译</div></a></div><div class=\"x54gtf\"></div><div class=\"kCrYT\"><div><div class=\"BNeawe s3v9rd AP7Wnd\"><div><div><div class=\"BNeawe s3v9rd AP7Wnd\">【鸟类】反嘴长脚鹅。…，查阅avocet的详细中文翻译、发音、用法和例句等。 ... \" american avocet\"中文翻译 红胸反嘴鹬; \"andean avocet\"中文翻译 安第斯反嘴鹬 ...</div></div></div></div></div></div></div></div><div><div class=\"ZINbbc xpd O9g5cc uUPGi\"><div class=\"kCrYT\"><a href=\"/url?q=https://zh.glosbe.com/en/zh/avocet&amp;sa=U&amp;ved=2ahUKEwiG1_-Z-YXtAhXQA2MBHXtTAB8QFjAFegQIABAB&amp;usg=AOvVaw34jveBLBQBtI2DQxxcVg4r\"><h3 class=\"zBAuLc\"><div class=\"BNeawe vvjwJb AP7Wnd\">avocet中的中文-英文-中文字典|格洛斯贝 - Glosbe</div></h3><div class=\"BNeawe UPmit AP7Wnd\">zh.glosbe.com › 英文-中文字典</div></a></div><div class=\"x54gtf\"></div><div class=\"kCrYT\"><div><div class=\"BNeawe s3v9rd AP7Wnd\"><div><div><div class=\"BNeawe s3v9rd AP7Wnd\">检查“ avocet”到中文的翻译。浏览句子中avocet的翻译示例，听发音并学习语法。 ... American Avocet 在中文中 · 褐胸反嘴鹬在英文中 · Pied Avocet 在中文中.</div></div></div></div></div></div></div></div><div><div class=\"ZINbbc xpd O9g5cc uUPGi\"><div class=\"kCrYT\"><a href=\"/url?q=https://zh.glosbe.com/en/zh/American%2520Avocet&amp;sa=U&amp;ved=2ahUKEwiG1_-Z-YXtAhXQA2MBHXtTAB8QFjAGegQIBRAB&amp;usg=AOvVaw02fiNcXdIkLwpTKfJ_FDO-\"><h3 class=\"zBAuLc\"><div class=\"BNeawe vvjwJb AP7Wnd\">American Avocet中的中文-英文-中文字典|格洛斯贝 - Glosbe</div></h3><div class=\"BNeawe UPmit AP7Wnd\">zh.glosbe.com › 英文-中文字典</div></a></div><div class=\"x54gtf\"></div><div class=\"kCrYT\"><div><div class=\"BNeawe s3v9rd AP7Wnd\"><div><div><div class=\"BNeawe s3v9rd AP7Wnd\">检查“ American Avocet”到中文的翻译。浏览句子中American Avocet的翻译示例， 听发音并学习语法。</div></div></div></div></div></div></div></div><div><div class=\"ZINbbc xpd O9g5cc uUPGi\"><div class=\"kCrYT\"><a href=\"/url?q=https://en.wikipedia.org/wiki/Avocet&amp;sa=U&amp;ved=2ahUKEwiG1_-Z-YXtAhXQA2MBHXtTAB8QFjAHegQIAxAB&amp;usg=AOvVaw0gJtmeRb30nTVWSPoLnllu\"><h3 class=\"zBAuLc\"><div class=\"BNeawe vvjwJb AP7Wnd\">Avocet - Wikipedia</div></h3><div class=\"BNeawe UPmit AP7Wnd\">en.wikipedia.org › wiki › Avocet</div></a></div><div class=\"x54gtf\"></div><div class=\"kCrYT\"><div><div class=\"BNeawe s3v9rd AP7Wnd\"><div><div><div class=\"BNeawe s3v9rd AP7Wnd\">The four species of avocets /ˈævəsɛt/ are a genus, Recurvirostra, of waders in the same avian ... Recurvirostra americana, American avocet, Central/Western United States, Southern Florida, Mexico, Saskatchewan, and Alberta. ... Polski · Русский · Suomi · Svenska · Türkçe · Українська · Tiếng Việt · Winaray · 中文; 25 more.</div></div></div></div></div></div></div></div><div><div class=\"ZINbbc xpd O9g5cc uUPGi\"><div class=\"kCrYT\"><a href=\"/url?q=https://zh.m.wikipedia.org/zh/File:American_Avocet_2.jpg&amp;sa=U&amp;ved=2ahUKEwiG1_-Z-YXtAhXQA2MBHXtTAB8QFjAIegQIAhAB&amp;usg=AOvVaw1pw7VDSBcmh2y1HJcK4WL7\"><h3 class=\"zBAuLc\"><div class=\"BNeawe vvjwJb AP7Wnd\">File:American Avocet 2.jpg - 维基百科，自由的百科全书</div></h3><div class=\"BNeawe UPmit AP7Wnd\">zh.m.wikipedia.org › File:American_Avocet_2</div></a></div><div class=\"x54gtf\"></div><div class=\"kCrYT\"><div><div class=\"BNeawe s3v9rd AP7Wnd\"><div><div><div class=\"BNeawe s3v9rd AP7Wnd\">File:American Avocet 2.jpg. 本预览的尺寸：800 × 597像素。 ... 本文件并不在中文 维基百科上，而是来自维基共享资源。请参阅共享资源上的详细描述、讨论页、 ...</div></div></div></div></div></div></div></div><div><div class=\"ZINbbc xpd O9g5cc uUPGi\"><div class=\"kCrYT\"><a href=\"/url?q=https://ebird.org/species/ameavo&amp;sa=U&amp;ved=2ahUKEwiG1_-Z-YXtAhXQA2MBHXtTAB8QFjAJegQIBBAB&amp;usg=AOvVaw02LYPHrQTtphZOeV-LRlkm\"><h3 class=\"zBAuLc\"><div class=\"BNeawe vvjwJb AP7Wnd\">American Avocet - eBird</div></h3><div class=\"BNeawe UPmit AP7Wnd\">ebird.org › species › ameavo</div></a></div><div class=\"x54gtf\"></div><div class=\"kCrYT\"><div><div class=\"BNeawe s3v9rd AP7Wnd\"><div><div><div class=\"BNeawe s3v9rd AP7Wnd\">Distinctive large shorebird with a long, thin upturned bill and lean neck. Bold black-and-white wings prominent year-round. Adults in summer have buffy- orange ...</div></div></div></div></div></div></div></div><div><div class=\"ZINbbc xpd O9g5cc uUPGi\"><div class=\"kCrYT\"><a href=\"/url?q=https://www.shutterstock.com/search/american%2Bavocet&amp;sa=U&amp;ved=2ahUKEwiG1_-Z-YXtAhXQA2MBHXtTAB8QFjAKegQIARAB&amp;usg=AOvVaw3D9FV1Pdbvnm0Mws9S3r3H\"><h3 class=\"zBAuLc\"><div class=\"BNeawe vvjwJb AP7Wnd\">American Avocet Images, Stock Photos &amp; Vectors | Shutterstock</div></h3><div class=\"BNeawe UPmit AP7Wnd\">www.shutterstock.com › search › american+avocet</div></a></div><div class=\"x54gtf\"></div><div class=\"kCrYT\"><div><div class=\"BNeawe s3v9rd AP7Wnd\"><div><div><div class=\"BNeawe s3v9rd AP7Wnd\">Find american avocet stock images in HD and millions of other royalty-free stock photos, illustrations and vectors in the Shutterstock collection. Thousands of ...</div></div></div></div></div></div></div></div><footer> <div> <div class=\"ZINbbc xpd O9g5cc uUPGi BmP5tf\"><div class=\"nMymef MUxGbd lyLwlc\"><a aria-label=\"Next page\" class=\"nBDE1b G5eFlf\" href=\"/search?q=American+Avocet+%E4%B8%AD%E6%96%87&amp;ie=UTF-8&amp;ei=btqxX4boG9CHjLsP-6aB-AE&amp;start=10&amp;sa=N\">Next &gt;</a></div></div> </div> <div id=\"mCljob\"><div><a href=\"/url?q=https://accounts.google.com/ServiceLogin%3Fcontinue%3Dhttps://www.google.com/search%253Fq%253DAmerican%252BAvocet%252B%2525E4%2525B8%2525AD%2525E6%252596%252587%26hl%3Den&amp;sa=U&amp;ved=0ahUKEwiG1_-Z-YXtAhXQA2MBHXtTAB8Qxs8CCDI&amp;usg=AOvVaw0Idn6kFptxbZkIiecMwY-r\">Sign in</a></div><div><a class=\"ksTU4c\" href=\"https://www.google.com/preferences?hl=en&amp;fg=1&amp;sa=X&amp;ved=0ahUKEwiG1_-Z-YXtAhXQA2MBHXtTAB8Q5fUCCDM\">Settings</a><a class=\"ksTU4c\" href=\"https://policies.google.com/privacy?hl=en&amp;fg=1\">Privacy</a><a class=\"ksTU4c\" href=\"https://policies.google.com/terms?hl=en&amp;fg=1\">Terms</a></div></div> </footer><script nonce=\"19thd6wQ7TSXS+36YUvelA==\">(function(){var hl='en';(function(){\n",
      "var f=this||self,k=function(a){if(a&&a!=f)return g(a.document);null===h&&(h=g(f.document));return h},l=/^[\\w+/_-]+[=]{0,2}$/,h=null,g=function(a){return(a=a.querySelector&&a.querySelector(\"script[nonce]\"))&&(a=a.nonce||a.getAttribute(\"nonce\"))&&l.test(a)?a:\"\"},m=function(a){return a};var n,q=function(){if(void 0===n){var a=null,b=f.trustedTypes;if(b&&b.createPolicy){try{a=b.createPolicy(\"goog#html\",{createHTML:m,createScript:m,createScriptURL:m})}catch(c){f.console&&f.console.error(c.message)}n=a}else n=a}return n};var u=function(a,b){this.g=a===r&&b||\"\";this.a=t},v=function(a){return a instanceof u&&a.constructor===u&&a.a===t?a.g:\"type_error:Const\"},t={},r={};var x=function(a,b){this.a=b===w?a:\"\"},y=function(a){return a instanceof x&&a.constructor===x?a.a:\"type_error:TrustedResourceUrl\"},aa=function(){var a={},b=v(new u(r,\"/complete/search\"));if(!z.test(b))throw Error(\"a`\"+b);var c=b.replace(A,function(d,e){if(!Object.prototype.hasOwnProperty.call(a,e))throw Error(\"b`\"+e+\"`\"+b+\"`\"+JSON.stringify(a));d=a[e];return d instanceof u?v(d):encodeURIComponent(String(d))});return B(c)},A=/%{(\\w+)}/g,z=/^((https:)?\\/\\/[0-9a-z.:[\\]-]+\\/|\\/[^/\\\\]|[^:/\\\\%]+\\/|[^:/\\\\%]*[?#]|about:blank#)/i,ba=/^([^?#]*)(\\?[^#]*)?(#[\\s\\S]*)?/,w={},B=function(a){var b=q();a=b?b.createScriptURL(a):a;return new x(a,w)},C=function(a,b,c){if(null==c)return b;if(\"string\"===typeof c)return c?a+encodeURIComponent(c):\"\";for(var d in c)if(Object.prototype.hasOwnProperty.call(c,d)){var e=c[d];e=Array.isArray(e)?e:[e];for(var p=0;p<e.length;p++){var T=e[p];null!=T&&(b||(b=a),b+=(b.length>a.length?\"&\":\"\")+encodeURIComponent(d)+\"=\"+encodeURIComponent(String(T)))}}return b};var E=function(a,b,c){this.a=c===D?a:\"\"},F=function(a){return a instanceof E&&a.constructor===E?a.a:\"type_error:SafeHtml\"},D={},ca=function(a){var b=q();a=b?b.createHTML(a):a;return new E(a,null,D)},da=new E(f.trustedTypes&&f.trustedTypes.emptyHTML||\"\",0,D);var ea=function(a){var b=!1,c;return function(){b||(c=a(),b=!0);return c}}(function(){var a=document.createElement(\"div\"),b=document.createElement(\"div\");b.appendChild(document.createElement(\"div\"));a.appendChild(b);b=a.firstChild.firstChild;a.innerHTML=F(da);return!b.parentElement}),fa=function(a,b){if(ea())for(;a.lastChild;)a.removeChild(a.lastChild);a.innerHTML=F(b)};var G=document.querySelector(\".l\"),H=document.querySelector(\"#sf\"),I=H.querySelector(\".sbc\"),J=H.querySelector(\"[type=text]\"),K=H.querySelector(\"[type=submit]\"),L=H.querySelector(\".sc\"),M=H.querySelector(\".x\"),N=J.value,O=[],P=-1,Q=N,R,S,U;N||(M&&(M.style.display=\"none\"),V(!1));function V(a){if(I.classList.contains(\"esbc\")){var b=I.classList.contains(\"chsbc\"),c=I.classList.contains(\"rtlsbc\");a&&(L.style.display=\"block\",b?(H.style.borderRadius=\"20px 20px 0 0\",L.style.borderBottom=\"1px solid #DFE1E5\",K.style.borderRadius=c?\"20px 0 0 0\":\"0 20px 0 0\"):I.style.borderRadius=c?\"0 8px 0 0\":\"8px 0 0 0\");a||(L.style.display=\"none\",b?(H.style.borderRadius=\"20px\",L.style.borderBottom=\"none\",K.style.borderRadius=c?\"20px 0 0 20px\":\"0 20px 20px 0\"):I.style.borderRadius=c?\"0 8px 8px 0\":\"8px 0 0 8px\")}}function W(){H.querySelector(\"[name=oq]\").value=Q;H.querySelector(\"[name=aqs]\").value=\"heirloom-srp.\"+(0<=P?P:\"\")+\".\"+(0<O.length?\"0l\"+O.length:\"\")}\n",
      "function X(){R=null;if(S){var a={client:\"heirloom-srp\",hl:hl,json:\"t\",callback:\"hS\",q:S};\"undefined\"!==typeof ds&&ds&&(a.ds=ds);var b=document;var c=\"SCRIPT\";\"application/xhtml+xml\"===b.contentType&&(c=c.toLowerCase());c=b.createElement(c);b=aa();b=ba.exec(y(b).toString());var d=b[3]||\"\";a=B(b[1]+C(\"?\",b[2]||\"\",a)+C(\"#\",d,void 0));c.src=y(a);(a=k(c.ownerDocument&&c.ownerDocument.defaultView))&&c.setAttribute(\"nonce\",a);(a=k())&&c.setAttribute(\"nonce\",a);document.body.appendChild(c);S=null;R=setTimeout(X,500)}}function Y(){for(;L.firstChild;)L.removeChild(L.firstChild);O=[];P=-1;V(!1)}function Z(){var a=L.querySelector(\".scs\");a&&(a.className=\"\");0<=P?(a=L.childNodes[P],a.className=\"scs\",N=a.textContent):N=Q;J.value=N}J.addEventListener(\"focus\",function(){G&&(G.style.display=\"none\")},!1);J.addEventListener(\"blur\",function(){Y();G&&(G.style.display=\"\")},!1);J.addEventListener(\"keyup\",function(a){N=J.value;U=!1;13==a.which?W():27==a.which?(Y(),G&&(G.style.display=\"\"),N=Q,J.value=N):40==a.which?(P++,P>=O.length&&(P=-1),Z()):38==a.which?(P--,-1>P&&(P=O.length-1),Z()):(a=N)?(M&&(M.style.display=\"\"),S=a,R||X(),Q=a):(M&&(M.style.display=\"none\"),V(!1),Y(),Q=\"\",U=!0)},!1);K.addEventListener(\"click\",W,!1);M.addEventListener(\"click\",function(){J.value=\"\";M.style.display=\"none\";V(!1)},!1);I.addEventListener(\"click\",function(){J.focus()},!1);window.hS=function(a){if(!U){Y();0==a[1].length&&V(!1);for(var b=0;b<a[1].length;b++){var c=a[1][b][0],d=document.createElement(\"div\");var e=ca(c);fa(d,e);d.addEventListener(\"mousedown\",function(p){p.preventDefault();return!1},!1);c=c.replace(/<\\/?b>/g,\"\");d.addEventListener(\"click\",function(p){return function(){P=p;W();Z();Y();H.submit()}}(b),!1);L.appendChild(d);V(!0);O.push(c)}}};}).call(this);})();(function(){\n",
      "function b(a){for(a=a.target||a.srcElement;a&&\"A\"!=a.nodeName;)a=a.parentElement;a&&(a.href||\"\").match(/\\/search.*[?&]tbm=isch/)&&(a.href+=\"&biw=\"+document.documentElement.clientWidth,a.href+=\"&bih=\"+document.documentElement.clientHeight)}document.addEventListener(\"click\",b,!1);document.addEventListener(\"touchStart\",b,!1);}).call(this);</script></div><!-- cctlcm 5 cctlcm --><textarea class=\"csi\" name=\"csi\" style=\"display:none\"></textarea><script nonce=\"19thd6wQ7TSXS+36YUvelA==\">(function(){var e='btqxX4boG9CHjLsP-6aB-AE';var sn='web';(function(){\n",
      "function x(a){return!a||y(a)?0:a.getBoundingClientRect?z(a,function(c){return c.getBoundingClientRect()}):1}function y(a){if(\"none\"==a.style.display)return!0;if(document.defaultView&&document.defaultView.getComputedStyle){var c=a.getAttribute(\"data-deferred\");c&&a.setAttribute(\"data-deferred\",0);var b=document.defaultView.getComputedStyle(a);b=!!b&&(\"hidden\"==b.visibility||\"0px\"==b.height&&\"0px\"==b.width);c&&a.setAttribute(\"data-deferred\",c);return b}return!1}\n",
      "function z(a,c){var b=c(a);a=b.left+window.pageXOffset;c=b.top+window.pageYOffset;var f=b.width;b=b.height;var h=0;if(0>=b&&0>=f)return h;0>c+b?h=2:c>=(window.innerHeight||document.documentElement.clientHeight)&&(h=4);if(0>a+f||a>=(window.innerWidth||document.documentElement.clientWidth))h|=8;return h||1};var H=e,I=sn,J=[];function K(a,c,b){a=\"/gen_204?atyp=csi&s=\"+(I||\"web\")+\"&t=\"+a+(\"&lite=1&ei=\"+H+\"&conn=\"+(window.navigator&&window.navigator.connection?window.navigator.connection.type:-1)+c);c=\"&rt=\";for(var f in b)a+=\"\"+c+f+\".\"+b[f],c=\",\";return a}function L(a){a={prt:a};window.wsrt&&(a.wsrt=window.wsrt);return a}function M(a){window.ping?window.ping(a):(new Image).src=a}\n",
      "(function(){for(var a=(new Date).getTime()-window.start,c=L(a),b=0,f=0,h=0,A=document.getElementsByTagName(\"img\"),n=\"&imn=\"+A.length+\"&biw=\"+window.innerWidth+\"&bih=\"+window.innerHeight,N=function(g,p){g.onload=function(){f=(new Date).getTime()-window.start;p&&++t==h&&(b=f,B());g.onload=null}},B=function(){n+=\"&ima=\"+h;c.aft=b;M(K(\"aft\",n,c))},t=0,O=0,d=void 0;d=A[O++];){var q=x(d),r=1==q;r&&++h;var m=d.hasAttribute(\"data-ilite\"),u=d.hasAttribute(\"data-deferred\")||m,C=d.getAttribute(\"data-src\")||\n",
      "d.getAttribute(\"data-lzysrc\");J.push([q,u,!u&&C,google.ldi&&d.id&&google.ldi[d.id]||m&&C]);m=(q=d.complete&&(m||!u))&&Number(d.getAttribute(\"data-iml\"))||0;q&&m?(r&&++t,m&&(d=m-window.start,r&&(b=Math.max(b,d)),f=Math.max(f,d))):N(d,r)}b||(b=a);f||(f=b);t==h&&B();google.rglh&&google.rglh();window.addEventListener(\"load\",function(){window.setTimeout(function(){c.ol=(new Date).getTime()-window.start;c.iml=f;var g=window.performance&&window.performance.timing;g&&(c.rqst=g.responseEnd-g.requestStart,c.rspt=g.responseEnd-g.responseStart);for(var p=g=0,D=0,E=0,F=0,P=0,k;k=J[P++];){var l=k[0],v=k[1],Q=k[2];k=k[3];var R=0==l,w=l&8,G=l&4;l=1==l||2==l||w&&!G;!l||w||v&&!k||++D;v&&(l&&k&&++g,G&&!k&&++p);R||w?Q||++F:v||++E}n+=\"&ime=\"+D+(\"&imex=\"+E+\"&imeh=\"+F)+(\"&imea=\"+g+\"&imeb=\"+p);M(K(\"all\",n,c))},0)},!1)})();}).call(this);})();</script><script nonce=\"19thd6wQ7TSXS+36YUvelA==\">(function(){var e='btqxX4boG9CHjLsP-6aB-AE';(function(){\n",
      "var a=e;2==(window.performance&&window.performance.navigation&&window.performance.navigation.type)&&window.ping(\"/gen_204?ct=backbutton&ei=\"+a);}).call(this);})();(function(){\n",
      "var b=[function(){google.tick&&google.tick(\"load\",\"dcl\")}];google.dclc=function(a){b.length?b.push(a):a()};function c(){for(var a;a=b.shift();)a()}window.addEventListener?(document.addEventListener(\"DOMContentLoaded\",c,!1),window.addEventListener(\"load\",c,!1)):window.attachEvent&&window.attachEvent(\"onload\",c);}).call(this);(function(){(function(){google.csct={};google.csct.ps='AOvVaw0EbdWvbb19VrGo6z_xfRkK\\x26ust\\x3d1605577710490100';})();})();(function(){(function(){google.csct.rd=true;})();})();(function(){(function(){\n",
      "var g=document.getElementById(\"lrtl\"),l=g.elements.namedItem(\"tlitetxt\"),m=g.getElementsByClassName(\"x\")[0];l.addEventListener(\"input\",function(){m.style.display=l.value?\"\":\"none\"});function n(){var a=document.getElementById(\"lrtl\").elements.namedItem(\"tlitetxt\");return a?!!a.value.trim():!1}function p(a){if(a&&(a=a.attributes[\"data-ved\"])){var b=new XMLHttpRequest;b.open(\"GET\",\"/gen_204?ved=\"+a.value);b.send()}}\n",
      "window.lrtlSubmit=function(){var a=document.getElementById(\"lrtl\").getElementsByClassName(\"translate-button\");return 0<a.length?(p(a[0]),n()):!1};window.lrtlSwap=function(a){var b=document.getElementById(\"lrtl\"),c=b.elements,h=document.getElementById(\"lrtl-source-text\"),d=c.namedItem(\"tlitetxt\"),e=c.namedItem(\"tlitett\"),f=c.namedItem(\"tlitesl\");c=c.namedItem(\"tlitetl\");if(d&&e&&f&&c){p(a);a=d.value;var k=f.value;e=e.value;var q=c.value;\"auto\"!=k&&(d.value=e,f.value=q,c.value=k,n()?(b.submit(),c.value=q,f.value=k,d.value=a):(m.style.display=\"none\",d.style.direction=\"ltr\",h.style.flexDirection=\"row\"))}};window.lrtlSelect=function(a){if(\"seeAll\"==a.value){a.selectedIndex=0;a=document.getElementById(\"lrtl\");var b=a.elements.namedItem(\"tlsa\");b&&(b.value=1,a.submit())}};window.lrtlClear=function(a){var b=document.getElementById(\"lrtl\").elements,c=b.namedItem(\"tlitetxt\");b=b.namedItem(\"tlitett\");var h=document.getElementById(\"lrtl-source-text\"),d=document.getElementById(\"lrtl-translation-text\"),e=document.getElementById(\"lrtl-transliteration-text\"),f=document.getElementById(\"lrtl-translation-placeholder\");c.value=\"\";c.style.direction=\"ltr\";b.value=\"\";h.style.flexDirection=\"row\";a.style.display=\"none\";f.style.display=\"\";d.style.display=\"none\";e&&(e.style.display=\"none\");p(a)};}).call(this);})();google.drty&&google.drty();</script></body></html>\n"
     ]
    }
   ],
   "source": [
    "from pprint import pprint\n",
    "pprint(soup)"
   ]
  },
  {
   "cell_type": "code",
   "execution_count": 195,
   "metadata": {
    "ExecuteTime": {
     "end_time": "2020-11-16T01:48:49.593341Z",
     "start_time": "2020-11-16T01:48:49.586216Z"
    }
   },
   "outputs": [
    {
     "name": "stdout",
     "output_type": "stream",
     "text": [
      "<div id=\"main\">\n",
      " <div>\n",
      "  <div class=\"KP7LCb\">\n",
      "   <div class=\"bRsWnc\">\n",
      "    <div class=\"N6RWV\">\n",
      "     <div class=\"Pg70bf Uv67qb\">\n",
      "      <span class=\"OXXup\">\n",
      "       All\n",
      "      </span>\n",
      "      <a class=\"eZt8xd\" href=\"/search?q=American+Avocet+%E4%B8%AD%E6%96%87&amp;ie=UTF-8&amp;source=lnms&amp;tbm=isch&amp;sa=X&amp;ved=0ahUKEwiG1_-Z-YXtAhXQA2MBHXtTAB8Q_AUICCgB\">\n",
      "       Images\n",
      "      </a>\n",
      "      <a class=\"eZt8xd\" href=\"https://maps.google.com/maps?q=American+Avocet+%E4%B8%AD%E6%96%87&amp;um=1&amp;ie=UTF-8&amp;sa=X&amp;ved=0ahUKEwiG1_-Z-YXtAhXQA2MBHXtTAB8Q_AUICSgC\">\n",
      "       Maps\n",
      "      </a>\n",
      "      <a class=\"eZt8xd\" href=\"/search?q=American+Avocet+%E4%B8%AD%E6%96%87&amp;ie=UTF-8&amp;source=lnms&amp;tbm=nws&amp;sa=X&amp;ved=0ahUKEwiG1_-Z-YXtAhXQA2MBHXtTAB8Q_AUICigD\">\n",
      "       News\n",
      "      </a>\n",
      "      <a href=\"/search?q=American+Avocet+%E4%B8%AD%E6%96%87&amp;ie=UTF-8&amp;source=lnms&amp;tbm=vid&amp;sa=X&amp;ved=0ahUKEwiG1_-Z-YXtAhXQA2MBHXtTAB8Q_AUICygE\">\n",
      "       Videos\n",
      "      </a>\n",
      "      <a href=\"/search?q=American+Avocet+%E4%B8%AD%E6%96%87&amp;ie=UTF-8&amp;source=lnms&amp;tbm=shop&amp;sa=X&amp;ved=0ahUKEwiG1_-Z-YXtAhXQA2MBHXtTAB8Q_AUIDCgF\">\n",
      "       Shopping\n",
      "      </a>\n",
      "      <a href=\"/search?q=American+Avocet+%E4%B8%AD%E6%96%87&amp;ie=UTF-8&amp;source=lnms&amp;tbm=bks&amp;sa=X&amp;ved=0ahUKEwiG1_-Z-YXtAhXQA2MBHXtTAB8Q_AUIDSgG\">\n",
      "       Books\n",
      "      </a>\n",
      "      <div class=\"FElbsf\">\n",
      "       <a href=\"/advanced_search\" id=\"st-toggle\" role=\"button\" style=\"white-space:nowrap\">\n",
      "        Search tools\n",
      "       </a>\n",
      "      </div>\n",
      "     </div>\n",
      "    </div>\n",
      "   </div>\n",
      "  </div>\n",
      "  <div class=\"Pg70bf wEsjbd ZINbbc xpd O9g5cc uUPGi\" id=\"st-card\" style=\"display:none\">\n",
      "   <style>\n",
      "    .wEsjbd{background-color:#fff;height:44px;white-space:nowrap}.coPU8c{height:60px;overflow-scrolling:touch;overflow-x:auto;overflow-y:hidden}.Xj2aue{height:44px;overflow:hidden}.RnNGze{margin:11px 16px}.wEsjbd div,.wEsjbd a,.wEsjbd li{outline-width:0;outline:none}\n",
      "   </style>\n",
      "   <div class=\"Xj2aue\">\n",
      "    <div class=\"coPU8c\">\n",
      "     <div class=\"RnNGze\">\n",
      "      <style>\n",
      "       .PA9J5{display:inline-block}.RXaOfd{display:inline-block;height:22px;position:relative;padding-top:0;padding-bottom:0;padding-right:16px;padding-left:0;line-height:22px;cursor:pointer;text-transform:uppercase;font-size:12px;color:#70757a}.sa1toc{display:none;position:absolute;background:#fff;border:1px solid #d6d6d6;box-shadow:0 2px 4px rgba(0,0,0,0.3);margin:0;white-space:nowrap;z-index:103;line-height:17px;padding-top:5px;padding-bottom:5px;padding-left:0px}.PA9J5:hover .sa1toc{display:block}.mGSy8d a:active,.RXaOfd:active{color:#4285f4}\n",
      "      </style>\n",
      "      <div class=\"PA9J5\">\n",
      "       <div class=\"RXaOfd\" role=\"button\" tabindex=\"0\">\n",
      "        <style>\n",
      "         .TWMOUc{display:inline-block;padding-right:14px;white-space:nowrap}.vQYuGf{font-weight:bold}.OmTIzf{border-color:#909090 transparent;border-style:solid;border-width:4px 4px 0 4px;width:0;height:0;margin-left:-10px;top:50%;margin-top:-2px;position:absolute}.RXaOfd:active .OmTIzf{border-color:#4285f4 transparent}\n",
      "        </style>\n",
      "        <div class=\"TWMOUc\">\n",
      "         Any time\n",
      "        </div>\n",
      "        <span class=\"OmTIzf\">\n",
      "        </span>\n",
      "       </div>\n",
      "       <ul class=\"sa1toc ozatM\">\n",
      "        <style>\n",
      "         .ozatM{font-size:12px;text-transform:uppercase}.ozatM .yNFsl,.ozatM li{list-style-type:none;list-style-position:outside;list-style-image:none}.yNFsl.SkUj4c,.yNFsl a{color:rgba(0,0,0,0.54);text-decoration:none;padding:6px 44px 6px 14px;line-height:17px;display:block}.SkUj4c{background-image:url(//ssl.gstatic.com/ui/v1/menu/checkmark2.png);background-position:right center;background-repeat:no-repeat}.SkUj4c:active{background-color:#f8f9fa}\n",
      "        </style>\n",
      "        <li class=\"yNFsl SkUj4c\">\n",
      "         Any time\n",
      "        </li>\n",
      "        <li class=\"yNFsl\">\n",
      "         <a href=\"/search?q=American+Avocet+%E4%B8%AD%E6%96%87&amp;ie=UTF-8&amp;source=lnt&amp;tbs=qdr:h&amp;sa=X&amp;ved=0ahUKEwiG1_-Z-YXtAhXQA2MBHXtTAB8QpwUIDw\">\n",
      "          Past hour\n",
      "         </a>\n",
      "        </li>\n",
      "        <li class=\"yNFsl\">\n",
      "         <a href=\"/search?q=American+Avocet+%E4%B8%AD%E6%96%87&amp;ie=UTF-8&amp;source=lnt&amp;tbs=qdr:d&amp;sa=X&amp;ved=0ahUKEwiG1_-Z-YXtAhXQA2MBHXtTAB8QpwUIEA\">\n",
      "          Past 24 hours\n",
      "         </a>\n",
      "        </li>\n",
      "        <li class=\"yNFsl\">\n",
      "         <a href=\"/search?q=American+Avocet+%E4%B8%AD%E6%96%87&amp;ie=UTF-8&amp;source=lnt&amp;tbs=qdr:w&amp;sa=X&amp;ved=0ahUKEwiG1_-Z-YXtAhXQA2MBHXtTAB8QpwUIEQ\">\n",
      "          Past week\n",
      "         </a>\n",
      "        </li>\n",
      "        <li class=\"yNFsl\">\n",
      "         <a href=\"/search?q=American+Avocet+%E4%B8%AD%E6%96%87&amp;ie=UTF-8&amp;source=lnt&amp;tbs=qdr:m&amp;sa=X&amp;ved=0ahUKEwiG1_-Z-YXtAhXQA2MBHXtTAB8QpwUIEg\">\n",
      "          Past month\n",
      "         </a>\n",
      "        </li>\n",
      "        <li class=\"yNFsl\">\n",
      "         <a href=\"/search?q=American+Avocet+%E4%B8%AD%E6%96%87&amp;ie=UTF-8&amp;source=lnt&amp;tbs=qdr:y&amp;sa=X&amp;ved=0ahUKEwiG1_-Z-YXtAhXQA2MBHXtTAB8QpwUIEw\">\n",
      "          Past year\n",
      "         </a>\n",
      "        </li>\n",
      "       </ul>\n",
      "      </div>\n",
      "      <div class=\"PA9J5\">\n",
      "       <div class=\"RXaOfd\" role=\"button\" tabindex=\"0\">\n",
      "        <div class=\"TWMOUc\">\n",
      "         All results\n",
      "        </div>\n",
      "        <span class=\"OmTIzf\">\n",
      "        </span>\n",
      "       </div>\n",
      "       <ul class=\"sa1toc ozatM\">\n",
      "        <li class=\"yNFsl SkUj4c\">\n",
      "         All results\n",
      "        </li>\n",
      "        <li class=\"yNFsl\">\n",
      "         <a href=\"/search?q=American+Avocet+%E4%B8%AD%E6%96%87&amp;ie=UTF-8&amp;source=lnt&amp;tbs=li:1&amp;sa=X&amp;ved=0ahUKEwiG1_-Z-YXtAhXQA2MBHXtTAB8QpwUIFQ\">\n",
      "          Verbatim\n",
      "         </a>\n",
      "        </li>\n",
      "       </ul>\n",
      "      </div>\n",
      "     </div>\n",
      "    </div>\n",
      "   </div>\n",
      "   <script nonce=\"19thd6wQ7TSXS+36YUvelA==\">\n",
      "    (function(){\n",
      "var a=document.getElementById(\"st-toggle\"),b=document.getElementById(\"st-card\");a&&b&&a.addEventListener(\"click\",function(c){b.style.display=b.style.display?\"\":\"none\";c.preventDefault()},!1);}).call(this);\n",
      "   </script>\n",
      "  </div>\n",
      " </div>\n",
      " <style>\n",
      "  .ZINbbc{background-color:#fff;margin-bottom:10px;box-shadow:0 1px 6px rgba(32, 33, 36, 0.28);border-radius:8px}.uUPGi{font-size:14px;line-height:20px;}.O9g5cc>*:first-child{border-top-left-radius:8px;border-top-right-radius:8px}.O9g5cc>*:last-child{border-bottom-left-radius:8px;border-bottom-right-radius:8px}.O9g5cc>.qxDOhb>*:first-child{border-top-left-radius:8px;border-top-right-radius:8px}.O9g5cc>.qxDOhb>*:last-child{border-bottom-left-radius:8px;border-bottom-right-radius:8px}.J9hCCd{display:block;max-width:65%}.Uo8X3b{clip:rect(1px,1px,1px,1px);height:1px;margin:0;overflow:hidden;padding:0;position:absolute;white-space:nowrap;width:1px;z-index:-1000;user-select:none}.mBamKb .j7pMuf{box-sizing:border-box;display:-webkit-box;display:-moz-box;display:-ms-flexbox;display:-webkit-flex;display:flex;padding:8px 8px 0 8px}.mBamKb input.EvnMAf{height:30px;padding:0}.mBamKb .EvnMAf{border:0;flex:1;display:block;font-size:20px;outline:none;width:100%;-webkit-tap-highlight-color:rgba(0,0,0,0)}.rLshyf,.BmP5tf{padding-top:12px;padding-bottom:12px}.YOx3Ab{padding-left:16px;}.w1C3Le,.BmP5tf,.G5NbBd{padding-left:16px;padding-right:16px;}.G5NbBd{padding-bottom:12px}.SvzMcc{float:right;height:26px;margin:0 8px 8px 0;width:26px}.mBamKb .x{height:26px;line-height:0;margin-top:4px;width:26px}hr{border:0;border-bottom:1px solid #dfe1e5;margin:0}.BUybKe,.HsnFBf{margin-left:16px}.BUybKe,.oM2GA{margin-right:16px}.XO7rhc{margin:0 -16px}.ZM7ZNb{margin:0 -16px 0 0}.mBamKb .UlAkde{bottom:0;float:right;font-size:14px;margin:16px 0 0 16px;max-width:88px;min-width:0;width:32vw}.q7fqqf{padding-bottom:8px}.PME8Xe{float:left;margin-top:16px;text-align:left;white-space:normal}.hLm84b{direction:ltr;float:left;width:100%}.MUxGbd{font-size:14px;font-family:Roboto,HelveticaNeue,Arial,sans-serif;line-height:20px;padding-top:1px;margin-bottom:-1px}.MUxGbd.u31kKd{font-size:24px;line-height:28px;padding-top:2px;margin-bottom:-2px}.lyLwlc{color:#202124}.MUxGbd.gbj1yb{font-size:12px;line-height:16px;padding-top:0px;margin-bottom:-4px}.WZ8Tjf{color:#70757a;}.WZ8Tjf a:visited{color:#acacac}.pMeOud{border:0;border-radius:8px;box-sizing:border-box;font-size:14px;font-weight:500;line-height:16px;min-width:88px;outline:none;padding:0;text-align:center;transition:box-shadow 200ms cubic-bezier(0.4,0,0.2,1);box-shadow:0 1px 1px rgba(0,0,0,.16);user-select:none;white-space:nowrap}.SRjJHb{text-transform:uppercase}.pMeOud:active{outline:none;box-shadow:0 4px 5px rgba(0,0,0,.16)}.rX3Agf{border-radius:8px;outline:none;padding:10px 8px}.rX3Agf:focus{background:rgba(0,0,0,.1)}.rX3Agf:active{background:rgba(0,0,0,.2)}.pMeOud:disabled,.pMeOud[disabled]:not([disabled=false]){pointer-events:none;color:rgba(0,0,0,.26) !important;background:rgba(0,0,0,.12);box-shadow:none}.pMeOud:disabled .rX3Agf,.pMeOud[disabled]:not([disabled=false]) .rX3Agf{background-color:transparent}.ayLRkf{background:#4285f4}.UTLLgb{color:#fff}.rl7ilb{display:block;clear:both}.kCrYT{padding:12px 16px 12px}a.fdYsqf{color:#4B11A8}.zBAuLc{font-weight:normal;line-height:normal;margin:0;padding:0}.BNeawe{white-space:pre-line;word-wrap:break-word}.vvjwJb{color:#1967D2;font-size:16px;line-height:20px}a:visited .vvjwJb,.vvjwJb a:visited{color:#4B11A8}.vvjwJb.HrGdeb{color:#fff}a:visited .vvjwJb.HrGdeb,.vvjwJb.HrGdeb a:visited{color:rgba(255,255,255,.70)}.UPmit{font-size:14px;line-height:20px}.UPmit.HrGdeb{color:rgba(255,255,255,.70)}.UPmit.AP7Wnd{color:#0d652d}.x54gtf{height:1px;background-color:#dfe1e5;margin:0 16px}.Q0HXG{height:1px;background-color:#dfe1e5}.Ap5OSd{padding-bottom:12px}.s3v9rd{font-size:14px;line-height:20px}.s3v9rd.HrGdeb{color:#fff}.s3v9rd.AP7Wnd{color:#202124}.mSx1Ee{padding-left:48px;margin:0}.v9i61e{padding-bottom:8px}.r0bn4c.tr0dw{color:rgba(255,255,255,.70)}.r0bn4c.rQMQod{color:#70757a}.nMymef{display:flex}.G5eFlf{flex:1;display:block}.nMymef span{text-align:center}\n",
      " </style>\n",
      " <div>\n",
      "  <!--SW_C_X-->\n",
      " </div>\n",
      " <div class=\"ZINbbc xpd O9g5cc uUPGi\">\n",
      "  <div class=\"mBamKb\" data-hveid=\"CAYQAA\">\n",
      "   <form action=\"/search\" id=\"lrtl\" onsubmit=\"return lrtlSubmit()\">\n",
      "    <input name=\"tlsa\" type=\"hidden\"/>\n",
      "    <input name=\"ie\" type=\"hidden\" value=\"UTF-8\"/>\n",
      "    <input name=\"ei\" type=\"hidden\" value=\"btqxX4boG9CHjLsP-6aB-AE\"/>\n",
      "    <input name=\"q\" type=\"hidden\" value=\"Translate\"/>\n",
      "    <input disabled=\"disabled\" name=\"tlitett\" type=\"hidden\" value=\"美国长嘴鳄\"/>\n",
      "    <div class=\"BmP5tf\">\n",
      "     <div style=\"overflow:hidden\">\n",
      "      <div aria-label=\"Swap languages\" class=\"SvzMcc\" data-ved=\"2ahUKEwiG1_-Z-YXtAhXQA2MBHXtTAB8QiHZ6BAgGEAE\" onclick=\"lrtlSwap(this)\" role=\"button\" tabindex=\"0\">\n",
      "       <img alt=\"Swap\" height=\"26\" src=\"data:image/png;base64,iVBORw0KGgoAAAANSUhEUgAAADAAAAAwCAQAAAD9CzEMAAAAmUlEQVR4Ae3SsQrDMAyEYb/0zbbsJH3lDIFrByNMcSiUc5dK/56PWEoxv5gYGArStyV8qoKvbBXQwF5dAWzgUFMDO/jWpgQOcNKuAh7gTYcCyDg99k4vS8/UAf2ZBhAAewEE8A+AF0AAEiDj8ti7vKz4gwbeVFVPVMFJJtzBhDD1kg0cKvorGomy6kyLf14POFGQlgFeAAE8AfyDgM78w+0GAAAAAElFTkSuQmCC\" width=\"26\"/>\n",
      "      </div>\n",
      "      <select aria-label=\"Select source language\" class=\"J9hCCd\" name=\"tlitesl\" onchange=\"lrtlSelect(this)\">\n",
      "       <option value=\"auto\">\n",
      "        Detect language\n",
      "       </option>\n",
      "       <option disabled=\"\">\n",
      "        ──────────\n",
      "       </option>\n",
      "       <option selected=\"selected\" value=\"en\">\n",
      "        English\n",
      "       </option>\n",
      "       <option value=\"zh-CN\">\n",
      "        Chinese (Simplified)\n",
      "       </option>\n",
      "       <option value=\"fr\">\n",
      "        French\n",
      "       </option>\n",
      "       <option value=\"ja\">\n",
      "        Japanese\n",
      "       </option>\n",
      "       <option value=\"es\">\n",
      "        Spanish\n",
      "       </option>\n",
      "       <option disabled=\"\">\n",
      "        ──────────\n",
      "       </option>\n",
      "       <option value=\"seeAll\">\n",
      "        See all languages\n",
      "       </option>\n",
      "      </select>\n",
      "     </div>\n",
      "     <div class=\"j7pMuf\" id=\"lrtl-source-text\">\n",
      "      <input autocomplete=\"off\" autofocus=\"\" class=\"EvnMAf\" maxlength=\"3900\" name=\"tlitetxt\" placeholder=\"Enter text\" spellcheck=\"false\" type=\"text\" value=\"American Avocet\"/>\n",
      "      <div aria-label=\"Clear text\" class=\"x\" data-ved=\"2ahUKEwiG1_-Z-YXtAhXQA2MBHXtTAB8QinZ6BAgGEAI\" onclick=\"lrtlClear(this)\" role=\"button\" tabindex=\"0\">\n",
      "       <img alt=\"Clear\" height=\"26\" src=\"data:image/png;base64,iVBORw0KGgoAAAANSUhEUgAAADAAAAAwCAQAAAD9CzEMAAAAzElEQVRYw+2WWwqEMAxFAy7S1zrugtQiLrKQ+RscKzZp0w+H3O/2HAjtJUQej+dvgw4Bvfj0jBWdDn+AEWUKzIhg7AoFAhgMRsQgxDMYm1wwfC9lFCd8lI9UrCjGJ4rRHE9EhPFJUY1/VpjgE8VkjiciwnRVmOJThTk+UdjjL2NpgU8U9vjmgsYj+nk5Ud60Jfhe3rRFeF2ZF+FlTVuFzzdtNd5Eke+c+6Y1w983rSm+QoFV/l9PikWzeO3qxStodzvd6rio8B6P52X5AO0Up+FtlvwxAAAAAElFTkSuQmCC\" width=\"26\"/>\n",
      "      </div>\n",
      "     </div>\n",
      "    </div>\n",
      "    <hr class=\"BUybKe\"/>\n",
      "    <div class=\"BmP5tf\">\n",
      "     <div class=\"q7fqqf\">\n",
      "      <select aria-label=\"Select target language\" class=\"J9hCCd\" name=\"tlitetl\" onchange=\"lrtlSelect(this)\">\n",
      "       <option selected=\"selected\" value=\"zh-CN\">\n",
      "        Chinese (Simplified)\n",
      "       </option>\n",
      "       <option value=\"en\">\n",
      "        English\n",
      "       </option>\n",
      "       <option value=\"fr\">\n",
      "        French\n",
      "       </option>\n",
      "       <option value=\"ja\">\n",
      "        Japanese\n",
      "       </option>\n",
      "       <option value=\"es\">\n",
      "        Spanish\n",
      "       </option>\n",
      "       <option disabled=\"\">\n",
      "        ──────────\n",
      "       </option>\n",
      "       <option value=\"seeAll\">\n",
      "        See all languages\n",
      "       </option>\n",
      "      </select>\n",
      "     </div>\n",
      "     <div style=\"position:relative;overflow:auto\">\n",
      "      <div class=\"EvnMAf j7pMuf\">\n",
      "       <span class=\"hLm84b\" id=\"lrtl-translation-placeholder\" style=\"display:none\">\n",
      "        Translation\n",
      "       </span>\n",
      "       <div class=\"MUxGbd u31kKd gsrt lyLwlc\" id=\"lrtl-translation-text\" style=\"font-size:20px\">\n",
      "        美国长嘴鳄\n",
      "       </div>\n",
      "       <div class=\"PME8Xe MUxGbd gbj1yb WZ8Tjf\" id=\"lrtl-transliteration-text\">\n",
      "        Měiguó cháng zuǐ è\n",
      "       </div>\n",
      "       <button class=\"UlAkde translate-button pMeOud ayLRkf UTLLgb\" data-ved=\"2ahUKEwiG1_-Z-YXtAhXQA2MBHXtTAB8Qh3Z6BAgGEAM\">\n",
      "        <div class=\"rX3Agf\">\n",
      "         Translate\n",
      "        </div>\n",
      "       </button>\n",
      "      </div>\n",
      "     </div>\n",
      "    </div>\n",
      "   </form>\n",
      "  </div>\n",
      " </div>\n",
      " <div>\n",
      "  <div class=\"ZINbbc xpd O9g5cc uUPGi\">\n",
      "   <div class=\"kCrYT\">\n",
      "    <a href=\"/url?q=http://blog.sina.com.cn/s/blog_638e7b580100y0ub.html&amp;sa=U&amp;ved=2ahUKEwiG1_-Z-YXtAhXQA2MBHXtTAB8QFjABegQICRAB&amp;usg=AOvVaw0ylyOLPi5ryFLG5Na1ZAZY\">\n",
      "     <h3 class=\"zBAuLc\">\n",
      "      <div class=\"BNeawe vvjwJb AP7Wnd\">\n",
      "       佛州拍鸟之二--美洲反嘴鹬(American Avocet)_开新花的老榕树_新浪 ...\n",
      "      </div>\n",
      "     </h3>\n",
      "     <div class=\"BNeawe UPmit AP7Wnd\">\n",
      "      blog.sina.com.cn › ...\n",
      "     </div>\n",
      "    </a>\n",
      "   </div>\n",
      "   <div class=\"x54gtf\">\n",
      "   </div>\n",
      "   <div class=\"kCrYT\">\n",
      "    <div>\n",
      "     <div class=\"BNeawe s3v9rd AP7Wnd\">\n",
      "      <div>\n",
      "       <div>\n",
      "        <div class=\"BNeawe s3v9rd AP7Wnd\">\n",
      "         <span class=\"r0bn4c rQMQod\">\n",
      "          May 12, 2012\n",
      "         </span>\n",
      "         <span class=\"r0bn4c rQMQod\">\n",
      "          ·\n",
      "         </span>\n",
      "         在网上搜索了一下，几乎没有发现有关美洲反嘴鹬的中文介绍。只得读了些英文资料后，自己拼凑出一段介绍，供参考：. 美洲反嘴鹬与其他地方的反 ...\n",
      "        </div>\n",
      "       </div>\n",
      "      </div>\n",
      "     </div>\n",
      "    </div>\n",
      "   </div>\n",
      "  </div>\n",
      " </div>\n",
      " <div>\n",
      "  <div class=\"ZINbbc xpd O9g5cc uUPGi\">\n",
      "   <div class=\"kCrYT\">\n",
      "    <a href=\"/url?q=http://www.sinovision.net/home/space/do/blog/uid/320719/id/220474.html&amp;sa=U&amp;ved=2ahUKEwiG1_-Z-YXtAhXQA2MBHXtTAB8QFjACegQIChAB&amp;usg=AOvVaw2XDEflsLKlEEkqPdhenjJM\">\n",
      "     <h3 class=\"zBAuLc\">\n",
      "      <div class=\"BNeawe vvjwJb AP7Wnd\">\n",
      "       American avocet 美洲反嘴鹬- 迷光梦影的博文- 美国中文网\n",
      "      </div>\n",
      "     </h3>\n",
      "     <div class=\"BNeawe UPmit AP7Wnd\">\n",
      "      www.sinovision.net › home › space › blog › uid\n",
      "     </div>\n",
      "    </a>\n",
      "   </div>\n",
      "   <div class=\"x54gtf\">\n",
      "   </div>\n",
      "   <div class=\"kCrYT\">\n",
      "    <div>\n",
      "     <div class=\"BNeawe s3v9rd AP7Wnd\">\n",
      "      <div>\n",
      "       <div>\n",
      "        <div class=\"BNeawe s3v9rd AP7Wnd\">\n",
      "         <span class=\"r0bn4c rQMQod\">\n",
      "          Mar 8, 2014\n",
      "         </span>\n",
      "         <span class=\"r0bn4c rQMQod\">\n",
      "          ·\n",
      "         </span>\n",
      "         美国中文网,1.2.3.4.5.6.7.8.9.10.11.12.谢谢观看！ ,美国中文网.\n",
      "        </div>\n",
      "       </div>\n",
      "      </div>\n",
      "     </div>\n",
      "    </div>\n",
      "   </div>\n",
      "  </div>\n",
      " </div>\n",
      " <div>\n",
      "  <div class=\"ZINbbc xpd O9g5cc uUPGi\">\n",
      "   <div class=\"kCrYT\">\n",
      "    <a href=\"/url?q=http://www.ichacha.net/american%2520avocet.html&amp;sa=U&amp;ved=2ahUKEwiG1_-Z-YXtAhXQA2MBHXtTAB8QFjADegQIBxAB&amp;usg=AOvVaw3RCsWCPZvXUwFBV_3toNTa\">\n",
      "     <h3 class=\"zBAuLc\">\n",
      "      <div class=\"BNeawe vvjwJb AP7Wnd\">\n",
      "       american avocet中文_american avocet是什么意思 - 查查在线词典\n",
      "      </div>\n",
      "     </h3>\n",
      "     <div class=\"BNeawe UPmit AP7Wnd\">\n",
      "      www.ichacha.net › 英语翻译\n",
      "     </div>\n",
      "    </a>\n",
      "   </div>\n",
      "   <div class=\"x54gtf\">\n",
      "   </div>\n",
      "   <div class=\"kCrYT\">\n",
      "    <div>\n",
      "     <div class=\"BNeawe s3v9rd AP7Wnd\">\n",
      "      <div>\n",
      "       <div>\n",
      "        <div class=\"BNeawe s3v9rd AP7Wnd\">\n",
      "         american avocet的中文意思：红胸反嘴鹬…，查阅american avocet的详细中文 翻译、发音、用法和例句等。\n",
      "        </div>\n",
      "       </div>\n",
      "      </div>\n",
      "     </div>\n",
      "    </div>\n",
      "   </div>\n",
      "  </div>\n",
      " </div>\n",
      " <div>\n",
      "  <div class=\"ZINbbc xpd O9g5cc uUPGi\">\n",
      "   <div class=\"kCrYT\">\n",
      "    <a href=\"/url?q=http://www.ichacha.net/avocet.html&amp;sa=U&amp;ved=2ahUKEwiG1_-Z-YXtAhXQA2MBHXtTAB8QFjAEegQICBAB&amp;usg=AOvVaw2zvkmRFPrF0-3kSVw8-irw\">\n",
      "     <h3 class=\"zBAuLc\">\n",
      "      <div class=\"BNeawe vvjwJb AP7Wnd\">\n",
      "       avocet中文_avocet是什么意思 - 查查在线词典\n",
      "      </div>\n",
      "     </h3>\n",
      "     <div class=\"BNeawe UPmit AP7Wnd\">\n",
      "      www.ichacha.net › 英语翻译\n",
      "     </div>\n",
      "    </a>\n",
      "   </div>\n",
      "   <div class=\"x54gtf\">\n",
      "   </div>\n",
      "   <div class=\"kCrYT\">\n",
      "    <div>\n",
      "     <div class=\"BNeawe s3v9rd AP7Wnd\">\n",
      "      <div>\n",
      "       <div>\n",
      "        <div class=\"BNeawe s3v9rd AP7Wnd\">\n",
      "         【鸟类】反嘴长脚鹅。…，查阅avocet的详细中文翻译、发音、用法和例句等。 ... \" american avocet\"中文翻译 红胸反嘴鹬; \"andean avocet\"中文翻译 安第斯反嘴鹬 ...\n",
      "        </div>\n",
      "       </div>\n",
      "      </div>\n",
      "     </div>\n",
      "    </div>\n",
      "   </div>\n",
      "  </div>\n",
      " </div>\n",
      " <div>\n",
      "  <div class=\"ZINbbc xpd O9g5cc uUPGi\">\n",
      "   <div class=\"kCrYT\">\n",
      "    <a href=\"/url?q=https://zh.glosbe.com/en/zh/avocet&amp;sa=U&amp;ved=2ahUKEwiG1_-Z-YXtAhXQA2MBHXtTAB8QFjAFegQIABAB&amp;usg=AOvVaw34jveBLBQBtI2DQxxcVg4r\">\n",
      "     <h3 class=\"zBAuLc\">\n",
      "      <div class=\"BNeawe vvjwJb AP7Wnd\">\n",
      "       avocet中的中文-英文-中文字典|格洛斯贝 - Glosbe\n",
      "      </div>\n",
      "     </h3>\n",
      "     <div class=\"BNeawe UPmit AP7Wnd\">\n",
      "      zh.glosbe.com › 英文-中文字典\n",
      "     </div>\n",
      "    </a>\n",
      "   </div>\n",
      "   <div class=\"x54gtf\">\n",
      "   </div>\n",
      "   <div class=\"kCrYT\">\n",
      "    <div>\n",
      "     <div class=\"BNeawe s3v9rd AP7Wnd\">\n",
      "      <div>\n",
      "       <div>\n",
      "        <div class=\"BNeawe s3v9rd AP7Wnd\">\n",
      "         检查“ avocet”到中文的翻译。浏览句子中avocet的翻译示例，听发音并学习语法。 ... American Avocet 在中文中 · 褐胸反嘴鹬在英文中 · Pied Avocet 在中文中.\n",
      "        </div>\n",
      "       </div>\n",
      "      </div>\n",
      "     </div>\n",
      "    </div>\n",
      "   </div>\n",
      "  </div>\n",
      " </div>\n",
      " <div>\n",
      "  <div class=\"ZINbbc xpd O9g5cc uUPGi\">\n",
      "   <div class=\"kCrYT\">\n",
      "    <a href=\"/url?q=https://zh.glosbe.com/en/zh/American%2520Avocet&amp;sa=U&amp;ved=2ahUKEwiG1_-Z-YXtAhXQA2MBHXtTAB8QFjAGegQIBRAB&amp;usg=AOvVaw02fiNcXdIkLwpTKfJ_FDO-\">\n",
      "     <h3 class=\"zBAuLc\">\n",
      "      <div class=\"BNeawe vvjwJb AP7Wnd\">\n",
      "       American Avocet中的中文-英文-中文字典|格洛斯贝 - Glosbe\n",
      "      </div>\n",
      "     </h3>\n",
      "     <div class=\"BNeawe UPmit AP7Wnd\">\n",
      "      zh.glosbe.com › 英文-中文字典\n",
      "     </div>\n",
      "    </a>\n",
      "   </div>\n",
      "   <div class=\"x54gtf\">\n",
      "   </div>\n",
      "   <div class=\"kCrYT\">\n",
      "    <div>\n",
      "     <div class=\"BNeawe s3v9rd AP7Wnd\">\n",
      "      <div>\n",
      "       <div>\n",
      "        <div class=\"BNeawe s3v9rd AP7Wnd\">\n",
      "         检查“ American Avocet”到中文的翻译。浏览句子中American Avocet的翻译示例， 听发音并学习语法。\n",
      "        </div>\n",
      "       </div>\n",
      "      </div>\n",
      "     </div>\n",
      "    </div>\n",
      "   </div>\n",
      "  </div>\n",
      " </div>\n",
      " <div>\n",
      "  <div class=\"ZINbbc xpd O9g5cc uUPGi\">\n",
      "   <div class=\"kCrYT\">\n",
      "    <a href=\"/url?q=https://en.wikipedia.org/wiki/Avocet&amp;sa=U&amp;ved=2ahUKEwiG1_-Z-YXtAhXQA2MBHXtTAB8QFjAHegQIAxAB&amp;usg=AOvVaw0gJtmeRb30nTVWSPoLnllu\">\n",
      "     <h3 class=\"zBAuLc\">\n",
      "      <div class=\"BNeawe vvjwJb AP7Wnd\">\n",
      "       Avocet - Wikipedia\n",
      "      </div>\n",
      "     </h3>\n",
      "     <div class=\"BNeawe UPmit AP7Wnd\">\n",
      "      en.wikipedia.org › wiki › Avocet\n",
      "     </div>\n",
      "    </a>\n",
      "   </div>\n",
      "   <div class=\"x54gtf\">\n",
      "   </div>\n",
      "   <div class=\"kCrYT\">\n",
      "    <div>\n",
      "     <div class=\"BNeawe s3v9rd AP7Wnd\">\n",
      "      <div>\n",
      "       <div>\n",
      "        <div class=\"BNeawe s3v9rd AP7Wnd\">\n",
      "         The four species of avocets /ˈævəsɛt/ are a genus, Recurvirostra, of waders in the same avian ... Recurvirostra americana, American avocet, Central/Western United States, Southern Florida, Mexico, Saskatchewan, and Alberta. ... Polski · Русский · Suomi · Svenska · Türkçe · Українська · Tiếng Việt · Winaray · 中文; 25 more.\n",
      "        </div>\n",
      "       </div>\n",
      "      </div>\n",
      "     </div>\n",
      "    </div>\n",
      "   </div>\n",
      "  </div>\n",
      " </div>\n",
      " <div>\n",
      "  <div class=\"ZINbbc xpd O9g5cc uUPGi\">\n",
      "   <div class=\"kCrYT\">\n",
      "    <a href=\"/url?q=https://zh.m.wikipedia.org/zh/File:American_Avocet_2.jpg&amp;sa=U&amp;ved=2ahUKEwiG1_-Z-YXtAhXQA2MBHXtTAB8QFjAIegQIAhAB&amp;usg=AOvVaw1pw7VDSBcmh2y1HJcK4WL7\">\n",
      "     <h3 class=\"zBAuLc\">\n",
      "      <div class=\"BNeawe vvjwJb AP7Wnd\">\n",
      "       File:American Avocet 2.jpg - 维基百科，自由的百科全书\n",
      "      </div>\n",
      "     </h3>\n",
      "     <div class=\"BNeawe UPmit AP7Wnd\">\n",
      "      zh.m.wikipedia.org › File:American_Avocet_2\n",
      "     </div>\n",
      "    </a>\n",
      "   </div>\n",
      "   <div class=\"x54gtf\">\n",
      "   </div>\n",
      "   <div class=\"kCrYT\">\n",
      "    <div>\n",
      "     <div class=\"BNeawe s3v9rd AP7Wnd\">\n",
      "      <div>\n",
      "       <div>\n",
      "        <div class=\"BNeawe s3v9rd AP7Wnd\">\n",
      "         File:American Avocet 2.jpg. 本预览的尺寸：800 × 597像素。 ... 本文件并不在中文 维基百科上，而是来自维基共享资源。请参阅共享资源上的详细描述、讨论页、 ...\n",
      "        </div>\n",
      "       </div>\n",
      "      </div>\n",
      "     </div>\n",
      "    </div>\n",
      "   </div>\n",
      "  </div>\n",
      " </div>\n",
      " <div>\n",
      "  <div class=\"ZINbbc xpd O9g5cc uUPGi\">\n",
      "   <div class=\"kCrYT\">\n",
      "    <a href=\"/url?q=https://ebird.org/species/ameavo&amp;sa=U&amp;ved=2ahUKEwiG1_-Z-YXtAhXQA2MBHXtTAB8QFjAJegQIBBAB&amp;usg=AOvVaw02LYPHrQTtphZOeV-LRlkm\">\n",
      "     <h3 class=\"zBAuLc\">\n",
      "      <div class=\"BNeawe vvjwJb AP7Wnd\">\n",
      "       American Avocet - eBird\n",
      "      </div>\n",
      "     </h3>\n",
      "     <div class=\"BNeawe UPmit AP7Wnd\">\n",
      "      ebird.org › species › ameavo\n",
      "     </div>\n",
      "    </a>\n",
      "   </div>\n",
      "   <div class=\"x54gtf\">\n",
      "   </div>\n",
      "   <div class=\"kCrYT\">\n",
      "    <div>\n",
      "     <div class=\"BNeawe s3v9rd AP7Wnd\">\n",
      "      <div>\n",
      "       <div>\n",
      "        <div class=\"BNeawe s3v9rd AP7Wnd\">\n",
      "         Distinctive large shorebird with a long, thin upturned bill and lean neck. Bold black-and-white wings prominent year-round. Adults in summer have buffy- orange ...\n",
      "        </div>\n",
      "       </div>\n",
      "      </div>\n",
      "     </div>\n",
      "    </div>\n",
      "   </div>\n",
      "  </div>\n",
      " </div>\n",
      " <div>\n",
      "  <div class=\"ZINbbc xpd O9g5cc uUPGi\">\n",
      "   <div class=\"kCrYT\">\n",
      "    <a href=\"/url?q=https://www.shutterstock.com/search/american%2Bavocet&amp;sa=U&amp;ved=2ahUKEwiG1_-Z-YXtAhXQA2MBHXtTAB8QFjAKegQIARAB&amp;usg=AOvVaw3D9FV1Pdbvnm0Mws9S3r3H\">\n",
      "     <h3 class=\"zBAuLc\">\n",
      "      <div class=\"BNeawe vvjwJb AP7Wnd\">\n",
      "       American Avocet Images, Stock Photos &amp; Vectors | Shutterstock\n",
      "      </div>\n",
      "     </h3>\n",
      "     <div class=\"BNeawe UPmit AP7Wnd\">\n",
      "      www.shutterstock.com › search › american+avocet\n",
      "     </div>\n",
      "    </a>\n",
      "   </div>\n",
      "   <div class=\"x54gtf\">\n",
      "   </div>\n",
      "   <div class=\"kCrYT\">\n",
      "    <div>\n",
      "     <div class=\"BNeawe s3v9rd AP7Wnd\">\n",
      "      <div>\n",
      "       <div>\n",
      "        <div class=\"BNeawe s3v9rd AP7Wnd\">\n",
      "         Find american avocet stock images in HD and millions of other royalty-free stock photos, illustrations and vectors in the Shutterstock collection. Thousands of ...\n",
      "        </div>\n",
      "       </div>\n",
      "      </div>\n",
      "     </div>\n",
      "    </div>\n",
      "   </div>\n",
      "  </div>\n",
      " </div>\n",
      " <footer>\n",
      "  <div>\n",
      "   <div class=\"ZINbbc xpd O9g5cc uUPGi BmP5tf\">\n",
      "    <div class=\"nMymef MUxGbd lyLwlc\">\n",
      "     <a aria-label=\"Next page\" class=\"nBDE1b G5eFlf\" href=\"/search?q=American+Avocet+%E4%B8%AD%E6%96%87&amp;ie=UTF-8&amp;ei=btqxX4boG9CHjLsP-6aB-AE&amp;start=10&amp;sa=N\">\n",
      "      Next &gt;\n",
      "     </a>\n",
      "    </div>\n",
      "   </div>\n",
      "  </div>\n",
      "  <div id=\"mCljob\">\n",
      "   <div>\n",
      "    <a href=\"/url?q=https://accounts.google.com/ServiceLogin%3Fcontinue%3Dhttps://www.google.com/search%253Fq%253DAmerican%252BAvocet%252B%2525E4%2525B8%2525AD%2525E6%252596%252587%26hl%3Den&amp;sa=U&amp;ved=0ahUKEwiG1_-Z-YXtAhXQA2MBHXtTAB8Qxs8CCDI&amp;usg=AOvVaw0Idn6kFptxbZkIiecMwY-r\">\n",
      "     Sign in\n",
      "    </a>\n",
      "   </div>\n",
      "   <div>\n",
      "    <a class=\"ksTU4c\" href=\"https://www.google.com/preferences?hl=en&amp;fg=1&amp;sa=X&amp;ved=0ahUKEwiG1_-Z-YXtAhXQA2MBHXtTAB8Q5fUCCDM\">\n",
      "     Settings\n",
      "    </a>\n",
      "    <a class=\"ksTU4c\" href=\"https://policies.google.com/privacy?hl=en&amp;fg=1\">\n",
      "     Privacy\n",
      "    </a>\n",
      "    <a class=\"ksTU4c\" href=\"https://policies.google.com/terms?hl=en&amp;fg=1\">\n",
      "     Terms\n",
      "    </a>\n",
      "   </div>\n",
      "  </div>\n",
      " </footer>\n",
      " <script nonce=\"19thd6wQ7TSXS+36YUvelA==\">\n",
      "  (function(){var hl='en';(function(){\n",
      "var f=this||self,k=function(a){if(a&&a!=f)return g(a.document);null===h&&(h=g(f.document));return h},l=/^[\\w+/_-]+[=]{0,2}$/,h=null,g=function(a){return(a=a.querySelector&&a.querySelector(\"script[nonce]\"))&&(a=a.nonce||a.getAttribute(\"nonce\"))&&l.test(a)?a:\"\"},m=function(a){return a};var n,q=function(){if(void 0===n){var a=null,b=f.trustedTypes;if(b&&b.createPolicy){try{a=b.createPolicy(\"goog#html\",{createHTML:m,createScript:m,createScriptURL:m})}catch(c){f.console&&f.console.error(c.message)}n=a}else n=a}return n};var u=function(a,b){this.g=a===r&&b||\"\";this.a=t},v=function(a){return a instanceof u&&a.constructor===u&&a.a===t?a.g:\"type_error:Const\"},t={},r={};var x=function(a,b){this.a=b===w?a:\"\"},y=function(a){return a instanceof x&&a.constructor===x?a.a:\"type_error:TrustedResourceUrl\"},aa=function(){var a={},b=v(new u(r,\"/complete/search\"));if(!z.test(b))throw Error(\"a`\"+b);var c=b.replace(A,function(d,e){if(!Object.prototype.hasOwnProperty.call(a,e))throw Error(\"b`\"+e+\"`\"+b+\"`\"+JSON.stringify(a));d=a[e];return d instanceof u?v(d):encodeURIComponent(String(d))});return B(c)},A=/%{(\\w+)}/g,z=/^((https:)?\\/\\/[0-9a-z.:[\\]-]+\\/|\\/[^/\\\\]|[^:/\\\\%]+\\/|[^:/\\\\%]*[?#]|about:blank#)/i,ba=/^([^?#]*)(\\?[^#]*)?(#[\\s\\S]*)?/,w={},B=function(a){var b=q();a=b?b.createScriptURL(a):a;return new x(a,w)},C=function(a,b,c){if(null==c)return b;if(\"string\"===typeof c)return c?a+encodeURIComponent(c):\"\";for(var d in c)if(Object.prototype.hasOwnProperty.call(c,d)){var e=c[d];e=Array.isArray(e)?e:[e];for(var p=0;p<e.length;p++){var T=e[p];null!=T&&(b||(b=a),b+=(b.length>a.length?\"&\":\"\")+encodeURIComponent(d)+\"=\"+encodeURIComponent(String(T)))}}return b};var E=function(a,b,c){this.a=c===D?a:\"\"},F=function(a){return a instanceof E&&a.constructor===E?a.a:\"type_error:SafeHtml\"},D={},ca=function(a){var b=q();a=b?b.createHTML(a):a;return new E(a,null,D)},da=new E(f.trustedTypes&&f.trustedTypes.emptyHTML||\"\",0,D);var ea=function(a){var b=!1,c;return function(){b||(c=a(),b=!0);return c}}(function(){var a=document.createElement(\"div\"),b=document.createElement(\"div\");b.appendChild(document.createElement(\"div\"));a.appendChild(b);b=a.firstChild.firstChild;a.innerHTML=F(da);return!b.parentElement}),fa=function(a,b){if(ea())for(;a.lastChild;)a.removeChild(a.lastChild);a.innerHTML=F(b)};var G=document.querySelector(\".l\"),H=document.querySelector(\"#sf\"),I=H.querySelector(\".sbc\"),J=H.querySelector(\"[type=text]\"),K=H.querySelector(\"[type=submit]\"),L=H.querySelector(\".sc\"),M=H.querySelector(\".x\"),N=J.value,O=[],P=-1,Q=N,R,S,U;N||(M&&(M.style.display=\"none\"),V(!1));function V(a){if(I.classList.contains(\"esbc\")){var b=I.classList.contains(\"chsbc\"),c=I.classList.contains(\"rtlsbc\");a&&(L.style.display=\"block\",b?(H.style.borderRadius=\"20px 20px 0 0\",L.style.borderBottom=\"1px solid #DFE1E5\",K.style.borderRadius=c?\"20px 0 0 0\":\"0 20px 0 0\"):I.style.borderRadius=c?\"0 8px 0 0\":\"8px 0 0 0\");a||(L.style.display=\"none\",b?(H.style.borderRadius=\"20px\",L.style.borderBottom=\"none\",K.style.borderRadius=c?\"20px 0 0 20px\":\"0 20px 20px 0\"):I.style.borderRadius=c?\"0 8px 8px 0\":\"8px 0 0 8px\")}}function W(){H.querySelector(\"[name=oq]\").value=Q;H.querySelector(\"[name=aqs]\").value=\"heirloom-srp.\"+(0<=P?P:\"\")+\".\"+(0<O.length?\"0l\"+O.length:\"\")}\n",
      "function X(){R=null;if(S){var a={client:\"heirloom-srp\",hl:hl,json:\"t\",callback:\"hS\",q:S};\"undefined\"!==typeof ds&&ds&&(a.ds=ds);var b=document;var c=\"SCRIPT\";\"application/xhtml+xml\"===b.contentType&&(c=c.toLowerCase());c=b.createElement(c);b=aa();b=ba.exec(y(b).toString());var d=b[3]||\"\";a=B(b[1]+C(\"?\",b[2]||\"\",a)+C(\"#\",d,void 0));c.src=y(a);(a=k(c.ownerDocument&&c.ownerDocument.defaultView))&&c.setAttribute(\"nonce\",a);(a=k())&&c.setAttribute(\"nonce\",a);document.body.appendChild(c);S=null;R=setTimeout(X,500)}}function Y(){for(;L.firstChild;)L.removeChild(L.firstChild);O=[];P=-1;V(!1)}function Z(){var a=L.querySelector(\".scs\");a&&(a.className=\"\");0<=P?(a=L.childNodes[P],a.className=\"scs\",N=a.textContent):N=Q;J.value=N}J.addEventListener(\"focus\",function(){G&&(G.style.display=\"none\")},!1);J.addEventListener(\"blur\",function(){Y();G&&(G.style.display=\"\")},!1);J.addEventListener(\"keyup\",function(a){N=J.value;U=!1;13==a.which?W():27==a.which?(Y(),G&&(G.style.display=\"\"),N=Q,J.value=N):40==a.which?(P++,P>=O.length&&(P=-1),Z()):38==a.which?(P--,-1>P&&(P=O.length-1),Z()):(a=N)?(M&&(M.style.display=\"\"),S=a,R||X(),Q=a):(M&&(M.style.display=\"none\"),V(!1),Y(),Q=\"\",U=!0)},!1);K.addEventListener(\"click\",W,!1);M.addEventListener(\"click\",function(){J.value=\"\";M.style.display=\"none\";V(!1)},!1);I.addEventListener(\"click\",function(){J.focus()},!1);window.hS=function(a){if(!U){Y();0==a[1].length&&V(!1);for(var b=0;b<a[1].length;b++){var c=a[1][b][0],d=document.createElement(\"div\");var e=ca(c);fa(d,e);d.addEventListener(\"mousedown\",function(p){p.preventDefault();return!1},!1);c=c.replace(/<\\/?b>/g,\"\");d.addEventListener(\"click\",function(p){return function(){P=p;W();Z();Y();H.submit()}}(b),!1);L.appendChild(d);V(!0);O.push(c)}}};}).call(this);})();(function(){\n",
      "function b(a){for(a=a.target||a.srcElement;a&&\"A\"!=a.nodeName;)a=a.parentElement;a&&(a.href||\"\").match(/\\/search.*[?&]tbm=isch/)&&(a.href+=\"&biw=\"+document.documentElement.clientWidth,a.href+=\"&bih=\"+document.documentElement.clientHeight)}document.addEventListener(\"click\",b,!1);document.addEventListener(\"touchStart\",b,!1);}).call(this);\n",
      " </script>\n",
      "</div>\n",
      "\n"
     ]
    }
   ],
   "source": [
    "print(soup.find('div', id='main').prettify())"
   ]
  },
  {
   "cell_type": "code",
   "execution_count": 196,
   "metadata": {
    "ExecuteTime": {
     "end_time": "2020-11-16T01:52:13.222799Z",
     "start_time": "2020-11-16T01:52:13.214942Z"
    }
   },
   "outputs": [
    {
     "data": {
      "text/plain": [
       "['<div id=\"main\"><div><div class=\"KP7LCb\"> <div class=\"bRsWnc\"> <div class=\"N6RWV\"> <div class=\"Pg70bf Uv67qb\"> <span class=\"OXXup\">All</span><a class=\"eZt8xd\" href=\"/search?q=American+Avocet+%E4%B8%AD%E6%96%87&amp;ie=UTF-8&amp;source=lnms&amp;tbm=isch&amp;sa=X&amp;ved=0ahUKEwiG1_-Z-YXtAhXQA2MBHXtTAB8Q_AUICCgB\">Images</a><a class=\"eZt8xd\" href=\"https://maps.google.com/maps?q=American+Avocet+%E4%B8%AD%E6%96%87&amp;um=1&amp;ie=UTF-8&amp;sa=X&amp;ved=0ahUKEwiG1_-Z-YXtAhXQA2MBHXtTAB8Q_AUICSgC\">Maps</a><a class=\"eZt8xd\" href=\"/search?q=American+Avocet+%E4%B8%AD%E6%96%87&amp;ie=UTF-8&amp;source=lnms&amp;tbm=nws&amp;sa=X&amp;ved=0ahUKEwiG1_-Z-YXtAhXQA2MBHXtTAB8Q_AUICigD\">News</a> <a href=\"/search?q=American+Avocet+%E4%B8%AD%E6%96%87&amp;ie=UTF-8&amp;source=lnms&amp;tbm=vid&amp;sa=X&amp;ved=0ahUKEwiG1_-Z-YXtAhXQA2MBHXtTAB8Q_AUICygE\">Videos</a> <a href=\"/search?q=American+Avocet+%E4%B8%AD%E6%96%87&amp;ie=UTF-8&amp;source=lnms&amp;tbm=shop&amp;sa=X&amp;ved=0ahUKEwiG1_-Z-YXtAhXQA2MBHXtTAB8Q_AUIDCgF\">Shopping</a> <a href=\"/search?q=American+Avocet+%E4%B8%AD%E6%96%87&amp;ie=UTF-8&amp;source=lnms&amp;tbm=bks&amp;sa=X&amp;ved=0ahUKEwiG1_-Z-YXtAhXQA2MBHXtTAB8Q_AUIDSgG\">Books</a> <div class=\"FElbsf\"><a href=\"/advanced_search\" id=\"st-toggle\" role=\"button\" style=\"white-space:nowrap\">Search tools</a></div> </div> </div> </div> </div><div class=\"Pg70bf wEsjbd ZINbbc xpd O9g5cc uUPGi\" id=\"st-card\" style=\"display:none\"><style>.wEsjbd{background-color:#fff;height:44px;white-space:nowrap}.coPU8c{height:60px;overflow-scrolling:touch;overflow-x:auto;overflow-y:hidden}.Xj2aue{height:44px;overflow:hidden}.RnNGze{margin:11px 16px}.wEsjbd div,.wEsjbd a,.wEsjbd li{outline-width:0;outline:none}</style><div class=\"Xj2aue\"><div class=\"coPU8c\"><div class=\"RnNGze\"><style>.PA9J5{display:inline-block}.RXaOfd{display:inline-block;height:22px;position:relative;padding-top:0;padding-bottom:0;padding-right:16px;padding-left:0;line-height:22px;cursor:pointer;text-transform:uppercase;font-size:12px;color:#70757a}.sa1toc{display:none;position:absolute;background:#fff;border:1px solid #d6d6d6;box-shadow:0 2px 4px rgba(0,0,0,0.3);margin:0;white-space:nowrap;z-index:103;line-height:17px;padding-top:5px;padding-bottom:5px;padding-left:0px}.PA9J5:hover .sa1toc{display:block}.mGSy8d a:active,.RXaOfd:active{color:#4285f4}</style><div class=\"PA9J5\"><div class=\"RXaOfd\" role=\"button\" tabindex=\"0\"><style>.TWMOUc{display:inline-block;padding-right:14px;white-space:nowrap}.vQYuGf{font-weight:bold}.OmTIzf{border-color:#909090 transparent;border-style:solid;border-width:4px 4px 0 4px;width:0;height:0;margin-left:-10px;top:50%;margin-top:-2px;position:absolute}.RXaOfd:active .OmTIzf{border-color:#4285f4 transparent}</style><div class=\"TWMOUc\">Any time</div><span class=\"OmTIzf\"></span></div><ul class=\"sa1toc ozatM\"><style>.ozatM{font-size:12px;text-transform:uppercase}.ozatM .yNFsl,.ozatM li{list-style-type:none;list-style-position:outside;list-style-image:none}.yNFsl.SkUj4c,.yNFsl a{color:rgba(0,0,0,0.54);text-decoration:none;padding:6px 44px 6px 14px;line-height:17px;display:block}.SkUj4c{background-image:url(//ssl.gstatic.com/ui/v1/menu/checkmark2.png);background-position:right center;background-repeat:no-repeat}.SkUj4c:active{background-color:#f8f9fa}</style><li class=\"yNFsl SkUj4c\">Any time</li><li class=\"yNFsl\"><a href=\"/search?q=American+Avocet+%E4%B8%AD%E6%96%87&amp;ie=UTF-8&amp;source=lnt&amp;tbs=qdr:h&amp;sa=X&amp;ved=0ahUKEwiG1_-Z-YXtAhXQA2MBHXtTAB8QpwUIDw\">Past hour</a></li><li class=\"yNFsl\"><a href=\"/search?q=American+Avocet+%E4%B8%AD%E6%96%87&amp;ie=UTF-8&amp;source=lnt&amp;tbs=qdr:d&amp;sa=X&amp;ved=0ahUKEwiG1_-Z-YXtAhXQA2MBHXtTAB8QpwUIEA\">Past 24 hours</a></li><li class=\"yNFsl\"><a href=\"/search?q=American+Avocet+%E4%B8%AD%E6%96%87&amp;ie=UTF-8&amp;source=lnt&amp;tbs=qdr:w&amp;sa=X&amp;ved=0ahUKEwiG1_-Z-YXtAhXQA2MBHXtTAB8QpwUIEQ\">Past week</a></li><li class=\"yNFsl\"><a href=\"/search?q=American+Avocet+%E4%B8%AD%E6%96%87&amp;ie=UTF-8&amp;source=lnt&amp;tbs=qdr:m&amp;sa=X&amp;ved=0ahUKEwiG1_-Z-YXtAhXQA2MBHXtTAB8QpwUIEg\">Past month</a></li><li class=\"yNFsl\"><a href=\"/search?q=American+Avocet+%E4%B8%AD%E6%96%87&amp;ie=UTF-8&amp;source=lnt&amp;tbs=qdr:y&amp;sa=X&amp;ved=0ahUKEwiG1_-Z-YXtAhXQA2MBHXtTAB8QpwUIEw\">Past year</a></li></ul></div><div class=\"PA9J5\"><div class=\"RXaOfd\" role=\"button\" tabindex=\"0\"><div class=\"TWMOUc\">All results</div><span class=\"OmTIzf\"></span></div><ul class=\"sa1toc ozatM\"><li class=\"yNFsl SkUj4c\">All results</li><li class=\"yNFsl\"><a href=\"/search?q=American+Avocet+%E4%B8%AD%E6%96%87&amp;ie=UTF-8&amp;source=lnt&amp;tbs=li:1&amp;sa=X&amp;ved=0ahUKEwiG1_-Z-YXtAhXQA2MBHXtTAB8QpwUIFQ\">Verbatim</a></li></ul></div></div></div></div><script nonce=\"19thd6wQ7TSXS+36YUvelA==\">(function(){\\nvar a=document.getElementById(\"st-toggle\"),b=document.getElementById(\"st-card\");a&&b&&a.addEventListener(\"click\",function(c){b.style.display=b.style.display?\"\":\"none\";c.preventDefault()},!1);}).call(this);</script></div></div><style>.ZINbbc{background-color:#fff;margin-bottom:10px;box-shadow:0 1px 6px rgba(32, 33, 36, 0.28);border-radius:8px}.uUPGi{font-size:14px;line-height:20px;}.O9g5cc>*:first-child{border-top-left-radius:8px;border-top-right-radius:8px}.O9g5cc>*:last-child{border-bottom-left-radius:8px;border-bottom-right-radius:8px}.O9g5cc>.qxDOhb>*:first-child{border-top-left-radius:8px;border-top-right-radius:8px}.O9g5cc>.qxDOhb>*:last-child{border-bottom-left-radius:8px;border-bottom-right-radius:8px}.J9hCCd{display:block;max-width:65%}.Uo8X3b{clip:rect(1px,1px,1px,1px);height:1px;margin:0;overflow:hidden;padding:0;position:absolute;white-space:nowrap;width:1px;z-index:-1000;user-select:none}.mBamKb .j7pMuf{box-sizing:border-box;display:-webkit-box;display:-moz-box;display:-ms-flexbox;display:-webkit-flex;display:flex;padding:8px 8px 0 8px}.mBamKb input.EvnMAf{height:30px;padding:0}.mBamKb .EvnMAf{border:0;flex:1;display:block;font-size:20px;outline:none;width:100%;-webkit-tap-highlight-color:rgba(0,0,0,0)}.rLshyf,.BmP5tf{padding-top:12px;padding-bottom:12px}.YOx3Ab{padding-left:16px;}.w1C3Le,.BmP5tf,.G5NbBd{padding-left:16px;padding-right:16px;}.G5NbBd{padding-bottom:12px}.SvzMcc{float:right;height:26px;margin:0 8px 8px 0;width:26px}.mBamKb .x{height:26px;line-height:0;margin-top:4px;width:26px}hr{border:0;border-bottom:1px solid #dfe1e5;margin:0}.BUybKe,.HsnFBf{margin-left:16px}.BUybKe,.oM2GA{margin-right:16px}.XO7rhc{margin:0 -16px}.ZM7ZNb{margin:0 -16px 0 0}.mBamKb .UlAkde{bottom:0;float:right;font-size:14px;margin:16px 0 0 16px;max-width:88px;min-width:0;width:32vw}.q7fqqf{padding-bottom:8px}.PME8Xe{float:left;margin-top:16px;text-align:left;white-space:normal}.hLm84b{direction:ltr;float:left;width:100%}.MUxGbd{font-size:14px;font-family:Roboto,HelveticaNeue,Arial,sans-serif;line-height:20px;padding-top:1px;margin-bottom:-1px}.MUxGbd.u31kKd{font-size:24px;line-height:28px;padding-top:2px;margin-bottom:-2px}.lyLwlc{color:#202124}.MUxGbd.gbj1yb{font-size:12px;line-height:16px;padding-top:0px;margin-bottom:-4px}.WZ8Tjf{color:#70757a;}.WZ8Tjf a:visited{color:#acacac}.pMeOud{border:0;border-radius:8px;box-sizing:border-box;font-size:14px;font-weight:500;line-height:16px;min-width:88px;outline:none;padding:0;text-align:center;transition:box-shadow 200ms cubic-bezier(0.4,0,0.2,1);box-shadow:0 1px 1px rgba(0,0,0,.16);user-select:none;white-space:nowrap}.SRjJHb{text-transform:uppercase}.pMeOud:active{outline:none;box-shadow:0 4px 5px rgba(0,0,0,.16)}.rX3Agf{border-radius:8px;outline:none;padding:10px 8px}.rX3Agf:focus{background:rgba(0,0,0,.1)}.rX3Agf:active{background:rgba(0,0,0,.2)}.pMeOud:disabled,.pMeOud[disabled]:not([disabled=false]){pointer-events:none;color:rgba(0,0,0,.26) !important;background:rgba(0,0,0,.12);box-shadow:none}.pMeOud:disabled .rX3Agf,.pMeOud[disabled]:not([disabled=false]) .rX3Agf{background-color:transparent}.ayLRkf{background:#4285f4}.UTLLgb{color:#fff}.rl7ilb{display:block;clear:both}.kCrYT{padding:12px 16px 12px}a.fdYsqf{color:#4B11A8}.zBAuLc{font-weight:normal;line-height:normal;margin:0;padding:0}.BNeawe{white-space:pre-line;word-wrap:break-word}.vvjwJb{color:#1967D2;font-size:16px;line-height:20px}a:visited .vvjwJb,.vvjwJb a:visited{color:#4B11A8}.vvjwJb.HrGdeb{color:#fff}a:visited .vvjwJb.HrGdeb,.vvjwJb.HrGdeb a:visited{color:rgba(255,255,255,.70)}.UPmit{font-size:14px;line-height:20px}.UPmit.HrGdeb{color:rgba(255,255,255,.70)}.UPmit.AP7Wnd{color:#0d652d}.x54gtf{height:1px;background-color:#dfe1e5;margin:0 16px}.Q0HXG{height:1px;background-color:#dfe1e5}.Ap5OSd{padding-bottom:12px}.s3v9rd{font-size:14px;line-height:20px}.s3v9rd.HrGdeb{color:#fff}.s3v9rd.AP7Wnd{color:#202124}.mSx1Ee{padding-left:48px;margin:0}.v9i61e{padding-bottom:8px}.r0bn4c.tr0dw{color:rgba(255,255,255,.70)}.r0bn4c.rQMQod{color:#70757a}.nMymef{display:flex}.G5eFlf{flex:1;display:block}.nMymef span{text-align:center}</style><div><!--SW_C_X--></div><div class=\"ZINbbc xpd O9g5cc uUPGi\"><div class=\"mBamKb\" data-hveid=\"CAYQAA\"><form action=\"/search\" id=\"lrtl\" onsubmit=\"return lrtlSubmit()\"><input name=\"tlsa\" type=\"hidden\"/><input name=\"ie\" type=\"hidden\" value=\"UTF-8\"/><input name=\"ei\" type=\"hidden\" value=\"btqxX4boG9CHjLsP-6aB-AE\"/><input name=\"q\" type=\"hidden\" value=\"Translate\"/><input disabled=\"disabled\" name=\"tlitett\" type=\"hidden\" value=\"美国长嘴鳄\"/><div class=\"BmP5tf\"><div style=\"overflow:hidden\"><div aria-label=\"Swap languages\" class=\"SvzMcc\" data-ved=\"2ahUKEwiG1_-Z-YXtAhXQA2MBHXtTAB8QiHZ6BAgGEAE\" onclick=\"lrtlSwap(this)\" role=\"button\" tabindex=\"0\"><img alt=\"Swap\" height=\"26\" src=\"data:image/png;base64,iVBORw0KGgoAAAANSUhEUgAAADAAAAAwCAQAAAD9CzEMAAAAmUlEQVR4Ae3SsQrDMAyEYb/0zbbsJH3lDIFrByNMcSiUc5dK/56PWEoxv5gYGArStyV8qoKvbBXQwF5dAWzgUFMDO/jWpgQOcNKuAh7gTYcCyDg99k4vS8/UAf2ZBhAAewEE8A+AF0AAEiDj8ti7vKz4gwbeVFVPVMFJJtzBhDD1kg0cKvorGomy6kyLf14POFGQlgFeAAE8AfyDgM78w+0GAAAAAElFTkSuQmCC\" width=\"26\"/></div><select aria-label=\"Select source language\" class=\"J9hCCd\" name=\"tlitesl\" onchange=\"lrtlSelect(this)\"><option value=\"auto\">Detect language</option><option disabled=\"\">──────────</option><option selected=\"selected\" value=\"en\">English</option><option value=\"zh-CN\">Chinese (Simplified)</option><option value=\"fr\">French</option><option value=\"ja\">Japanese</option><option value=\"es\">Spanish</option><option disabled=\"\">──────────</option><option value=\"seeAll\">See all languages</option></select></div><div class=\"j7pMuf\" id=\"lrtl-source-text\"><input autocomplete=\"off\" autofocus=\"\" class=\"EvnMAf\" maxlength=\"3900\" name=\"tlitetxt\" placeholder=\"Enter text\" spellcheck=\"false\" type=\"text\" value=\"American Avocet\"/><div aria-label=\"Clear text\" class=\"x\" data-ved=\"2ahUKEwiG1_-Z-YXtAhXQA2MBHXtTAB8QinZ6BAgGEAI\" onclick=\"lrtlClear(this)\" role=\"button\" tabindex=\"0\"><img alt=\"Clear\" height=\"26\" src=\"data:image/png;base64,iVBORw0KGgoAAAANSUhEUgAAADAAAAAwCAQAAAD9CzEMAAAAzElEQVRYw+2WWwqEMAxFAy7S1zrugtQiLrKQ+RscKzZp0w+H3O/2HAjtJUQej+dvgw4Bvfj0jBWdDn+AEWUKzIhg7AoFAhgMRsQgxDMYm1wwfC9lFCd8lI9UrCjGJ4rRHE9EhPFJUY1/VpjgE8VkjiciwnRVmOJThTk+UdjjL2NpgU8U9vjmgsYj+nk5Ud60Jfhe3rRFeF2ZF+FlTVuFzzdtNd5Eke+c+6Y1w983rSm+QoFV/l9PikWzeO3qxStodzvd6rio8B6P52X5AO0Up+FtlvwxAAAAAElFTkSuQmCC\" width=\"26\"/></div></div></div><hr class=\"BUybKe\"/><div class=\"BmP5tf\"><div class=\"q7fqqf\"><select aria-label=\"Select target language\" class=\"J9hCCd\" name=\"tlitetl\" onchange=\"lrtlSelect(this)\"><option selected=\"selected\" value=\"zh-CN\">Chinese (Simplified)</option><option value=\"en\">English</option><option value=\"fr\">French</option><option value=\"ja\">Japanese</option><option value=\"es\">Spanish</option><option disabled=\"\">──────────</option><option value=\"seeAll\">See all languages</option></select></div><div style=\"position:relative;overflow:auto\"><div class=\"EvnMAf j7pMuf\"><span class=\"hLm84b\" id=\"lrtl-translation-placeholder\" style=\"display:none\">Translation</span><div class=\"MUxGbd u31kKd gsrt lyLwlc\" id=\"lrtl-translation-text\" style=\"font-size:20px\">美国长嘴鳄</div><div class=\"PME8Xe MUxGbd gbj1yb WZ8Tjf\" id=\"lrtl-transliteration-text\">Měiguó cháng zuǐ è</div><button class=\"UlAkde translate-button pMeOud ayLRkf UTLLgb\" data-ved=\"2ahUKEwiG1_-Z-YXtAhXQA2MBHXtTAB8Qh3Z6BAgGEAM\"><div class=\"rX3Agf\">Translate</div></button></div></div></div></form></div></div><div><div class=\"ZINbbc xpd O9g5cc uUPGi\"><div class=\"kCrYT\"><a href=\"/url?q=http://blog.sina.com.cn/s/blog_638e7b580100y0ub.html&amp;sa=U&amp;ved=2ahUKEwiG1_-Z-YXtAhXQA2MBHXtTAB8QFjABegQICRAB&amp;usg=AOvVaw0ylyOLPi5ryFLG5Na1ZAZY\"><h3 class=\"zBAuLc\"><div class=\"BNeawe vvjwJb AP7Wnd\">佛州拍鸟之二--美洲反嘴鹬(American Avocet)_开新花的老榕树_新浪 ...</div></h3><div class=\"BNeawe UPmit AP7Wnd\">blog.sina.com.cn › ...</div></a></div><div class=\"x54gtf\"></div><div class=\"kCrYT\"><div><div class=\"BNeawe s3v9rd AP7Wnd\"><div><div><div class=\"BNeawe s3v9rd AP7Wnd\"><span class=\"r0bn4c rQMQod\">May 12, 2012</span><span class=\"r0bn4c rQMQod\"> · </span>在网上搜索了一下，几乎没有发现有关美洲反嘴鹬的中文介绍。只得读了些英文资料后，自己拼凑出一段介绍，供参考：. 美洲反嘴鹬与其他地方的反\\xa0...</div></div></div></div></div></div></div></div><div><div class=\"ZINbbc xpd O9g5cc uUPGi\"><div class=\"kCrYT\"><a href=\"/url?q=http://www.sinovision.net/home/space/do/blog/uid/320719/id/220474.html&amp;sa=U&amp;ved=2ahUKEwiG1_-Z-YXtAhXQA2MBHXtTAB8QFjACegQIChAB&amp;usg=AOvVaw2XDEflsLKlEEkqPdhenjJM\"><h3 class=\"zBAuLc\"><div class=\"BNeawe vvjwJb AP7Wnd\">',\n",
       " ' 美洲反嘴鹬- 迷光梦影的博文- 美国中文网</div></h3><div class=\"BNeawe UPmit AP7Wnd\">www.sinovision.net › home › space › blog › uid</div></a></div><div class=\"x54gtf\"></div><div class=\"kCrYT\"><div><div class=\"BNeawe s3v9rd AP7Wnd\"><div><div><div class=\"BNeawe s3v9rd AP7Wnd\"><span class=\"r0bn4c rQMQod\">Mar 8, 2014</span><span class=\"r0bn4c rQMQod\"> · </span>美国中文网,1.2.3.4.5.6.7.8.9.10.11.12.谢谢观看！ ,美国中文网.</div></div></div></div></div></div></div></div><div><div class=\"ZINbbc xpd O9g5cc uUPGi\"><div class=\"kCrYT\"><a href=\"/url?q=http://www.ichacha.net/american%2520avocet.html&amp;sa=U&amp;ved=2ahUKEwiG1_-Z-YXtAhXQA2MBHXtTAB8QFjADegQIBxAB&amp;usg=AOvVaw3RCsWCPZvXUwFBV_3toNTa\"><h3 class=\"zBAuLc\"><div class=\"BNeawe vvjwJb AP7Wnd\">american avocet中文_american avocet是什么意思 - 查查在线词典</div></h3><div class=\"BNeawe UPmit AP7Wnd\">www.ichacha.net › 英语翻译</div></a></div><div class=\"x54gtf\"></div><div class=\"kCrYT\"><div><div class=\"BNeawe s3v9rd AP7Wnd\"><div><div><div class=\"BNeawe s3v9rd AP7Wnd\">american avocet的中文意思：红胸反嘴鹬…，查阅american avocet的详细中文 翻译、发音、用法和例句等。</div></div></div></div></div></div></div></div><div><div class=\"ZINbbc xpd O9g5cc uUPGi\"><div class=\"kCrYT\"><a href=\"/url?q=http://www.ichacha.net/avocet.html&amp;sa=U&amp;ved=2ahUKEwiG1_-Z-YXtAhXQA2MBHXtTAB8QFjAEegQICBAB&amp;usg=AOvVaw2zvkmRFPrF0-3kSVw8-irw\"><h3 class=\"zBAuLc\"><div class=\"BNeawe vvjwJb AP7Wnd\">avocet中文_avocet是什么意思 - 查查在线词典</div></h3><div class=\"BNeawe UPmit AP7Wnd\">www.ichacha.net › 英语翻译</div></a></div><div class=\"x54gtf\"></div><div class=\"kCrYT\"><div><div class=\"BNeawe s3v9rd AP7Wnd\"><div><div><div class=\"BNeawe s3v9rd AP7Wnd\">【鸟类】反嘴长脚鹅。…，查阅avocet的详细中文翻译、发音、用法和例句等。 ... \" american avocet\"中文翻译 红胸反嘴鹬; \"andean avocet\"中文翻译 安第斯反嘴鹬\\xa0...</div></div></div></div></div></div></div></div><div><div class=\"ZINbbc xpd O9g5cc uUPGi\"><div class=\"kCrYT\"><a href=\"/url?q=https://zh.glosbe.com/en/zh/avocet&amp;sa=U&amp;ved=2ahUKEwiG1_-Z-YXtAhXQA2MBHXtTAB8QFjAFegQIABAB&amp;usg=AOvVaw34jveBLBQBtI2DQxxcVg4r\"><h3 class=\"zBAuLc\"><div class=\"BNeawe vvjwJb AP7Wnd\">avocet中的中文-英文-中文字典|格洛斯贝 - Glosbe</div></h3><div class=\"BNeawe UPmit AP7Wnd\">zh.glosbe.com › 英文-中文字典</div></a></div><div class=\"x54gtf\"></div><div class=\"kCrYT\"><div><div class=\"BNeawe s3v9rd AP7Wnd\"><div><div><div class=\"BNeawe s3v9rd AP7Wnd\">检查“ avocet”到中文的翻译。浏览句子中avocet的翻译示例，听发音并学习语法。 ... American Avocet 在中文中 · 褐胸反嘴鹬在英文中 · Pied Avocet 在中文中.</div></div></div></div></div></div></div></div><div><div class=\"ZINbbc xpd O9g5cc uUPGi\"><div class=\"kCrYT\"><a href=\"/url?q=https://zh.glosbe.com/en/zh/American%2520Avocet&amp;sa=U&amp;ved=2ahUKEwiG1_-Z-YXtAhXQA2MBHXtTAB8QFjAGegQIBRAB&amp;usg=AOvVaw02fiNcXdIkLwpTKfJ_FDO-\"><h3 class=\"zBAuLc\"><div class=\"BNeawe vvjwJb AP7Wnd\">American Avocet中的中文-英文-中文字典|格洛斯贝 - Glosbe</div></h3><div class=\"BNeawe UPmit AP7Wnd\">zh.glosbe.com › 英文-中文字典</div></a></div><div class=\"x54gtf\"></div><div class=\"kCrYT\"><div><div class=\"BNeawe s3v9rd AP7Wnd\"><div><div><div class=\"BNeawe s3v9rd AP7Wnd\">检查“ American Avocet”到中文的翻译。浏览句子中American Avocet的翻译示例， 听发音并学习语法。</div></div></div></div></div></div></div></div><div><div class=\"ZINbbc xpd O9g5cc uUPGi\"><div class=\"kCrYT\"><a href=\"/url?q=https://en.wikipedia.org/wiki/Avocet&amp;sa=U&amp;ved=2ahUKEwiG1_-Z-YXtAhXQA2MBHXtTAB8QFjAHegQIAxAB&amp;usg=AOvVaw0gJtmeRb30nTVWSPoLnllu\"><h3 class=\"zBAuLc\"><div class=\"BNeawe vvjwJb AP7Wnd\">Avocet - Wikipedia</div></h3><div class=\"BNeawe UPmit AP7Wnd\">en.wikipedia.org › wiki › Avocet</div></a></div><div class=\"x54gtf\"></div><div class=\"kCrYT\"><div><div class=\"BNeawe s3v9rd AP7Wnd\"><div><div><div class=\"BNeawe s3v9rd AP7Wnd\">The four species of avocets /ˈævəsɛt/ are a genus, Recurvirostra, of waders in the same avian ... Recurvirostra americana, ',\n",
       " ', Central/Western United States, Southern Florida, Mexico, Saskatchewan, and Alberta. ... Polski · Русский · Suomi · Svenska · Türkçe · Українська · Tiếng Việt · Winaray · 中文; 25 more.</div></div></div></div></div></div></div></div><div><div class=\"ZINbbc xpd O9g5cc uUPGi\"><div class=\"kCrYT\"><a href=\"/url?q=https://zh.m.wikipedia.org/zh/File:American_Avocet_2.jpg&amp;sa=U&amp;ved=2ahUKEwiG1_-Z-YXtAhXQA2MBHXtTAB8QFjAIegQIAhAB&amp;usg=AOvVaw1pw7VDSBcmh2y1HJcK4WL7\"><h3 class=\"zBAuLc\"><div class=\"BNeawe vvjwJb AP7Wnd\">File:American Avocet 2.jpg - 维基百科，自由的百科全书</div></h3><div class=\"BNeawe UPmit AP7Wnd\">zh.m.wikipedia.org › File:American_Avocet_2</div></a></div><div class=\"x54gtf\"></div><div class=\"kCrYT\"><div><div class=\"BNeawe s3v9rd AP7Wnd\"><div><div><div class=\"BNeawe s3v9rd AP7Wnd\">File:American Avocet 2.jpg. 本预览的尺寸：800 × 597像素。 ... 本文件并不在中文 维基百科上，而是来自维基共享资源。请参阅共享资源上的详细描述、讨论页、\\xa0...</div></div></div></div></div></div></div></div><div><div class=\"ZINbbc xpd O9g5cc uUPGi\"><div class=\"kCrYT\"><a href=\"/url?q=https://ebird.org/species/ameavo&amp;sa=U&amp;ved=2ahUKEwiG1_-Z-YXtAhXQA2MBHXtTAB8QFjAJegQIBBAB&amp;usg=AOvVaw02LYPHrQTtphZOeV-LRlkm\"><h3 class=\"zBAuLc\"><div class=\"BNeawe vvjwJb AP7Wnd\">American Avocet - eBird</div></h3><div class=\"BNeawe UPmit AP7Wnd\">ebird.org › species › ameavo</div></a></div><div class=\"x54gtf\"></div><div class=\"kCrYT\"><div><div class=\"BNeawe s3v9rd AP7Wnd\"><div><div><div class=\"BNeawe s3v9rd AP7Wnd\">Distinctive large shorebird with a long, thin upturned bill and lean neck. Bold black-and-white wings prominent year-round. Adults in summer have buffy- orange\\xa0...</div></div></div></div></div></div></div></div><div><div class=\"ZINbbc xpd O9g5cc uUPGi\"><div class=\"kCrYT\"><a href=\"/url?q=https://www.shutterstock.com/search/american%2Bavocet&amp;sa=U&amp;ved=2ahUKEwiG1_-Z-YXtAhXQA2MBHXtTAB8QFjAKegQIARAB&amp;usg=AOvVaw3D9FV1Pdbvnm0Mws9S3r3H\"><h3 class=\"zBAuLc\"><div class=\"BNeawe vvjwJb AP7Wnd\">American Avocet Images, Stock Photos &amp; Vectors | Shutterstock</div></h3><div class=\"BNeawe UPmit AP7Wnd\">www.shutterstock.com › search › american+avocet</div></a></div><div class=\"x54gtf\"></div><div class=\"kCrYT\"><div><div class=\"BNeawe s3v9rd AP7Wnd\"><div><div><div class=\"BNeawe s3v9rd AP7Wnd\">Find american avocet stock images in HD and millions of other royalty-free stock photos, illustrations and vectors in the Shutterstock collection. Thousands of\\xa0...</div></div></div></div></div></div></div></div><footer> <div> <div class=\"ZINbbc xpd O9g5cc uUPGi BmP5tf\"><div class=\"nMymef MUxGbd lyLwlc\"><a aria-label=\"Next page\" class=\"nBDE1b G5eFlf\" href=\"/search?q=American+Avocet+%E4%B8%AD%E6%96%87&amp;ie=UTF-8&amp;ei=btqxX4boG9CHjLsP-6aB-AE&amp;start=10&amp;sa=N\">Next &gt;</a></div></div> </div> <div id=\"mCljob\"><div><a href=\"/url?q=https://accounts.google.com/ServiceLogin%3Fcontinue%3Dhttps://www.google.com/search%253Fq%253DAmerican%252BAvocet%252B%2525E4%2525B8%2525AD%2525E6%252596%252587%26hl%3Den&amp;sa=U&amp;ved=0ahUKEwiG1_-Z-YXtAhXQA2MBHXtTAB8Qxs8CCDI&amp;usg=AOvVaw0Idn6kFptxbZkIiecMwY-r\">Sign in</a></div><div><a class=\"ksTU4c\" href=\"https://www.google.com/preferences?hl=en&amp;fg=1&amp;sa=X&amp;ved=0ahUKEwiG1_-Z-YXtAhXQA2MBHXtTAB8Q5fUCCDM\">Settings</a><a class=\"ksTU4c\" href=\"https://policies.google.com/privacy?hl=en&amp;fg=1\">Privacy</a><a class=\"ksTU4c\" href=\"https://policies.google.com/terms?hl=en&amp;fg=1\">Terms</a></div></div> </footer><script nonce=\"19thd6wQ7TSXS+36YUvelA==\">(function(){var hl=\\'en\\';(function(){\\nvar f=this||self,k=function(a){if(a&&a!=f)return g(a.document);null===h&&(h=g(f.document));return h},l=/^[\\\\w+/_-]+[=]{0,2}$/,h=null,g=function(a){return(a=a.querySelector&&a.querySelector(\"script[nonce]\"))&&(a=a.nonce||a.getAttribute(\"nonce\"))&&l.test(a)?a:\"\"},m=function(a){return a};var n,q=function(){if(void 0===n){var a=null,b=f.trustedTypes;if(b&&b.createPolicy){try{a=b.createPolicy(\"goog#html\",{createHTML:m,createScript:m,createScriptURL:m})}catch(c){f.console&&f.console.error(c.message)}n=a}else n=a}return n};var u=function(a,b){this.g=a===r&&b||\"\";this.a=t},v=function(a){return a instanceof u&&a.constructor===u&&a.a===t?a.g:\"type_error:Const\"},t={},r={};var x=function(a,b){this.a=b===w?a:\"\"},y=function(a){return a instanceof x&&a.constructor===x?a.a:\"type_error:TrustedResourceUrl\"},aa=function(){var a={},b=v(new u(r,\"/complete/search\"));if(!z.test(b))throw Error(\"a`\"+b);var c=b.replace(A,function(d,e){if(!Object.prototype.hasOwnProperty.call(a,e))throw Error(\"b`\"+e+\"`\"+b+\"`\"+JSON.stringify(a));d=a[e];return d instanceof u?v(d):encodeURIComponent(String(d))});return B(c)},A=/%{(\\\\w+)}/g,z=/^((https:)?\\\\/\\\\/[0-9a-z.:[\\\\]-]+\\\\/|\\\\/[^/\\\\\\\\]|[^:/\\\\\\\\%]+\\\\/|[^:/\\\\\\\\%]*[?#]|about:blank#)/i,ba=/^([^?#]*)(\\\\?[^#]*)?(#[\\\\s\\\\S]*)?/,w={},B=function(a){var b=q();a=b?b.createScriptURL(a):a;return new x(a,w)},C=function(a,b,c){if(null==c)return b;if(\"string\"===typeof c)return c?a+encodeURIComponent(c):\"\";for(var d in c)if(Object.prototype.hasOwnProperty.call(c,d)){var e=c[d];e=Array.isArray(e)?e:[e];for(var p=0;p<e.length;p++){var T=e[p];null!=T&&(b||(b=a),b+=(b.length>a.length?\"&\":\"\")+encodeURIComponent(d)+\"=\"+encodeURIComponent(String(T)))}}return b};var E=function(a,b,c){this.a=c===D?a:\"\"},F=function(a){return a instanceof E&&a.constructor===E?a.a:\"type_error:SafeHtml\"},D={},ca=function(a){var b=q();a=b?b.createHTML(a):a;return new E(a,null,D)},da=new E(f.trustedTypes&&f.trustedTypes.emptyHTML||\"\",0,D);var ea=function(a){var b=!1,c;return function(){b||(c=a(),b=!0);return c}}(function(){var a=document.createElement(\"div\"),b=document.createElement(\"div\");b.appendChild(document.createElement(\"div\"));a.appendChild(b);b=a.firstChild.firstChild;a.innerHTML=F(da);return!b.parentElement}),fa=function(a,b){if(ea())for(;a.lastChild;)a.removeChild(a.lastChild);a.innerHTML=F(b)};var G=document.querySelector(\".l\"),H=document.querySelector(\"#sf\"),I=H.querySelector(\".sbc\"),J=H.querySelector(\"[type=text]\"),K=H.querySelector(\"[type=submit]\"),L=H.querySelector(\".sc\"),M=H.querySelector(\".x\"),N=J.value,O=[],P=-1,Q=N,R,S,U;N||(M&&(M.style.display=\"none\"),V(!1));function V(a){if(I.classList.contains(\"esbc\")){var b=I.classList.contains(\"chsbc\"),c=I.classList.contains(\"rtlsbc\");a&&(L.style.display=\"block\",b?(H.style.borderRadius=\"20px 20px 0 0\",L.style.borderBottom=\"1px solid #DFE1E5\",K.style.borderRadius=c?\"20px 0 0 0\":\"0 20px 0 0\"):I.style.borderRadius=c?\"0 8px 0 0\":\"8px 0 0 0\");a||(L.style.display=\"none\",b?(H.style.borderRadius=\"20px\",L.style.borderBottom=\"none\",K.style.borderRadius=c?\"20px 0 0 20px\":\"0 20px 20px 0\"):I.style.borderRadius=c?\"0 8px 8px 0\":\"8px 0 0 8px\")}}function W(){H.querySelector(\"[name=oq]\").value=Q;H.querySelector(\"[name=aqs]\").value=\"heirloom-srp.\"+(0<=P?P:\"\")+\".\"+(0<O.length?\"0l\"+O.length:\"\")}\\nfunction X(){R=null;if(S){var a={client:\"heirloom-srp\",hl:hl,json:\"t\",callback:\"hS\",q:S};\"undefined\"!==typeof ds&&ds&&(a.ds=ds);var b=document;var c=\"SCRIPT\";\"application/xhtml+xml\"===b.contentType&&(c=c.toLowerCase());c=b.createElement(c);b=aa();b=ba.exec(y(b).toString());var d=b[3]||\"\";a=B(b[1]+C(\"?\",b[2]||\"\",a)+C(\"#\",d,void 0));c.src=y(a);(a=k(c.ownerDocument&&c.ownerDocument.defaultView))&&c.setAttribute(\"nonce\",a);(a=k())&&c.setAttribute(\"nonce\",a);document.body.appendChild(c);S=null;R=setTimeout(X,500)}}function Y(){for(;L.firstChild;)L.removeChild(L.firstChild);O=[];P=-1;V(!1)}function Z(){var a=L.querySelector(\".scs\");a&&(a.className=\"\");0<=P?(a=L.childNodes[P],a.className=\"scs\",N=a.textContent):N=Q;J.value=N}J.addEventListener(\"focus\",function(){G&&(G.style.display=\"none\")},!1);J.addEventListener(\"blur\",function(){Y();G&&(G.style.display=\"\")},!1);J.addEventListener(\"keyup\",function(a){N=J.value;U=!1;13==a.which?W():27==a.which?(Y(),G&&(G.style.display=\"\"),N=Q,J.value=N):40==a.which?(P++,P>=O.length&&(P=-1),Z()):38==a.which?(P--,-1>P&&(P=O.length-1),Z()):(a=N)?(M&&(M.style.display=\"\"),S=a,R||X(),Q=a):(M&&(M.style.display=\"none\"),V(!1),Y(),Q=\"\",U=!0)},!1);K.addEventListener(\"click\",W,!1);M.addEventListener(\"click\",function(){J.value=\"\";M.style.display=\"none\";V(!1)},!1);I.addEventListener(\"click\",function(){J.focus()},!1);window.hS=function(a){if(!U){Y();0==a[1].length&&V(!1);for(var b=0;b<a[1].length;b++){var c=a[1][b][0],d=document.createElement(\"div\");var e=ca(c);fa(d,e);d.addEventListener(\"mousedown\",function(p){p.preventDefault();return!1},!1);c=c.replace(/<\\\\/?b>/g,\"\");d.addEventListener(\"click\",function(p){return function(){P=p;W();Z();Y();H.submit()}}(b),!1);L.appendChild(d);V(!0);O.push(c)}}};}).call(this);})();(function(){\\nfunction b(a){for(a=a.target||a.srcElement;a&&\"A\"!=a.nodeName;)a=a.parentElement;a&&(a.href||\"\").match(/\\\\/search.*[?&]tbm=isch/)&&(a.href+=\"&biw=\"+document.documentElement.clientWidth,a.href+=\"&bih=\"+document.documentElement.clientHeight)}document.addEventListener(\"click\",b,!1);document.addEventListener(\"touchStart\",b,!1);}).call(this);</script></div>']"
      ]
     },
     "execution_count": 196,
     "metadata": {},
     "output_type": "execute_result"
    }
   ],
   "source": [
    "str(soup.find('div', id='main')).split('American avocet')"
   ]
  },
  {
   "cell_type": "code",
   "execution_count": 190,
   "metadata": {
    "ExecuteTime": {
     "end_time": "2020-11-16T01:46:44.290010Z",
     "start_time": "2020-11-16T01:46:44.285304Z"
    }
   },
   "outputs": [],
   "source": [
    "def baike_crawler(s):\n",
    "    query = f\"{s} 中文\"\n",
    "    url = 'https://www.google.com/search?q=%s' % quote(query)\n",
    "    response = requests.get(url)\n",
    "    soup = BeautifulSoup(response.text)\n",
    "    baike_name = None\n",
    "    try:    \n",
    "        baike_name = str(soup.find('div', id='main')).split('_百度百科')[0][-20:].split('\">')[1]\n",
    "    except: \n",
    "        print(s)\n",
    "    if baike_name:\n",
    "        return baike_name\n",
    "    else:\n",
    "        return None"
   ]
  },
  {
   "cell_type": "code",
   "execution_count": 191,
   "metadata": {
    "ExecuteTime": {
     "end_time": "2020-11-16T01:48:12.305483Z",
     "start_time": "2020-11-16T01:46:45.873068Z"
    }
   },
   "outputs": [
    {
     "name": "stdout",
     "output_type": "stream",
     "text": [
      "American Avocet\n",
      "American Crow\n",
      "American Goldfinch\n",
      "American Kestrel\n",
      "Anna’s Hummingbird\n",
      "Atlantic Puffin\n",
      "Baird’s Sparrow\n",
      "Black Tern\n",
      "Black-Chinned Hummingbird\n",
      "Blue-Winged Warbler\n",
      "Bobolink\n",
      "Brant\n",
      "Brewer’s Blackbird\n",
      "Bronzed Cowbird\n",
      "Bushtit\n",
      "California Condor\n",
      "Canada Goose\n",
      "Canvasback\n",
      "Cassin’s Sparrow\n",
      "Cedar Waxwing\n",
      "Cerulean Warbler\n",
      "Chestnut-Collared Longspur\n",
      "Chimney Swift\n",
      "Clark’s Nutcracker\n",
      "Common Grackle\n",
      "Common Loon\n",
      "Common Nighthawk\n",
      "Dickcissel\n",
      "Downy Woodpecker\n",
      "Fish Crow\n",
      "Fish Crow\n",
      "Forster's Tern\n",
      "Forster’s Tern\n",
      "Franklin's Gull\n",
      "Franklin’s Gull\n",
      "Golden Eagle\n",
      "Golden Eagle\n"
     ]
    },
    {
     "ename": "KeyboardInterrupt",
     "evalue": "",
     "output_type": "error",
     "traceback": [
      "\u001b[0;31m---------------------------------------------------------------------------\u001b[0m",
      "\u001b[0;31mKeyboardInterrupt\u001b[0m                         Traceback (most recent call last)",
      "\u001b[0;32m<ipython-input-191-eb6156e5607a>\u001b[0m in \u001b[0;36m<module>\u001b[0;34m\u001b[0m\n\u001b[0;32m----> 1\u001b[0;31m \u001b[0mpd_df\u001b[0m\u001b[0;34m[\u001b[0m\u001b[0;34m'Chinese_Name_Baidu'\u001b[0m\u001b[0;34m]\u001b[0m \u001b[0;34m=\u001b[0m \u001b[0mpd_df\u001b[0m\u001b[0;34m[\u001b[0m\u001b[0;34m'English_Name'\u001b[0m\u001b[0;34m]\u001b[0m\u001b[0;34m.\u001b[0m\u001b[0mapply\u001b[0m\u001b[0;34m(\u001b[0m\u001b[0;32mlambda\u001b[0m \u001b[0mr\u001b[0m\u001b[0;34m:\u001b[0m \u001b[0mbaike_crawler\u001b[0m\u001b[0;34m(\u001b[0m\u001b[0mr\u001b[0m\u001b[0;34m)\u001b[0m\u001b[0;34m)\u001b[0m\u001b[0;34m\u001b[0m\u001b[0;34m\u001b[0m\u001b[0m\n\u001b[0m",
      "\u001b[0;32m~/opt/anaconda3/lib/python3.7/site-packages/pandas/core/series.py\u001b[0m in \u001b[0;36mapply\u001b[0;34m(self, func, convert_dtype, args, **kwds)\u001b[0m\n\u001b[1;32m   3846\u001b[0m             \u001b[0;32melse\u001b[0m\u001b[0;34m:\u001b[0m\u001b[0;34m\u001b[0m\u001b[0;34m\u001b[0m\u001b[0m\n\u001b[1;32m   3847\u001b[0m                 \u001b[0mvalues\u001b[0m \u001b[0;34m=\u001b[0m \u001b[0mself\u001b[0m\u001b[0;34m.\u001b[0m\u001b[0mastype\u001b[0m\u001b[0;34m(\u001b[0m\u001b[0mobject\u001b[0m\u001b[0;34m)\u001b[0m\u001b[0;34m.\u001b[0m\u001b[0mvalues\u001b[0m\u001b[0;34m\u001b[0m\u001b[0;34m\u001b[0m\u001b[0m\n\u001b[0;32m-> 3848\u001b[0;31m                 \u001b[0mmapped\u001b[0m \u001b[0;34m=\u001b[0m \u001b[0mlib\u001b[0m\u001b[0;34m.\u001b[0m\u001b[0mmap_infer\u001b[0m\u001b[0;34m(\u001b[0m\u001b[0mvalues\u001b[0m\u001b[0;34m,\u001b[0m \u001b[0mf\u001b[0m\u001b[0;34m,\u001b[0m \u001b[0mconvert\u001b[0m\u001b[0;34m=\u001b[0m\u001b[0mconvert_dtype\u001b[0m\u001b[0;34m)\u001b[0m\u001b[0;34m\u001b[0m\u001b[0;34m\u001b[0m\u001b[0m\n\u001b[0m\u001b[1;32m   3849\u001b[0m \u001b[0;34m\u001b[0m\u001b[0m\n\u001b[1;32m   3850\u001b[0m         \u001b[0;32mif\u001b[0m \u001b[0mlen\u001b[0m\u001b[0;34m(\u001b[0m\u001b[0mmapped\u001b[0m\u001b[0;34m)\u001b[0m \u001b[0;32mand\u001b[0m \u001b[0misinstance\u001b[0m\u001b[0;34m(\u001b[0m\u001b[0mmapped\u001b[0m\u001b[0;34m[\u001b[0m\u001b[0;36m0\u001b[0m\u001b[0;34m]\u001b[0m\u001b[0;34m,\u001b[0m \u001b[0mSeries\u001b[0m\u001b[0;34m)\u001b[0m\u001b[0;34m:\u001b[0m\u001b[0;34m\u001b[0m\u001b[0;34m\u001b[0m\u001b[0m\n",
      "\u001b[0;32mpandas/_libs/lib.pyx\u001b[0m in \u001b[0;36mpandas._libs.lib.map_infer\u001b[0;34m()\u001b[0m\n",
      "\u001b[0;32m<ipython-input-191-eb6156e5607a>\u001b[0m in \u001b[0;36m<lambda>\u001b[0;34m(r)\u001b[0m\n\u001b[0;32m----> 1\u001b[0;31m \u001b[0mpd_df\u001b[0m\u001b[0;34m[\u001b[0m\u001b[0;34m'Chinese_Name_Baidu'\u001b[0m\u001b[0;34m]\u001b[0m \u001b[0;34m=\u001b[0m \u001b[0mpd_df\u001b[0m\u001b[0;34m[\u001b[0m\u001b[0;34m'English_Name'\u001b[0m\u001b[0;34m]\u001b[0m\u001b[0;34m.\u001b[0m\u001b[0mapply\u001b[0m\u001b[0;34m(\u001b[0m\u001b[0;32mlambda\u001b[0m \u001b[0mr\u001b[0m\u001b[0;34m:\u001b[0m \u001b[0mbaike_crawler\u001b[0m\u001b[0;34m(\u001b[0m\u001b[0mr\u001b[0m\u001b[0;34m)\u001b[0m\u001b[0;34m)\u001b[0m\u001b[0;34m\u001b[0m\u001b[0;34m\u001b[0m\u001b[0m\n\u001b[0m",
      "\u001b[0;32m<ipython-input-190-2d12f9428c50>\u001b[0m in \u001b[0;36mbaike_crawler\u001b[0;34m(s)\u001b[0m\n\u001b[1;32m      2\u001b[0m     \u001b[0mquery\u001b[0m \u001b[0;34m=\u001b[0m \u001b[0;34mf\"{s} 中文\"\u001b[0m\u001b[0;34m\u001b[0m\u001b[0;34m\u001b[0m\u001b[0m\n\u001b[1;32m      3\u001b[0m     \u001b[0murl\u001b[0m \u001b[0;34m=\u001b[0m \u001b[0;34m'https://www.google.com/search?q=%s'\u001b[0m \u001b[0;34m%\u001b[0m \u001b[0mquote\u001b[0m\u001b[0;34m(\u001b[0m\u001b[0mquery\u001b[0m\u001b[0;34m)\u001b[0m\u001b[0;34m\u001b[0m\u001b[0;34m\u001b[0m\u001b[0m\n\u001b[0;32m----> 4\u001b[0;31m     \u001b[0mresponse\u001b[0m \u001b[0;34m=\u001b[0m \u001b[0mrequests\u001b[0m\u001b[0;34m.\u001b[0m\u001b[0mget\u001b[0m\u001b[0;34m(\u001b[0m\u001b[0murl\u001b[0m\u001b[0;34m)\u001b[0m\u001b[0;34m\u001b[0m\u001b[0;34m\u001b[0m\u001b[0m\n\u001b[0m\u001b[1;32m      5\u001b[0m     \u001b[0msoup\u001b[0m \u001b[0;34m=\u001b[0m \u001b[0mBeautifulSoup\u001b[0m\u001b[0;34m(\u001b[0m\u001b[0mresponse\u001b[0m\u001b[0;34m.\u001b[0m\u001b[0mtext\u001b[0m\u001b[0;34m)\u001b[0m\u001b[0;34m\u001b[0m\u001b[0;34m\u001b[0m\u001b[0m\n\u001b[1;32m      6\u001b[0m     \u001b[0mbaike_name\u001b[0m \u001b[0;34m=\u001b[0m \u001b[0;32mNone\u001b[0m\u001b[0;34m\u001b[0m\u001b[0;34m\u001b[0m\u001b[0m\n",
      "\u001b[0;32m~/opt/anaconda3/lib/python3.7/site-packages/requests/api.py\u001b[0m in \u001b[0;36mget\u001b[0;34m(url, params, **kwargs)\u001b[0m\n\u001b[1;32m     73\u001b[0m \u001b[0;34m\u001b[0m\u001b[0m\n\u001b[1;32m     74\u001b[0m     \u001b[0mkwargs\u001b[0m\u001b[0;34m.\u001b[0m\u001b[0msetdefault\u001b[0m\u001b[0;34m(\u001b[0m\u001b[0;34m'allow_redirects'\u001b[0m\u001b[0;34m,\u001b[0m \u001b[0;32mTrue\u001b[0m\u001b[0;34m)\u001b[0m\u001b[0;34m\u001b[0m\u001b[0;34m\u001b[0m\u001b[0m\n\u001b[0;32m---> 75\u001b[0;31m     \u001b[0;32mreturn\u001b[0m \u001b[0mrequest\u001b[0m\u001b[0;34m(\u001b[0m\u001b[0;34m'get'\u001b[0m\u001b[0;34m,\u001b[0m \u001b[0murl\u001b[0m\u001b[0;34m,\u001b[0m \u001b[0mparams\u001b[0m\u001b[0;34m=\u001b[0m\u001b[0mparams\u001b[0m\u001b[0;34m,\u001b[0m \u001b[0;34m**\u001b[0m\u001b[0mkwargs\u001b[0m\u001b[0;34m)\u001b[0m\u001b[0;34m\u001b[0m\u001b[0;34m\u001b[0m\u001b[0m\n\u001b[0m\u001b[1;32m     76\u001b[0m \u001b[0;34m\u001b[0m\u001b[0m\n\u001b[1;32m     77\u001b[0m \u001b[0;34m\u001b[0m\u001b[0m\n",
      "\u001b[0;32m~/opt/anaconda3/lib/python3.7/site-packages/requests/api.py\u001b[0m in \u001b[0;36mrequest\u001b[0;34m(method, url, **kwargs)\u001b[0m\n\u001b[1;32m     58\u001b[0m     \u001b[0;31m# cases, and look like a memory leak in others.\u001b[0m\u001b[0;34m\u001b[0m\u001b[0;34m\u001b[0m\u001b[0;34m\u001b[0m\u001b[0m\n\u001b[1;32m     59\u001b[0m     \u001b[0;32mwith\u001b[0m \u001b[0msessions\u001b[0m\u001b[0;34m.\u001b[0m\u001b[0mSession\u001b[0m\u001b[0;34m(\u001b[0m\u001b[0;34m)\u001b[0m \u001b[0;32mas\u001b[0m \u001b[0msession\u001b[0m\u001b[0;34m:\u001b[0m\u001b[0;34m\u001b[0m\u001b[0;34m\u001b[0m\u001b[0m\n\u001b[0;32m---> 60\u001b[0;31m         \u001b[0;32mreturn\u001b[0m \u001b[0msession\u001b[0m\u001b[0;34m.\u001b[0m\u001b[0mrequest\u001b[0m\u001b[0;34m(\u001b[0m\u001b[0mmethod\u001b[0m\u001b[0;34m=\u001b[0m\u001b[0mmethod\u001b[0m\u001b[0;34m,\u001b[0m \u001b[0murl\u001b[0m\u001b[0;34m=\u001b[0m\u001b[0murl\u001b[0m\u001b[0;34m,\u001b[0m \u001b[0;34m**\u001b[0m\u001b[0mkwargs\u001b[0m\u001b[0;34m)\u001b[0m\u001b[0;34m\u001b[0m\u001b[0;34m\u001b[0m\u001b[0m\n\u001b[0m\u001b[1;32m     61\u001b[0m \u001b[0;34m\u001b[0m\u001b[0m\n\u001b[1;32m     62\u001b[0m \u001b[0;34m\u001b[0m\u001b[0m\n",
      "\u001b[0;32m~/opt/anaconda3/lib/python3.7/site-packages/requests/sessions.py\u001b[0m in \u001b[0;36mrequest\u001b[0;34m(self, method, url, params, data, headers, cookies, files, auth, timeout, allow_redirects, proxies, hooks, stream, verify, cert, json)\u001b[0m\n\u001b[1;32m    531\u001b[0m         }\n\u001b[1;32m    532\u001b[0m         \u001b[0msend_kwargs\u001b[0m\u001b[0;34m.\u001b[0m\u001b[0mupdate\u001b[0m\u001b[0;34m(\u001b[0m\u001b[0msettings\u001b[0m\u001b[0;34m)\u001b[0m\u001b[0;34m\u001b[0m\u001b[0;34m\u001b[0m\u001b[0m\n\u001b[0;32m--> 533\u001b[0;31m         \u001b[0mresp\u001b[0m \u001b[0;34m=\u001b[0m \u001b[0mself\u001b[0m\u001b[0;34m.\u001b[0m\u001b[0msend\u001b[0m\u001b[0;34m(\u001b[0m\u001b[0mprep\u001b[0m\u001b[0;34m,\u001b[0m \u001b[0;34m**\u001b[0m\u001b[0msend_kwargs\u001b[0m\u001b[0;34m)\u001b[0m\u001b[0;34m\u001b[0m\u001b[0;34m\u001b[0m\u001b[0m\n\u001b[0m\u001b[1;32m    534\u001b[0m \u001b[0;34m\u001b[0m\u001b[0m\n\u001b[1;32m    535\u001b[0m         \u001b[0;32mreturn\u001b[0m \u001b[0mresp\u001b[0m\u001b[0;34m\u001b[0m\u001b[0;34m\u001b[0m\u001b[0m\n",
      "\u001b[0;32m~/opt/anaconda3/lib/python3.7/site-packages/requests/sessions.py\u001b[0m in \u001b[0;36msend\u001b[0;34m(self, request, **kwargs)\u001b[0m\n\u001b[1;32m    684\u001b[0m \u001b[0;34m\u001b[0m\u001b[0m\n\u001b[1;32m    685\u001b[0m         \u001b[0;32mif\u001b[0m \u001b[0;32mnot\u001b[0m \u001b[0mstream\u001b[0m\u001b[0;34m:\u001b[0m\u001b[0;34m\u001b[0m\u001b[0;34m\u001b[0m\u001b[0m\n\u001b[0;32m--> 686\u001b[0;31m             \u001b[0mr\u001b[0m\u001b[0;34m.\u001b[0m\u001b[0mcontent\u001b[0m\u001b[0;34m\u001b[0m\u001b[0;34m\u001b[0m\u001b[0m\n\u001b[0m\u001b[1;32m    687\u001b[0m \u001b[0;34m\u001b[0m\u001b[0m\n\u001b[1;32m    688\u001b[0m         \u001b[0;32mreturn\u001b[0m \u001b[0mr\u001b[0m\u001b[0;34m\u001b[0m\u001b[0;34m\u001b[0m\u001b[0m\n",
      "\u001b[0;32m~/opt/anaconda3/lib/python3.7/site-packages/requests/models.py\u001b[0m in \u001b[0;36mcontent\u001b[0;34m(self)\u001b[0m\n\u001b[1;32m    826\u001b[0m                 \u001b[0mself\u001b[0m\u001b[0;34m.\u001b[0m\u001b[0m_content\u001b[0m \u001b[0;34m=\u001b[0m \u001b[0;32mNone\u001b[0m\u001b[0;34m\u001b[0m\u001b[0;34m\u001b[0m\u001b[0m\n\u001b[1;32m    827\u001b[0m             \u001b[0;32melse\u001b[0m\u001b[0;34m:\u001b[0m\u001b[0;34m\u001b[0m\u001b[0;34m\u001b[0m\u001b[0m\n\u001b[0;32m--> 828\u001b[0;31m                 \u001b[0mself\u001b[0m\u001b[0;34m.\u001b[0m\u001b[0m_content\u001b[0m \u001b[0;34m=\u001b[0m \u001b[0;34mb''\u001b[0m\u001b[0;34m.\u001b[0m\u001b[0mjoin\u001b[0m\u001b[0;34m(\u001b[0m\u001b[0mself\u001b[0m\u001b[0;34m.\u001b[0m\u001b[0miter_content\u001b[0m\u001b[0;34m(\u001b[0m\u001b[0mCONTENT_CHUNK_SIZE\u001b[0m\u001b[0;34m)\u001b[0m\u001b[0;34m)\u001b[0m \u001b[0;32mor\u001b[0m \u001b[0;34mb''\u001b[0m\u001b[0;34m\u001b[0m\u001b[0;34m\u001b[0m\u001b[0m\n\u001b[0m\u001b[1;32m    829\u001b[0m \u001b[0;34m\u001b[0m\u001b[0m\n\u001b[1;32m    830\u001b[0m         \u001b[0mself\u001b[0m\u001b[0;34m.\u001b[0m\u001b[0m_content_consumed\u001b[0m \u001b[0;34m=\u001b[0m \u001b[0;32mTrue\u001b[0m\u001b[0;34m\u001b[0m\u001b[0;34m\u001b[0m\u001b[0m\n",
      "\u001b[0;32m~/opt/anaconda3/lib/python3.7/site-packages/requests/models.py\u001b[0m in \u001b[0;36mgenerate\u001b[0;34m()\u001b[0m\n\u001b[1;32m    748\u001b[0m             \u001b[0;32mif\u001b[0m \u001b[0mhasattr\u001b[0m\u001b[0;34m(\u001b[0m\u001b[0mself\u001b[0m\u001b[0;34m.\u001b[0m\u001b[0mraw\u001b[0m\u001b[0;34m,\u001b[0m \u001b[0;34m'stream'\u001b[0m\u001b[0;34m)\u001b[0m\u001b[0;34m:\u001b[0m\u001b[0;34m\u001b[0m\u001b[0;34m\u001b[0m\u001b[0m\n\u001b[1;32m    749\u001b[0m                 \u001b[0;32mtry\u001b[0m\u001b[0;34m:\u001b[0m\u001b[0;34m\u001b[0m\u001b[0;34m\u001b[0m\u001b[0m\n\u001b[0;32m--> 750\u001b[0;31m                     \u001b[0;32mfor\u001b[0m \u001b[0mchunk\u001b[0m \u001b[0;32min\u001b[0m \u001b[0mself\u001b[0m\u001b[0;34m.\u001b[0m\u001b[0mraw\u001b[0m\u001b[0;34m.\u001b[0m\u001b[0mstream\u001b[0m\u001b[0;34m(\u001b[0m\u001b[0mchunk_size\u001b[0m\u001b[0;34m,\u001b[0m \u001b[0mdecode_content\u001b[0m\u001b[0;34m=\u001b[0m\u001b[0;32mTrue\u001b[0m\u001b[0;34m)\u001b[0m\u001b[0;34m:\u001b[0m\u001b[0;34m\u001b[0m\u001b[0;34m\u001b[0m\u001b[0m\n\u001b[0m\u001b[1;32m    751\u001b[0m                         \u001b[0;32myield\u001b[0m \u001b[0mchunk\u001b[0m\u001b[0;34m\u001b[0m\u001b[0;34m\u001b[0m\u001b[0m\n\u001b[1;32m    752\u001b[0m                 \u001b[0;32mexcept\u001b[0m \u001b[0mProtocolError\u001b[0m \u001b[0;32mas\u001b[0m \u001b[0me\u001b[0m\u001b[0;34m:\u001b[0m\u001b[0;34m\u001b[0m\u001b[0;34m\u001b[0m\u001b[0m\n",
      "\u001b[0;32m~/opt/anaconda3/lib/python3.7/site-packages/urllib3/response.py\u001b[0m in \u001b[0;36mstream\u001b[0;34m(self, amt, decode_content)\u001b[0m\n\u001b[1;32m    558\u001b[0m         \"\"\"\n\u001b[1;32m    559\u001b[0m         \u001b[0;32mif\u001b[0m \u001b[0mself\u001b[0m\u001b[0;34m.\u001b[0m\u001b[0mchunked\u001b[0m \u001b[0;32mand\u001b[0m \u001b[0mself\u001b[0m\u001b[0;34m.\u001b[0m\u001b[0msupports_chunked_reads\u001b[0m\u001b[0;34m(\u001b[0m\u001b[0;34m)\u001b[0m\u001b[0;34m:\u001b[0m\u001b[0;34m\u001b[0m\u001b[0;34m\u001b[0m\u001b[0m\n\u001b[0;32m--> 560\u001b[0;31m             \u001b[0;32mfor\u001b[0m \u001b[0mline\u001b[0m \u001b[0;32min\u001b[0m \u001b[0mself\u001b[0m\u001b[0;34m.\u001b[0m\u001b[0mread_chunked\u001b[0m\u001b[0;34m(\u001b[0m\u001b[0mamt\u001b[0m\u001b[0;34m,\u001b[0m \u001b[0mdecode_content\u001b[0m\u001b[0;34m=\u001b[0m\u001b[0mdecode_content\u001b[0m\u001b[0;34m)\u001b[0m\u001b[0;34m:\u001b[0m\u001b[0;34m\u001b[0m\u001b[0;34m\u001b[0m\u001b[0m\n\u001b[0m\u001b[1;32m    561\u001b[0m                 \u001b[0;32myield\u001b[0m \u001b[0mline\u001b[0m\u001b[0;34m\u001b[0m\u001b[0;34m\u001b[0m\u001b[0m\n\u001b[1;32m    562\u001b[0m         \u001b[0;32melse\u001b[0m\u001b[0;34m:\u001b[0m\u001b[0;34m\u001b[0m\u001b[0;34m\u001b[0m\u001b[0m\n",
      "\u001b[0;32m~/opt/anaconda3/lib/python3.7/site-packages/urllib3/response.py\u001b[0m in \u001b[0;36mread_chunked\u001b[0;34m(self, amt, decode_content)\u001b[0m\n\u001b[1;32m    750\u001b[0m \u001b[0;34m\u001b[0m\u001b[0m\n\u001b[1;32m    751\u001b[0m             \u001b[0;32mwhile\u001b[0m \u001b[0;32mTrue\u001b[0m\u001b[0;34m:\u001b[0m\u001b[0;34m\u001b[0m\u001b[0;34m\u001b[0m\u001b[0m\n\u001b[0;32m--> 752\u001b[0;31m                 \u001b[0mself\u001b[0m\u001b[0;34m.\u001b[0m\u001b[0m_update_chunk_length\u001b[0m\u001b[0;34m(\u001b[0m\u001b[0;34m)\u001b[0m\u001b[0;34m\u001b[0m\u001b[0;34m\u001b[0m\u001b[0m\n\u001b[0m\u001b[1;32m    753\u001b[0m                 \u001b[0;32mif\u001b[0m \u001b[0mself\u001b[0m\u001b[0;34m.\u001b[0m\u001b[0mchunk_left\u001b[0m \u001b[0;34m==\u001b[0m \u001b[0;36m0\u001b[0m\u001b[0;34m:\u001b[0m\u001b[0;34m\u001b[0m\u001b[0;34m\u001b[0m\u001b[0m\n\u001b[1;32m    754\u001b[0m                     \u001b[0;32mbreak\u001b[0m\u001b[0;34m\u001b[0m\u001b[0;34m\u001b[0m\u001b[0m\n",
      "\u001b[0;32m~/opt/anaconda3/lib/python3.7/site-packages/urllib3/response.py\u001b[0m in \u001b[0;36m_update_chunk_length\u001b[0;34m(self)\u001b[0m\n\u001b[1;32m    680\u001b[0m         \u001b[0;32mif\u001b[0m \u001b[0mself\u001b[0m\u001b[0;34m.\u001b[0m\u001b[0mchunk_left\u001b[0m \u001b[0;32mis\u001b[0m \u001b[0;32mnot\u001b[0m \u001b[0;32mNone\u001b[0m\u001b[0;34m:\u001b[0m\u001b[0;34m\u001b[0m\u001b[0;34m\u001b[0m\u001b[0m\n\u001b[1;32m    681\u001b[0m             \u001b[0;32mreturn\u001b[0m\u001b[0;34m\u001b[0m\u001b[0;34m\u001b[0m\u001b[0m\n\u001b[0;32m--> 682\u001b[0;31m         \u001b[0mline\u001b[0m \u001b[0;34m=\u001b[0m \u001b[0mself\u001b[0m\u001b[0;34m.\u001b[0m\u001b[0m_fp\u001b[0m\u001b[0;34m.\u001b[0m\u001b[0mfp\u001b[0m\u001b[0;34m.\u001b[0m\u001b[0mreadline\u001b[0m\u001b[0;34m(\u001b[0m\u001b[0;34m)\u001b[0m\u001b[0;34m\u001b[0m\u001b[0;34m\u001b[0m\u001b[0m\n\u001b[0m\u001b[1;32m    683\u001b[0m         \u001b[0mline\u001b[0m \u001b[0;34m=\u001b[0m \u001b[0mline\u001b[0m\u001b[0;34m.\u001b[0m\u001b[0msplit\u001b[0m\u001b[0;34m(\u001b[0m\u001b[0;34mb\";\"\u001b[0m\u001b[0;34m,\u001b[0m \u001b[0;36m1\u001b[0m\u001b[0;34m)\u001b[0m\u001b[0;34m[\u001b[0m\u001b[0;36m0\u001b[0m\u001b[0;34m]\u001b[0m\u001b[0;34m\u001b[0m\u001b[0;34m\u001b[0m\u001b[0m\n\u001b[1;32m    684\u001b[0m         \u001b[0;32mtry\u001b[0m\u001b[0;34m:\u001b[0m\u001b[0;34m\u001b[0m\u001b[0;34m\u001b[0m\u001b[0m\n",
      "\u001b[0;32m~/opt/anaconda3/lib/python3.7/socket.py\u001b[0m in \u001b[0;36mreadinto\u001b[0;34m(self, b)\u001b[0m\n\u001b[1;32m    587\u001b[0m         \u001b[0;32mwhile\u001b[0m \u001b[0;32mTrue\u001b[0m\u001b[0;34m:\u001b[0m\u001b[0;34m\u001b[0m\u001b[0;34m\u001b[0m\u001b[0m\n\u001b[1;32m    588\u001b[0m             \u001b[0;32mtry\u001b[0m\u001b[0;34m:\u001b[0m\u001b[0;34m\u001b[0m\u001b[0;34m\u001b[0m\u001b[0m\n\u001b[0;32m--> 589\u001b[0;31m                 \u001b[0;32mreturn\u001b[0m \u001b[0mself\u001b[0m\u001b[0;34m.\u001b[0m\u001b[0m_sock\u001b[0m\u001b[0;34m.\u001b[0m\u001b[0mrecv_into\u001b[0m\u001b[0;34m(\u001b[0m\u001b[0mb\u001b[0m\u001b[0;34m)\u001b[0m\u001b[0;34m\u001b[0m\u001b[0;34m\u001b[0m\u001b[0m\n\u001b[0m\u001b[1;32m    590\u001b[0m             \u001b[0;32mexcept\u001b[0m \u001b[0mtimeout\u001b[0m\u001b[0;34m:\u001b[0m\u001b[0;34m\u001b[0m\u001b[0;34m\u001b[0m\u001b[0m\n\u001b[1;32m    591\u001b[0m                 \u001b[0mself\u001b[0m\u001b[0;34m.\u001b[0m\u001b[0m_timeout_occurred\u001b[0m \u001b[0;34m=\u001b[0m \u001b[0;32mTrue\u001b[0m\u001b[0;34m\u001b[0m\u001b[0;34m\u001b[0m\u001b[0m\n",
      "\u001b[0;32m~/opt/anaconda3/lib/python3.7/site-packages/urllib3/contrib/pyopenssl.py\u001b[0m in \u001b[0;36mrecv_into\u001b[0;34m(self, *args, **kwargs)\u001b[0m\n\u001b[1;32m    311\u001b[0m     \u001b[0;32mdef\u001b[0m \u001b[0mrecv_into\u001b[0m\u001b[0;34m(\u001b[0m\u001b[0mself\u001b[0m\u001b[0;34m,\u001b[0m \u001b[0;34m*\u001b[0m\u001b[0margs\u001b[0m\u001b[0;34m,\u001b[0m \u001b[0;34m**\u001b[0m\u001b[0mkwargs\u001b[0m\u001b[0;34m)\u001b[0m\u001b[0;34m:\u001b[0m\u001b[0;34m\u001b[0m\u001b[0;34m\u001b[0m\u001b[0m\n\u001b[1;32m    312\u001b[0m         \u001b[0;32mtry\u001b[0m\u001b[0;34m:\u001b[0m\u001b[0;34m\u001b[0m\u001b[0;34m\u001b[0m\u001b[0m\n\u001b[0;32m--> 313\u001b[0;31m             \u001b[0;32mreturn\u001b[0m \u001b[0mself\u001b[0m\u001b[0;34m.\u001b[0m\u001b[0mconnection\u001b[0m\u001b[0;34m.\u001b[0m\u001b[0mrecv_into\u001b[0m\u001b[0;34m(\u001b[0m\u001b[0;34m*\u001b[0m\u001b[0margs\u001b[0m\u001b[0;34m,\u001b[0m \u001b[0;34m**\u001b[0m\u001b[0mkwargs\u001b[0m\u001b[0;34m)\u001b[0m\u001b[0;34m\u001b[0m\u001b[0;34m\u001b[0m\u001b[0m\n\u001b[0m\u001b[1;32m    314\u001b[0m         \u001b[0;32mexcept\u001b[0m \u001b[0mOpenSSL\u001b[0m\u001b[0;34m.\u001b[0m\u001b[0mSSL\u001b[0m\u001b[0;34m.\u001b[0m\u001b[0mSysCallError\u001b[0m \u001b[0;32mas\u001b[0m \u001b[0me\u001b[0m\u001b[0;34m:\u001b[0m\u001b[0;34m\u001b[0m\u001b[0;34m\u001b[0m\u001b[0m\n\u001b[1;32m    315\u001b[0m             \u001b[0;32mif\u001b[0m \u001b[0mself\u001b[0m\u001b[0;34m.\u001b[0m\u001b[0msuppress_ragged_eofs\u001b[0m \u001b[0;32mand\u001b[0m \u001b[0me\u001b[0m\u001b[0;34m.\u001b[0m\u001b[0margs\u001b[0m \u001b[0;34m==\u001b[0m \u001b[0;34m(\u001b[0m\u001b[0;34m-\u001b[0m\u001b[0;36m1\u001b[0m\u001b[0;34m,\u001b[0m \u001b[0;34m\"Unexpected EOF\"\u001b[0m\u001b[0;34m)\u001b[0m\u001b[0;34m:\u001b[0m\u001b[0;34m\u001b[0m\u001b[0;34m\u001b[0m\u001b[0m\n",
      "\u001b[0;32m~/opt/anaconda3/lib/python3.7/site-packages/OpenSSL/SSL.py\u001b[0m in \u001b[0;36mrecv_into\u001b[0;34m(self, buffer, nbytes, flags)\u001b[0m\n\u001b[1;32m   1837\u001b[0m             \u001b[0mresult\u001b[0m \u001b[0;34m=\u001b[0m \u001b[0m_lib\u001b[0m\u001b[0;34m.\u001b[0m\u001b[0mSSL_peek\u001b[0m\u001b[0;34m(\u001b[0m\u001b[0mself\u001b[0m\u001b[0;34m.\u001b[0m\u001b[0m_ssl\u001b[0m\u001b[0;34m,\u001b[0m \u001b[0mbuf\u001b[0m\u001b[0;34m,\u001b[0m \u001b[0mnbytes\u001b[0m\u001b[0;34m)\u001b[0m\u001b[0;34m\u001b[0m\u001b[0;34m\u001b[0m\u001b[0m\n\u001b[1;32m   1838\u001b[0m         \u001b[0;32melse\u001b[0m\u001b[0;34m:\u001b[0m\u001b[0;34m\u001b[0m\u001b[0;34m\u001b[0m\u001b[0m\n\u001b[0;32m-> 1839\u001b[0;31m             \u001b[0mresult\u001b[0m \u001b[0;34m=\u001b[0m \u001b[0m_lib\u001b[0m\u001b[0;34m.\u001b[0m\u001b[0mSSL_read\u001b[0m\u001b[0;34m(\u001b[0m\u001b[0mself\u001b[0m\u001b[0;34m.\u001b[0m\u001b[0m_ssl\u001b[0m\u001b[0;34m,\u001b[0m \u001b[0mbuf\u001b[0m\u001b[0;34m,\u001b[0m \u001b[0mnbytes\u001b[0m\u001b[0;34m)\u001b[0m\u001b[0;34m\u001b[0m\u001b[0;34m\u001b[0m\u001b[0m\n\u001b[0m\u001b[1;32m   1840\u001b[0m         \u001b[0mself\u001b[0m\u001b[0;34m.\u001b[0m\u001b[0m_raise_ssl_error\u001b[0m\u001b[0;34m(\u001b[0m\u001b[0mself\u001b[0m\u001b[0;34m.\u001b[0m\u001b[0m_ssl\u001b[0m\u001b[0;34m,\u001b[0m \u001b[0mresult\u001b[0m\u001b[0;34m)\u001b[0m\u001b[0;34m\u001b[0m\u001b[0;34m\u001b[0m\u001b[0m\n\u001b[1;32m   1841\u001b[0m \u001b[0;34m\u001b[0m\u001b[0m\n",
      "\u001b[0;31mKeyboardInterrupt\u001b[0m: "
     ]
    }
   ],
   "source": [
    "pd_df['Chinese_Name_Baidu'] = pd_df['English_Name'].apply(lambda r: baike_crawler(r))"
   ]
  },
  {
   "cell_type": "code",
   "execution_count": 205,
   "metadata": {
    "ExecuteTime": {
     "end_time": "2020-11-16T02:07:09.312590Z",
     "start_time": "2020-11-16T02:07:02.899677Z"
    }
   },
   "outputs": [
    {
     "name": "stdout",
     "output_type": "stream",
     "text": [
      "Collecting translators\n",
      "  Downloading translators-4.7.9-py3-none-any.whl (17 kB)\n",
      "Collecting PyExecJS>=1.5.1\n",
      "  Downloading PyExecJS-1.5.1.tar.gz (13 kB)\n",
      "Requirement already satisfied: requests>=2.23.0 in ./opt/anaconda3/lib/python3.7/site-packages (from translators) (2.24.0)\n",
      "Requirement already satisfied: lxml>=4.5.0 in ./opt/anaconda3/lib/python3.7/site-packages (from translators) (4.5.0)\n",
      "Collecting loguru>=0.4.1\n",
      "  Downloading loguru-0.5.3-py3-none-any.whl (57 kB)\n",
      "\u001b[K     |████████████████████████████████| 57 kB 1.3 MB/s eta 0:00:01\n",
      "\u001b[?25hRequirement already satisfied: six>=1.10.0 in ./opt/anaconda3/lib/python3.7/site-packages (from PyExecJS>=1.5.1->translators) (1.14.0)\n",
      "Requirement already satisfied: chardet<4,>=3.0.2 in ./opt/anaconda3/lib/python3.7/site-packages (from requests>=2.23.0->translators) (3.0.4)\n",
      "Requirement already satisfied: urllib3!=1.25.0,!=1.25.1,<1.26,>=1.21.1 in ./opt/anaconda3/lib/python3.7/site-packages (from requests>=2.23.0->translators) (1.25.8)\n",
      "Requirement already satisfied: certifi>=2017.4.17 in ./opt/anaconda3/lib/python3.7/site-packages (from requests>=2.23.0->translators) (2020.6.20)\n",
      "Requirement already satisfied: idna<3,>=2.5 in ./opt/anaconda3/lib/python3.7/site-packages (from requests>=2.23.0->translators) (2.10)\n",
      "Building wheels for collected packages: PyExecJS\n",
      "  Building wheel for PyExecJS (setup.py) ... \u001b[?25ldone\n",
      "\u001b[?25h  Created wheel for PyExecJS: filename=PyExecJS-1.5.1-py3-none-any.whl size=14588 sha256=b08dfbd6f16d895af2ff6ff78831fed0314c68e8e1ff48219eb9a4e4a3c3a375\n",
      "  Stored in directory: /Users/hluan/Library/Caches/pip/wheels/9a/ee/03/da5c0b4a8c13362beeb844eb913bbe58a89bde1de2b9157007\n",
      "Successfully built PyExecJS\n",
      "Installing collected packages: PyExecJS, loguru, translators\n",
      "Successfully installed PyExecJS-1.5.1 loguru-0.5.3 translators-4.7.9\n",
      "Note: you may need to restart the kernel to use updated packages.\n"
     ]
    }
   ],
   "source": [
    "pip install translators"
   ]
  },
  {
   "cell_type": "code",
   "execution_count": 206,
   "metadata": {
    "ExecuteTime": {
     "end_time": "2020-11-16T02:08:01.351203Z",
     "start_time": "2020-11-16T02:08:00.953574Z"
    }
   },
   "outputs": [
    {
     "name": "stderr",
     "output_type": "stream",
     "text": [
      "Using United States server backend.\n"
     ]
    }
   ],
   "source": [
    "import translators as ts"
   ]
  },
  {
   "cell_type": "code",
   "execution_count": 219,
   "metadata": {
    "ExecuteTime": {
     "end_time": "2020-11-16T02:32:45.821222Z",
     "start_time": "2020-11-16T02:32:44.749469Z"
    }
   },
   "outputs": [
    {
     "data": {
      "text/plain": [
       "'鸟美国卤汁'"
      ]
     },
     "execution_count": 219,
     "metadata": {},
     "output_type": "execute_result"
    }
   ],
   "source": [
    "ts.google('bird American Bittern', to_language='zh')"
   ]
  },
  {
   "cell_type": "code",
   "execution_count": null,
   "metadata": {},
   "outputs": [],
   "source": []
  }
 ],
 "metadata": {
  "kernelspec": {
   "display_name": "Python 3",
   "language": "python",
   "name": "python3"
  },
  "language_info": {
   "codemirror_mode": {
    "name": "ipython",
    "version": 3
   },
   "file_extension": ".py",
   "mimetype": "text/x-python",
   "name": "python",
   "nbconvert_exporter": "python",
   "pygments_lexer": "ipython3",
   "version": "3.7.6"
  },
  "latex_envs": {
   "LaTeX_envs_menu_present": true,
   "autoclose": true,
   "autocomplete": true,
   "bibliofile": "biblio.bib",
   "cite_by": "apalike",
   "current_citInitial": 1,
   "eqLabelWithNumbers": true,
   "eqNumInitial": 1,
   "hotkeys": {
    "equation": "Ctrl-E",
    "itemize": "Ctrl-I"
   },
   "labels_anchors": false,
   "latex_user_defs": false,
   "report_style_numbering": false,
   "user_envs_cfg": false
  },
  "toc": {
   "base_numbering": 1,
   "nav_menu": {},
   "number_sections": true,
   "sideBar": true,
   "skip_h1_title": true,
   "title_cell": "Table of Contents",
   "title_sidebar": "Contents",
   "toc_cell": true,
   "toc_position": {},
   "toc_section_display": true,
   "toc_window_display": false
  },
  "varInspector": {
   "cols": {
    "lenName": 16,
    "lenType": 16,
    "lenVar": 40
   },
   "kernels_config": {
    "python": {
     "delete_cmd_postfix": "",
     "delete_cmd_prefix": "del ",
     "library": "var_list.py",
     "varRefreshCmd": "print(var_dic_list())"
    },
    "r": {
     "delete_cmd_postfix": ") ",
     "delete_cmd_prefix": "rm(",
     "library": "var_list.r",
     "varRefreshCmd": "cat(var_dic_list()) "
    }
   },
   "types_to_exclude": [
    "module",
    "function",
    "builtin_function_or_method",
    "instance",
    "_Feature"
   ],
   "window_display": false
  }
 },
 "nbformat": 4,
 "nbformat_minor": 4
}
